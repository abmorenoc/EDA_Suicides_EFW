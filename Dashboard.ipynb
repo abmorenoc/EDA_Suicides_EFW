{
 "cells": [
  {
   "cell_type": "code",
   "execution_count": 1,
   "metadata": {
    "tags": [
     "parameters"
    ]
   },
   "outputs": [],
   "source": [
    "flex_orientation = \"rows\""
   ]
  },
  {
   "cell_type": "code",
   "execution_count": 7,
   "metadata": {},
   "outputs": [],
   "source": [
    "import plotly.express as px\n",
    "import plotly.graph_objects as go\n",
    "import pandas as pd\n"
   ]
  },
  {
   "cell_type": "code",
   "execution_count": 8,
   "metadata": {},
   "outputs": [],
   "source": [
    "data = pd.read_csv('efw_suicides_rate.csv')"
   ]
  },
  {
   "cell_type": "markdown",
   "metadata": {},
   "source": [
    "## Column 1"
   ]
  },
  {
   "cell_type": "markdown",
   "metadata": {},
   "source": [
    "### Numero de suicidios vs libertad economica"
   ]
  },
  {
   "cell_type": "code",
   "execution_count": 9,
   "metadata": {
    "scrolled": true,
    "tags": [
     "body"
    ]
   },
   "outputs": [
    {
     "data": {
      "application/vnd.plotly.v1+json": {
       "config": {
        "plotlyServerURL": "https://plot.ly"
       },
       "data": [
        {
         "customdata": [
          [
           "Albania",
           2005
          ],
          [
           "Albania",
           2006
          ],
          [
           "Albania",
           2007
          ],
          [
           "Albania",
           2008
          ],
          [
           "Albania",
           2009
          ],
          [
           "Albania",
           2010
          ],
          [
           "Albania",
           2011
          ],
          [
           "Albania",
           2012
          ],
          [
           "Albania",
           2013
          ],
          [
           "Albania",
           2014
          ],
          [
           "Albania",
           2015
          ],
          [
           "Argentina",
           1980
          ],
          [
           "Argentina",
           1985
          ],
          [
           "Argentina",
           1990
          ],
          [
           "Argentina",
           1995
          ],
          [
           "Argentina",
           2000
          ],
          [
           "Argentina",
           2001
          ],
          [
           "Argentina",
           2002
          ],
          [
           "Argentina",
           2003
          ],
          [
           "Argentina",
           2004
          ],
          [
           "Argentina",
           2005
          ],
          [
           "Argentina",
           2006
          ],
          [
           "Argentina",
           2007
          ],
          [
           "Argentina",
           2008
          ],
          [
           "Argentina",
           2009
          ],
          [
           "Argentina",
           2010
          ],
          [
           "Argentina",
           2011
          ],
          [
           "Argentina",
           2012
          ],
          [
           "Argentina",
           2013
          ],
          [
           "Argentina",
           2014
          ],
          [
           "Argentina",
           2015
          ],
          [
           "Armenia",
           1985
          ],
          [
           "Armenia",
           1990
          ],
          [
           "Armenia",
           1995
          ],
          [
           "Armenia",
           2000
          ],
          [
           "Armenia",
           2001
          ],
          [
           "Armenia",
           2002
          ],
          [
           "Armenia",
           2003
          ],
          [
           "Armenia",
           2004
          ],
          [
           "Armenia",
           2005
          ],
          [
           "Armenia",
           2006
          ],
          [
           "Armenia",
           2007
          ],
          [
           "Armenia",
           2008
          ],
          [
           "Armenia",
           2009
          ],
          [
           "Armenia",
           2010
          ],
          [
           "Armenia",
           2011
          ],
          [
           "Armenia",
           2012
          ],
          [
           "Armenia",
           2013
          ],
          [
           "Armenia",
           2014
          ],
          [
           "Armenia",
           2015
          ],
          [
           "Armenia",
           2016
          ],
          [
           "Australia",
           1980
          ],
          [
           "Australia",
           1985
          ],
          [
           "Australia",
           1990
          ],
          [
           "Australia",
           1995
          ],
          [
           "Australia",
           2000
          ],
          [
           "Australia",
           2001
          ],
          [
           "Australia",
           2002
          ],
          [
           "Australia",
           2003
          ],
          [
           "Australia",
           2004
          ],
          [
           "Australia",
           2005
          ],
          [
           "Australia",
           2006
          ],
          [
           "Australia",
           2007
          ],
          [
           "Australia",
           2008
          ],
          [
           "Australia",
           2009
          ],
          [
           "Australia",
           2010
          ],
          [
           "Australia",
           2011
          ],
          [
           "Australia",
           2012
          ],
          [
           "Australia",
           2013
          ],
          [
           "Australia",
           2014
          ],
          [
           "Australia",
           2015
          ],
          [
           "Austria",
           1980
          ],
          [
           "Austria",
           1985
          ],
          [
           "Austria",
           1990
          ],
          [
           "Austria",
           1995
          ],
          [
           "Austria",
           2000
          ],
          [
           "Austria",
           2001
          ],
          [
           "Austria",
           2002
          ],
          [
           "Austria",
           2003
          ],
          [
           "Austria",
           2004
          ],
          [
           "Austria",
           2005
          ],
          [
           "Austria",
           2006
          ],
          [
           "Austria",
           2007
          ],
          [
           "Austria",
           2008
          ],
          [
           "Austria",
           2009
          ],
          [
           "Austria",
           2010
          ],
          [
           "Austria",
           2011
          ],
          [
           "Austria",
           2012
          ],
          [
           "Austria",
           2013
          ],
          [
           "Austria",
           2014
          ],
          [
           "Austria",
           2015
          ],
          [
           "Austria",
           2016
          ],
          [
           "Azerbaijan",
           1985
          ],
          [
           "Azerbaijan",
           1990
          ],
          [
           "Azerbaijan",
           1995
          ],
          [
           "Azerbaijan",
           2000
          ],
          [
           "Azerbaijan",
           2001
          ],
          [
           "Azerbaijan",
           2002
          ],
          [
           "Azerbaijan",
           2003
          ],
          [
           "Azerbaijan",
           2004
          ],
          [
           "Azerbaijan",
           2005
          ],
          [
           "Azerbaijan",
           2007
          ],
          [
           "Bahamas",
           1980
          ],
          [
           "Bahamas",
           1985
          ],
          [
           "Bahamas",
           1995
          ],
          [
           "Bahamas",
           2000
          ],
          [
           "Bahamas",
           2001
          ],
          [
           "Bahamas",
           2002
          ],
          [
           "Bahamas",
           2003
          ],
          [
           "Bahamas",
           2004
          ],
          [
           "Bahamas",
           2005
          ],
          [
           "Bahamas",
           2006
          ],
          [
           "Bahamas",
           2007
          ],
          [
           "Bahamas",
           2008
          ],
          [
           "Bahamas",
           2009
          ],
          [
           "Bahamas",
           2010
          ],
          [
           "Bahamas",
           2011
          ],
          [
           "Bahamas",
           2012
          ],
          [
           "Bahamas",
           2013
          ],
          [
           "Bahrain",
           1985
          ],
          [
           "Bahrain",
           2000
          ],
          [
           "Bahrain",
           2001
          ],
          [
           "Bahrain",
           2002
          ],
          [
           "Bahrain",
           2003
          ],
          [
           "Bahrain",
           2004
          ],
          [
           "Bahrain",
           2005
          ],
          [
           "Bahrain",
           2006
          ],
          [
           "Bahrain",
           2007
          ],
          [
           "Bahrain",
           2008
          ],
          [
           "Bahrain",
           2009
          ],
          [
           "Bahrain",
           2010
          ],
          [
           "Bahrain",
           2011
          ],
          [
           "Bahrain",
           2012
          ],
          [
           "Bahrain",
           2013
          ],
          [
           "Bahrain",
           2014
          ],
          [
           "Barbados",
           1980
          ],
          [
           "Barbados",
           1985
          ],
          [
           "Barbados",
           1990
          ],
          [
           "Barbados",
           1995
          ],
          [
           "Barbados",
           2000
          ],
          [
           "Barbados",
           2001
          ],
          [
           "Barbados",
           2002
          ],
          [
           "Barbados",
           2003
          ],
          [
           "Barbados",
           2004
          ],
          [
           "Barbados",
           2005
          ],
          [
           "Barbados",
           2006
          ],
          [
           "Barbados",
           2007
          ],
          [
           "Barbados",
           2008
          ],
          [
           "Barbados",
           2009
          ],
          [
           "Barbados",
           2010
          ],
          [
           "Barbados",
           2011
          ],
          [
           "Barbados",
           2012
          ],
          [
           "Barbados",
           2013
          ],
          [
           "Belarus",
           1985
          ],
          [
           "Belarus",
           1990
          ],
          [
           "Belarus",
           1995
          ],
          [
           "Belarus",
           2000
          ],
          [
           "Belarus",
           2001
          ],
          [
           "Belarus",
           2002
          ],
          [
           "Belarus",
           2003
          ],
          [
           "Belarus",
           2004
          ],
          [
           "Belarus",
           2005
          ],
          [
           "Belarus",
           2006
          ],
          [
           "Belarus",
           2007
          ],
          [
           "Belarus",
           2008
          ],
          [
           "Belarus",
           2009
          ],
          [
           "Belarus",
           2010
          ],
          [
           "Belarus",
           2011
          ],
          [
           "Belarus",
           2012
          ],
          [
           "Belarus",
           2013
          ],
          [
           "Belarus",
           2014
          ],
          [
           "Belarus",
           2015
          ],
          [
           "Belgium",
           1980
          ],
          [
           "Belgium",
           1985
          ],
          [
           "Belgium",
           1990
          ],
          [
           "Belgium",
           1995
          ],
          [
           "Belgium",
           2000
          ],
          [
           "Belgium",
           2001
          ],
          [
           "Belgium",
           2002
          ],
          [
           "Belgium",
           2003
          ],
          [
           "Belgium",
           2004
          ],
          [
           "Belgium",
           2005
          ],
          [
           "Belgium",
           2006
          ],
          [
           "Belgium",
           2007
          ],
          [
           "Belgium",
           2008
          ],
          [
           "Belgium",
           2009
          ],
          [
           "Belgium",
           2010
          ],
          [
           "Belgium",
           2011
          ],
          [
           "Belgium",
           2012
          ],
          [
           "Belgium",
           2013
          ],
          [
           "Belgium",
           2014
          ],
          [
           "Belgium",
           2015
          ],
          [
           "Belize",
           1980
          ],
          [
           "Belize",
           1990
          ],
          [
           "Belize",
           1995
          ],
          [
           "Belize",
           2000
          ],
          [
           "Belize",
           2001
          ],
          [
           "Belize",
           2002
          ],
          [
           "Belize",
           2003
          ],
          [
           "Belize",
           2004
          ],
          [
           "Belize",
           2005
          ],
          [
           "Belize",
           2006
          ],
          [
           "Belize",
           2007
          ],
          [
           "Belize",
           2008
          ],
          [
           "Belize",
           2009
          ],
          [
           "Belize",
           2010
          ],
          [
           "Belize",
           2011
          ],
          [
           "Belize",
           2012
          ],
          [
           "Belize",
           2013
          ],
          [
           "Belize",
           2014
          ],
          [
           "Belize",
           2015
          ],
          [
           "Bolivia",
           2000
          ],
          [
           "Bolivia",
           2001
          ],
          [
           "Bolivia",
           2002
          ],
          [
           "Bolivia",
           2003
          ],
          [
           "Bosnia and Herzegovina",
           1985
          ],
          [
           "Bosnia and Herzegovina",
           1990
          ],
          [
           "Bosnia and Herzegovina",
           2010
          ],
          [
           "Bosnia and Herzegovina",
           2011
          ],
          [
           "Bosnia and Herzegovina",
           2012
          ],
          [
           "Bosnia and Herzegovina",
           2014
          ],
          [
           "Brazil",
           1980
          ],
          [
           "Brazil",
           1985
          ],
          [
           "Brazil",
           1990
          ],
          [
           "Brazil",
           1995
          ],
          [
           "Brazil",
           2000
          ],
          [
           "Brazil",
           2001
          ],
          [
           "Brazil",
           2002
          ],
          [
           "Brazil",
           2003
          ],
          [
           "Brazil",
           2004
          ],
          [
           "Brazil",
           2005
          ],
          [
           "Brazil",
           2006
          ],
          [
           "Brazil",
           2007
          ],
          [
           "Brazil",
           2008
          ],
          [
           "Brazil",
           2009
          ],
          [
           "Brazil",
           2010
          ],
          [
           "Brazil",
           2011
          ],
          [
           "Brazil",
           2012
          ],
          [
           "Brazil",
           2013
          ],
          [
           "Brazil",
           2014
          ],
          [
           "Brazil",
           2015
          ],
          [
           "Brunei Darussalam",
           1995
          ],
          [
           "Brunei Darussalam",
           2000
          ],
          [
           "Brunei Darussalam",
           2001
          ],
          [
           "Brunei Darussalam",
           2002
          ],
          [
           "Brunei Darussalam",
           2003
          ],
          [
           "Brunei Darussalam",
           2004
          ],
          [
           "Brunei Darussalam",
           2005
          ],
          [
           "Brunei Darussalam",
           2006
          ],
          [
           "Brunei Darussalam",
           2007
          ],
          [
           "Brunei Darussalam",
           2008
          ],
          [
           "Brunei Darussalam",
           2009
          ],
          [
           "Brunei Darussalam",
           2010
          ],
          [
           "Brunei Darussalam",
           2011
          ],
          [
           "Brunei Darussalam",
           2012
          ],
          [
           "Brunei Darussalam",
           2013
          ],
          [
           "Brunei Darussalam",
           2014
          ],
          [
           "Brunei Darussalam",
           2015
          ],
          [
           "Bulgaria",
           1980
          ],
          [
           "Bulgaria",
           1985
          ],
          [
           "Bulgaria",
           1990
          ],
          [
           "Bulgaria",
           1995
          ],
          [
           "Bulgaria",
           2000
          ],
          [
           "Bulgaria",
           2001
          ],
          [
           "Bulgaria",
           2002
          ],
          [
           "Bulgaria",
           2003
          ],
          [
           "Bulgaria",
           2004
          ],
          [
           "Bulgaria",
           2005
          ],
          [
           "Bulgaria",
           2006
          ],
          [
           "Bulgaria",
           2007
          ],
          [
           "Bulgaria",
           2008
          ],
          [
           "Bulgaria",
           2009
          ],
          [
           "Bulgaria",
           2010
          ],
          [
           "Bulgaria",
           2011
          ],
          [
           "Bulgaria",
           2012
          ],
          [
           "Bulgaria",
           2013
          ],
          [
           "Bulgaria",
           2014
          ],
          [
           "Canada",
           1980
          ],
          [
           "Canada",
           1985
          ],
          [
           "Canada",
           1990
          ],
          [
           "Canada",
           1995
          ],
          [
           "Canada",
           2000
          ],
          [
           "Canada",
           2001
          ],
          [
           "Canada",
           2002
          ],
          [
           "Canada",
           2003
          ],
          [
           "Canada",
           2004
          ],
          [
           "Canada",
           2005
          ],
          [
           "Canada",
           2006
          ],
          [
           "Canada",
           2007
          ],
          [
           "Canada",
           2008
          ],
          [
           "Canada",
           2009
          ],
          [
           "Canada",
           2010
          ],
          [
           "Canada",
           2011
          ],
          [
           "Canada",
           2012
          ],
          [
           "Canada",
           2013
          ],
          [
           "Chile",
           1980
          ],
          [
           "Chile",
           1985
          ],
          [
           "Chile",
           1990
          ],
          [
           "Chile",
           1995
          ],
          [
           "Chile",
           2000
          ],
          [
           "Chile",
           2001
          ],
          [
           "Chile",
           2002
          ],
          [
           "Chile",
           2003
          ],
          [
           "Chile",
           2004
          ],
          [
           "Chile",
           2005
          ],
          [
           "Chile",
           2006
          ],
          [
           "Chile",
           2007
          ],
          [
           "Chile",
           2008
          ],
          [
           "Chile",
           2009
          ],
          [
           "Chile",
           2010
          ],
          [
           "Chile",
           2011
          ],
          [
           "Chile",
           2012
          ],
          [
           "Chile",
           2013
          ],
          [
           "Chile",
           2014
          ],
          [
           "Chile",
           2015
          ],
          [
           "Colombia",
           1985
          ],
          [
           "Colombia",
           1990
          ],
          [
           "Colombia",
           1995
          ],
          [
           "Colombia",
           2000
          ],
          [
           "Colombia",
           2001
          ],
          [
           "Colombia",
           2002
          ],
          [
           "Colombia",
           2003
          ],
          [
           "Colombia",
           2004
          ],
          [
           "Colombia",
           2005
          ],
          [
           "Colombia",
           2006
          ],
          [
           "Colombia",
           2007
          ],
          [
           "Colombia",
           2008
          ],
          [
           "Colombia",
           2009
          ],
          [
           "Colombia",
           2010
          ],
          [
           "Colombia",
           2011
          ],
          [
           "Colombia",
           2012
          ],
          [
           "Colombia",
           2013
          ],
          [
           "Colombia",
           2014
          ],
          [
           "Colombia",
           2015
          ],
          [
           "Costa Rica",
           1980
          ],
          [
           "Costa Rica",
           1985
          ],
          [
           "Costa Rica",
           1990
          ],
          [
           "Costa Rica",
           1995
          ],
          [
           "Costa Rica",
           2000
          ],
          [
           "Costa Rica",
           2001
          ],
          [
           "Costa Rica",
           2002
          ],
          [
           "Costa Rica",
           2003
          ],
          [
           "Costa Rica",
           2004
          ],
          [
           "Costa Rica",
           2005
          ],
          [
           "Costa Rica",
           2006
          ],
          [
           "Costa Rica",
           2007
          ],
          [
           "Costa Rica",
           2008
          ],
          [
           "Costa Rica",
           2009
          ],
          [
           "Costa Rica",
           2010
          ],
          [
           "Costa Rica",
           2011
          ],
          [
           "Costa Rica",
           2012
          ],
          [
           "Costa Rica",
           2013
          ],
          [
           "Costa Rica",
           2014
          ],
          [
           "Croatia",
           1985
          ],
          [
           "Croatia",
           1990
          ],
          [
           "Croatia",
           1995
          ],
          [
           "Croatia",
           2000
          ],
          [
           "Croatia",
           2001
          ],
          [
           "Croatia",
           2002
          ],
          [
           "Croatia",
           2003
          ],
          [
           "Croatia",
           2004
          ],
          [
           "Croatia",
           2005
          ],
          [
           "Croatia",
           2006
          ],
          [
           "Croatia",
           2007
          ],
          [
           "Croatia",
           2008
          ],
          [
           "Croatia",
           2009
          ],
          [
           "Croatia",
           2010
          ],
          [
           "Croatia",
           2011
          ],
          [
           "Croatia",
           2012
          ],
          [
           "Croatia",
           2013
          ],
          [
           "Croatia",
           2014
          ],
          [
           "Croatia",
           2015
          ],
          [
           "Croatia",
           2016
          ],
          [
           "Cyprus",
           2000
          ],
          [
           "Cyprus",
           2002
          ],
          [
           "Cyprus",
           2003
          ],
          [
           "Cyprus",
           2004
          ],
          [
           "Cyprus",
           2005
          ],
          [
           "Cyprus",
           2006
          ],
          [
           "Cyprus",
           2007
          ],
          [
           "Cyprus",
           2008
          ],
          [
           "Cyprus",
           2009
          ],
          [
           "Cyprus",
           2010
          ],
          [
           "Cyprus",
           2011
          ],
          [
           "Cyprus",
           2012
          ],
          [
           "Cyprus",
           2013
          ],
          [
           "Cyprus",
           2014
          ],
          [
           "Cyprus",
           2015
          ],
          [
           "Cyprus",
           2016
          ],
          [
           "Denmark",
           1980
          ],
          [
           "Denmark",
           1985
          ],
          [
           "Denmark",
           1990
          ],
          [
           "Denmark",
           1995
          ],
          [
           "Denmark",
           2000
          ],
          [
           "Denmark",
           2001
          ],
          [
           "Denmark",
           2002
          ],
          [
           "Denmark",
           2003
          ],
          [
           "Denmark",
           2004
          ],
          [
           "Denmark",
           2005
          ],
          [
           "Denmark",
           2006
          ],
          [
           "Denmark",
           2007
          ],
          [
           "Denmark",
           2008
          ],
          [
           "Denmark",
           2009
          ],
          [
           "Denmark",
           2010
          ],
          [
           "Denmark",
           2011
          ],
          [
           "Denmark",
           2012
          ],
          [
           "Denmark",
           2013
          ],
          [
           "Denmark",
           2014
          ],
          [
           "Denmark",
           2015
          ],
          [
           "Ecuador",
           1980
          ],
          [
           "Ecuador",
           1985
          ],
          [
           "Ecuador",
           1990
          ],
          [
           "Ecuador",
           1995
          ],
          [
           "Ecuador",
           2000
          ],
          [
           "Ecuador",
           2001
          ],
          [
           "Ecuador",
           2002
          ],
          [
           "Ecuador",
           2003
          ],
          [
           "Ecuador",
           2004
          ],
          [
           "Ecuador",
           2005
          ],
          [
           "Ecuador",
           2006
          ],
          [
           "Ecuador",
           2007
          ],
          [
           "Ecuador",
           2008
          ],
          [
           "Ecuador",
           2009
          ],
          [
           "Ecuador",
           2010
          ],
          [
           "Ecuador",
           2011
          ],
          [
           "Ecuador",
           2012
          ],
          [
           "Ecuador",
           2013
          ],
          [
           "Ecuador",
           2014
          ],
          [
           "Ecuador",
           2015
          ],
          [
           "Egypt",
           1980
          ],
          [
           "Egypt",
           2000
          ],
          [
           "Egypt",
           2001
          ],
          [
           "Egypt",
           2002
          ],
          [
           "Egypt",
           2003
          ],
          [
           "Egypt",
           2004
          ],
          [
           "Egypt",
           2005
          ],
          [
           "Egypt",
           2006
          ],
          [
           "Egypt",
           2007
          ],
          [
           "Egypt",
           2008
          ],
          [
           "Egypt",
           2009
          ],
          [
           "Egypt",
           2010
          ],
          [
           "Egypt",
           2011
          ],
          [
           "Egypt",
           2012
          ],
          [
           "Egypt",
           2013
          ],
          [
           "Egypt",
           2014
          ],
          [
           "Egypt",
           2015
          ],
          [
           "El Salvador",
           1990
          ],
          [
           "El Salvador",
           1995
          ],
          [
           "El Salvador",
           2000
          ],
          [
           "El Salvador",
           2001
          ],
          [
           "El Salvador",
           2002
          ],
          [
           "El Salvador",
           2003
          ],
          [
           "El Salvador",
           2004
          ],
          [
           "El Salvador",
           2005
          ],
          [
           "El Salvador",
           2006
          ],
          [
           "El Salvador",
           2007
          ],
          [
           "El Salvador",
           2008
          ],
          [
           "El Salvador",
           2009
          ],
          [
           "El Salvador",
           2010
          ],
          [
           "El Salvador",
           2011
          ],
          [
           "El Salvador",
           2012
          ],
          [
           "El Salvador",
           2013
          ],
          [
           "El Salvador",
           2014
          ],
          [
           "Estonia",
           1985
          ],
          [
           "Estonia",
           1990
          ],
          [
           "Estonia",
           1995
          ],
          [
           "Estonia",
           2000
          ],
          [
           "Estonia",
           2001
          ],
          [
           "Estonia",
           2002
          ],
          [
           "Estonia",
           2003
          ],
          [
           "Estonia",
           2004
          ],
          [
           "Estonia",
           2005
          ],
          [
           "Estonia",
           2006
          ],
          [
           "Estonia",
           2007
          ],
          [
           "Estonia",
           2008
          ],
          [
           "Estonia",
           2009
          ],
          [
           "Estonia",
           2010
          ],
          [
           "Estonia",
           2011
          ],
          [
           "Estonia",
           2012
          ],
          [
           "Estonia",
           2013
          ],
          [
           "Estonia",
           2014
          ],
          [
           "Estonia",
           2015
          ],
          [
           "Fiji",
           2001
          ],
          [
           "Fiji",
           2002
          ],
          [
           "Fiji",
           2003
          ],
          [
           "Fiji",
           2004
          ],
          [
           "Fiji",
           2005
          ],
          [
           "Fiji",
           2006
          ],
          [
           "Fiji",
           2007
          ],
          [
           "Fiji",
           2008
          ],
          [
           "Fiji",
           2009
          ],
          [
           "Fiji",
           2011
          ],
          [
           "Fiji",
           2012
          ],
          [
           "Finland",
           1980
          ],
          [
           "Finland",
           1985
          ],
          [
           "Finland",
           1990
          ],
          [
           "Finland",
           1995
          ],
          [
           "Finland",
           2000
          ],
          [
           "Finland",
           2001
          ],
          [
           "Finland",
           2002
          ],
          [
           "Finland",
           2003
          ],
          [
           "Finland",
           2004
          ],
          [
           "Finland",
           2005
          ],
          [
           "Finland",
           2006
          ],
          [
           "Finland",
           2007
          ],
          [
           "Finland",
           2008
          ],
          [
           "Finland",
           2009
          ],
          [
           "Finland",
           2010
          ],
          [
           "Finland",
           2011
          ],
          [
           "Finland",
           2012
          ],
          [
           "Finland",
           2013
          ],
          [
           "Finland",
           2014
          ],
          [
           "Finland",
           2015
          ],
          [
           "France",
           1980
          ],
          [
           "France",
           1985
          ],
          [
           "France",
           1990
          ],
          [
           "France",
           1995
          ],
          [
           "France",
           2000
          ],
          [
           "France",
           2001
          ],
          [
           "France",
           2002
          ],
          [
           "France",
           2003
          ],
          [
           "France",
           2004
          ],
          [
           "France",
           2005
          ],
          [
           "France",
           2006
          ],
          [
           "France",
           2007
          ],
          [
           "France",
           2008
          ],
          [
           "France",
           2009
          ],
          [
           "France",
           2010
          ],
          [
           "France",
           2011
          ],
          [
           "France",
           2012
          ],
          [
           "France",
           2013
          ],
          [
           "France",
           2014
          ],
          [
           "Georgia",
           1985
          ],
          [
           "Georgia",
           1990
          ],
          [
           "Georgia",
           1995
          ],
          [
           "Georgia",
           2000
          ],
          [
           "Georgia",
           2001
          ],
          [
           "Georgia",
           2002
          ],
          [
           "Georgia",
           2003
          ],
          [
           "Georgia",
           2004
          ],
          [
           "Georgia",
           2005
          ],
          [
           "Georgia",
           2006
          ],
          [
           "Georgia",
           2007
          ],
          [
           "Georgia",
           2008
          ],
          [
           "Georgia",
           2009
          ],
          [
           "Georgia",
           2010
          ],
          [
           "Georgia",
           2011
          ],
          [
           "Georgia",
           2012
          ],
          [
           "Georgia",
           2013
          ],
          [
           "Georgia",
           2014
          ],
          [
           "Georgia",
           2015
          ],
          [
           "Germany",
           1990
          ],
          [
           "Germany",
           1995
          ],
          [
           "Germany",
           2000
          ],
          [
           "Germany",
           2001
          ],
          [
           "Germany",
           2002
          ],
          [
           "Germany",
           2003
          ],
          [
           "Germany",
           2004
          ],
          [
           "Germany",
           2005
          ],
          [
           "Germany",
           2006
          ],
          [
           "Germany",
           2007
          ],
          [
           "Germany",
           2008
          ],
          [
           "Germany",
           2009
          ],
          [
           "Germany",
           2010
          ],
          [
           "Germany",
           2011
          ],
          [
           "Germany",
           2012
          ],
          [
           "Germany",
           2013
          ],
          [
           "Germany",
           2014
          ],
          [
           "Germany",
           2015
          ],
          [
           "Greece",
           1980
          ],
          [
           "Greece",
           1985
          ],
          [
           "Greece",
           1990
          ],
          [
           "Greece",
           1995
          ],
          [
           "Greece",
           2000
          ],
          [
           "Greece",
           2001
          ],
          [
           "Greece",
           2002
          ],
          [
           "Greece",
           2003
          ],
          [
           "Greece",
           2004
          ],
          [
           "Greece",
           2005
          ],
          [
           "Greece",
           2006
          ],
          [
           "Greece",
           2007
          ],
          [
           "Greece",
           2008
          ],
          [
           "Greece",
           2009
          ],
          [
           "Greece",
           2010
          ],
          [
           "Greece",
           2011
          ],
          [
           "Greece",
           2012
          ],
          [
           "Greece",
           2013
          ],
          [
           "Greece",
           2014
          ],
          [
           "Greece",
           2015
          ],
          [
           "Guatemala",
           1980
          ],
          [
           "Guatemala",
           1990
          ],
          [
           "Guatemala",
           1995
          ],
          [
           "Guatemala",
           2000
          ],
          [
           "Guatemala",
           2001
          ],
          [
           "Guatemala",
           2002
          ],
          [
           "Guatemala",
           2003
          ],
          [
           "Guatemala",
           2004
          ],
          [
           "Guatemala",
           2005
          ],
          [
           "Guatemala",
           2006
          ],
          [
           "Guatemala",
           2007
          ],
          [
           "Guatemala",
           2008
          ],
          [
           "Guatemala",
           2009
          ],
          [
           "Guatemala",
           2010
          ],
          [
           "Guatemala",
           2011
          ],
          [
           "Guatemala",
           2012
          ],
          [
           "Guatemala",
           2013
          ],
          [
           "Guatemala",
           2014
          ],
          [
           "Guatemala",
           2015
          ],
          [
           "Guyana",
           1990
          ],
          [
           "Guyana",
           1995
          ],
          [
           "Guyana",
           2001
          ],
          [
           "Guyana",
           2002
          ],
          [
           "Guyana",
           2003
          ],
          [
           "Guyana",
           2004
          ],
          [
           "Guyana",
           2005
          ],
          [
           "Guyana",
           2006
          ],
          [
           "Guyana",
           2007
          ],
          [
           "Guyana",
           2008
          ],
          [
           "Guyana",
           2009
          ],
          [
           "Guyana",
           2010
          ],
          [
           "Guyana",
           2011
          ],
          [
           "Guyana",
           2012
          ],
          [
           "Guyana",
           2013
          ],
          [
           "Haiti",
           1980
          ],
          [
           "Haiti",
           2001
          ],
          [
           "Haiti",
           2002
          ],
          [
           "Haiti",
           2003
          ],
          [
           "Haiti",
           2004
          ],
          [
           "Honduras",
           1990
          ],
          [
           "Honduras",
           2008
          ],
          [
           "Honduras",
           2009
          ],
          [
           "Honduras",
           2010
          ],
          [
           "Honduras",
           2011
          ],
          [
           "Honduras",
           2012
          ],
          [
           "Honduras",
           2013
          ],
          [
           "Hungary",
           1980
          ],
          [
           "Hungary",
           1985
          ],
          [
           "Hungary",
           1990
          ],
          [
           "Hungary",
           1995
          ],
          [
           "Hungary",
           2000
          ],
          [
           "Hungary",
           2001
          ],
          [
           "Hungary",
           2002
          ],
          [
           "Hungary",
           2003
          ],
          [
           "Hungary",
           2004
          ],
          [
           "Hungary",
           2005
          ],
          [
           "Hungary",
           2006
          ],
          [
           "Hungary",
           2007
          ],
          [
           "Hungary",
           2008
          ],
          [
           "Hungary",
           2009
          ],
          [
           "Hungary",
           2010
          ],
          [
           "Hungary",
           2011
          ],
          [
           "Hungary",
           2012
          ],
          [
           "Hungary",
           2013
          ],
          [
           "Hungary",
           2014
          ],
          [
           "Hungary",
           2015
          ],
          [
           "Hungary",
           2016
          ],
          [
           "Iceland",
           1980
          ],
          [
           "Iceland",
           1985
          ],
          [
           "Iceland",
           1990
          ],
          [
           "Iceland",
           1995
          ],
          [
           "Iceland",
           2000
          ],
          [
           "Iceland",
           2001
          ],
          [
           "Iceland",
           2002
          ],
          [
           "Iceland",
           2003
          ],
          [
           "Iceland",
           2004
          ],
          [
           "Iceland",
           2005
          ],
          [
           "Iceland",
           2006
          ],
          [
           "Iceland",
           2007
          ],
          [
           "Iceland",
           2008
          ],
          [
           "Iceland",
           2009
          ],
          [
           "Iceland",
           2010
          ],
          [
           "Iceland",
           2011
          ],
          [
           "Iceland",
           2012
          ],
          [
           "Iceland",
           2013
          ],
          [
           "Iceland",
           2014
          ],
          [
           "Iceland",
           2015
          ],
          [
           "Iceland",
           2016
          ],
          [
           "Iraq",
           2008
          ],
          [
           "Ireland",
           1980
          ],
          [
           "Ireland",
           1985
          ],
          [
           "Ireland",
           1990
          ],
          [
           "Ireland",
           1995
          ],
          [
           "Ireland",
           2000
          ],
          [
           "Ireland",
           2001
          ],
          [
           "Ireland",
           2002
          ],
          [
           "Ireland",
           2003
          ],
          [
           "Ireland",
           2004
          ],
          [
           "Ireland",
           2005
          ],
          [
           "Ireland",
           2006
          ],
          [
           "Ireland",
           2007
          ],
          [
           "Ireland",
           2008
          ],
          [
           "Ireland",
           2009
          ],
          [
           "Ireland",
           2010
          ],
          [
           "Ireland",
           2011
          ],
          [
           "Ireland",
           2012
          ],
          [
           "Ireland",
           2013
          ],
          [
           "Ireland",
           2014
          ],
          [
           "Israel",
           1980
          ],
          [
           "Israel",
           1985
          ],
          [
           "Israel",
           1990
          ],
          [
           "Israel",
           1995
          ],
          [
           "Israel",
           2000
          ],
          [
           "Israel",
           2001
          ],
          [
           "Israel",
           2002
          ],
          [
           "Israel",
           2003
          ],
          [
           "Israel",
           2004
          ],
          [
           "Israel",
           2005
          ],
          [
           "Israel",
           2006
          ],
          [
           "Israel",
           2007
          ],
          [
           "Israel",
           2008
          ],
          [
           "Israel",
           2009
          ],
          [
           "Israel",
           2010
          ],
          [
           "Israel",
           2011
          ],
          [
           "Israel",
           2012
          ],
          [
           "Israel",
           2013
          ],
          [
           "Israel",
           2014
          ],
          [
           "Israel",
           2015
          ],
          [
           "Israel",
           2016
          ],
          [
           "Italy",
           1980
          ],
          [
           "Italy",
           1985
          ],
          [
           "Italy",
           1990
          ],
          [
           "Italy",
           1995
          ],
          [
           "Italy",
           2000
          ],
          [
           "Italy",
           2001
          ],
          [
           "Italy",
           2002
          ],
          [
           "Italy",
           2003
          ],
          [
           "Italy",
           2004
          ],
          [
           "Italy",
           2005
          ],
          [
           "Italy",
           2006
          ],
          [
           "Italy",
           2007
          ],
          [
           "Italy",
           2008
          ],
          [
           "Italy",
           2009
          ],
          [
           "Italy",
           2010
          ],
          [
           "Italy",
           2011
          ],
          [
           "Italy",
           2012
          ],
          [
           "Italy",
           2013
          ],
          [
           "Italy",
           2014
          ],
          [
           "Italy",
           2015
          ],
          [
           "Jamaica",
           1980
          ],
          [
           "Jamaica",
           1985
          ],
          [
           "Jamaica",
           1990
          ],
          [
           "Jamaica",
           2000
          ],
          [
           "Jamaica",
           2001
          ],
          [
           "Jamaica",
           2002
          ],
          [
           "Jamaica",
           2003
          ],
          [
           "Jamaica",
           2004
          ],
          [
           "Jamaica",
           2005
          ],
          [
           "Jamaica",
           2006
          ],
          [
           "Jamaica",
           2009
          ],
          [
           "Jamaica",
           2010
          ],
          [
           "Jamaica",
           2011
          ],
          [
           "Japan",
           1980
          ],
          [
           "Japan",
           1985
          ],
          [
           "Japan",
           1990
          ],
          [
           "Japan",
           1995
          ],
          [
           "Japan",
           2000
          ],
          [
           "Japan",
           2001
          ],
          [
           "Japan",
           2002
          ],
          [
           "Japan",
           2003
          ],
          [
           "Japan",
           2004
          ],
          [
           "Japan",
           2005
          ],
          [
           "Japan",
           2006
          ],
          [
           "Japan",
           2007
          ],
          [
           "Japan",
           2008
          ],
          [
           "Japan",
           2009
          ],
          [
           "Japan",
           2010
          ],
          [
           "Japan",
           2011
          ],
          [
           "Japan",
           2012
          ],
          [
           "Japan",
           2013
          ],
          [
           "Japan",
           2014
          ],
          [
           "Japan",
           2015
          ],
          [
           "Jordan",
           2008
          ],
          [
           "Jordan",
           2009
          ],
          [
           "Jordan",
           2010
          ],
          [
           "Jordan",
           2011
          ],
          [
           "Jordan",
           2012
          ],
          [
           "Kazakhstan",
           1985
          ],
          [
           "Kazakhstan",
           1990
          ],
          [
           "Kazakhstan",
           1995
          ],
          [
           "Kazakhstan",
           2000
          ],
          [
           "Kazakhstan",
           2001
          ],
          [
           "Kazakhstan",
           2002
          ],
          [
           "Kazakhstan",
           2003
          ],
          [
           "Kazakhstan",
           2004
          ],
          [
           "Kazakhstan",
           2005
          ],
          [
           "Kazakhstan",
           2006
          ],
          [
           "Kazakhstan",
           2007
          ],
          [
           "Kazakhstan",
           2008
          ],
          [
           "Kazakhstan",
           2009
          ],
          [
           "Kazakhstan",
           2010
          ],
          [
           "Kazakhstan",
           2011
          ],
          [
           "Kazakhstan",
           2012
          ],
          [
           "Kazakhstan",
           2013
          ],
          [
           "Kazakhstan",
           2014
          ],
          [
           "Kazakhstan",
           2015
          ],
          [
           "Kuwait",
           1980
          ],
          [
           "Kuwait",
           1985
          ],
          [
           "Kuwait",
           1995
          ],
          [
           "Kuwait",
           2000
          ],
          [
           "Kuwait",
           2001
          ],
          [
           "Kuwait",
           2002
          ],
          [
           "Kuwait",
           2003
          ],
          [
           "Kuwait",
           2004
          ],
          [
           "Kuwait",
           2005
          ],
          [
           "Kuwait",
           2006
          ],
          [
           "Kuwait",
           2007
          ],
          [
           "Kuwait",
           2008
          ],
          [
           "Kuwait",
           2009
          ],
          [
           "Kuwait",
           2010
          ],
          [
           "Kuwait",
           2011
          ],
          [
           "Kuwait",
           2012
          ],
          [
           "Kuwait",
           2013
          ],
          [
           "Kuwait",
           2014
          ],
          [
           "Latvia",
           1980
          ],
          [
           "Latvia",
           1985
          ],
          [
           "Latvia",
           1990
          ],
          [
           "Latvia",
           1995
          ],
          [
           "Latvia",
           2000
          ],
          [
           "Latvia",
           2001
          ],
          [
           "Latvia",
           2002
          ],
          [
           "Latvia",
           2003
          ],
          [
           "Latvia",
           2004
          ],
          [
           "Latvia",
           2005
          ],
          [
           "Latvia",
           2006
          ],
          [
           "Latvia",
           2007
          ],
          [
           "Latvia",
           2008
          ],
          [
           "Latvia",
           2009
          ],
          [
           "Latvia",
           2010
          ],
          [
           "Latvia",
           2011
          ],
          [
           "Latvia",
           2012
          ],
          [
           "Latvia",
           2013
          ],
          [
           "Latvia",
           2014
          ],
          [
           "Latvia",
           2015
          ],
          [
           "Lithuania",
           1985
          ],
          [
           "Lithuania",
           1990
          ],
          [
           "Lithuania",
           1995
          ],
          [
           "Lithuania",
           2000
          ],
          [
           "Lithuania",
           2001
          ],
          [
           "Lithuania",
           2002
          ],
          [
           "Lithuania",
           2003
          ],
          [
           "Lithuania",
           2004
          ],
          [
           "Lithuania",
           2005
          ],
          [
           "Lithuania",
           2006
          ],
          [
           "Lithuania",
           2007
          ],
          [
           "Lithuania",
           2008
          ],
          [
           "Lithuania",
           2009
          ],
          [
           "Lithuania",
           2010
          ],
          [
           "Lithuania",
           2011
          ],
          [
           "Lithuania",
           2012
          ],
          [
           "Lithuania",
           2013
          ],
          [
           "Lithuania",
           2014
          ],
          [
           "Lithuania",
           2015
          ],
          [
           "Lithuania",
           2016
          ],
          [
           "Luxembourg",
           1980
          ],
          [
           "Luxembourg",
           1985
          ],
          [
           "Luxembourg",
           1990
          ],
          [
           "Luxembourg",
           1995
          ],
          [
           "Luxembourg",
           2000
          ],
          [
           "Luxembourg",
           2001
          ],
          [
           "Luxembourg",
           2002
          ],
          [
           "Luxembourg",
           2003
          ],
          [
           "Luxembourg",
           2004
          ],
          [
           "Luxembourg",
           2005
          ],
          [
           "Luxembourg",
           2006
          ],
          [
           "Luxembourg",
           2007
          ],
          [
           "Luxembourg",
           2008
          ],
          [
           "Luxembourg",
           2009
          ],
          [
           "Luxembourg",
           2010
          ],
          [
           "Luxembourg",
           2011
          ],
          [
           "Luxembourg",
           2012
          ],
          [
           "Luxembourg",
           2013
          ],
          [
           "Luxembourg",
           2014
          ],
          [
           "Luxembourg",
           2015
          ],
          [
           "Malaysia",
           2000
          ],
          [
           "Malaysia",
           2001
          ],
          [
           "Malaysia",
           2002
          ],
          [
           "Malaysia",
           2003
          ],
          [
           "Malaysia",
           2004
          ],
          [
           "Malaysia",
           2005
          ],
          [
           "Malaysia",
           2006
          ],
          [
           "Malaysia",
           2007
          ],
          [
           "Malaysia",
           2008
          ],
          [
           "Malaysia",
           2009
          ],
          [
           "Malaysia",
           2010
          ],
          [
           "Malaysia",
           2011
          ],
          [
           "Malaysia",
           2012
          ],
          [
           "Malaysia",
           2013
          ],
          [
           "Malaysia",
           2014
          ],
          [
           "Malta",
           1980
          ],
          [
           "Malta",
           1985
          ],
          [
           "Malta",
           1990
          ],
          [
           "Malta",
           1995
          ],
          [
           "Malta",
           2000
          ],
          [
           "Malta",
           2001
          ],
          [
           "Malta",
           2002
          ],
          [
           "Malta",
           2003
          ],
          [
           "Malta",
           2004
          ],
          [
           "Malta",
           2005
          ],
          [
           "Malta",
           2006
          ],
          [
           "Malta",
           2007
          ],
          [
           "Malta",
           2008
          ],
          [
           "Malta",
           2009
          ],
          [
           "Malta",
           2010
          ],
          [
           "Malta",
           2011
          ],
          [
           "Malta",
           2012
          ],
          [
           "Malta",
           2013
          ],
          [
           "Malta",
           2014
          ],
          [
           "Malta",
           2015
          ],
          [
           "Mauritius",
           1980
          ],
          [
           "Mauritius",
           1985
          ],
          [
           "Mauritius",
           1990
          ],
          [
           "Mauritius",
           1995
          ],
          [
           "Mauritius",
           2000
          ],
          [
           "Mauritius",
           2001
          ],
          [
           "Mauritius",
           2002
          ],
          [
           "Mauritius",
           2003
          ],
          [
           "Mauritius",
           2004
          ],
          [
           "Mauritius",
           2005
          ],
          [
           "Mauritius",
           2006
          ],
          [
           "Mauritius",
           2007
          ],
          [
           "Mauritius",
           2008
          ],
          [
           "Mauritius",
           2009
          ],
          [
           "Mauritius",
           2010
          ],
          [
           "Mauritius",
           2011
          ],
          [
           "Mauritius",
           2012
          ],
          [
           "Mauritius",
           2013
          ],
          [
           "Mauritius",
           2014
          ],
          [
           "Mauritius",
           2015
          ],
          [
           "Mauritius",
           2016
          ],
          [
           "Mexico",
           1980
          ],
          [
           "Mexico",
           1985
          ],
          [
           "Mexico",
           1990
          ],
          [
           "Mexico",
           1995
          ],
          [
           "Mexico",
           2000
          ],
          [
           "Mexico",
           2001
          ],
          [
           "Mexico",
           2002
          ],
          [
           "Mexico",
           2003
          ],
          [
           "Mexico",
           2004
          ],
          [
           "Mexico",
           2005
          ],
          [
           "Mexico",
           2006
          ],
          [
           "Mexico",
           2007
          ],
          [
           "Mexico",
           2008
          ],
          [
           "Mexico",
           2009
          ],
          [
           "Mexico",
           2010
          ],
          [
           "Mexico",
           2011
          ],
          [
           "Mexico",
           2012
          ],
          [
           "Mexico",
           2013
          ],
          [
           "Mexico",
           2014
          ],
          [
           "Mexico",
           2015
          ],
          [
           "Mongolia",
           2016
          ],
          [
           "Montenegro",
           2000
          ],
          [
           "Montenegro",
           2001
          ],
          [
           "Montenegro",
           2002
          ],
          [
           "Montenegro",
           2003
          ],
          [
           "Montenegro",
           2004
          ],
          [
           "Montenegro",
           2005
          ],
          [
           "Montenegro",
           2006
          ],
          [
           "Montenegro",
           2007
          ],
          [
           "Montenegro",
           2008
          ],
          [
           "Montenegro",
           2009
          ],
          [
           "Morocco",
           2000
          ],
          [
           "Morocco",
           2001
          ],
          [
           "Morocco",
           2002
          ],
          [
           "Morocco",
           2003
          ],
          [
           "Morocco",
           2004
          ],
          [
           "Morocco",
           2007
          ],
          [
           "Morocco",
           2008
          ],
          [
           "Morocco",
           2009
          ],
          [
           "Morocco",
           2010
          ],
          [
           "Morocco",
           2011
          ],
          [
           "Morocco",
           2012
          ],
          [
           "Morocco",
           2013
          ],
          [
           "Morocco",
           2014
          ],
          [
           "Netherlands",
           1980
          ],
          [
           "Netherlands",
           1985
          ],
          [
           "Netherlands",
           1990
          ],
          [
           "Netherlands",
           1995
          ],
          [
           "Netherlands",
           2000
          ],
          [
           "Netherlands",
           2001
          ],
          [
           "Netherlands",
           2002
          ],
          [
           "Netherlands",
           2003
          ],
          [
           "Netherlands",
           2004
          ],
          [
           "Netherlands",
           2005
          ],
          [
           "Netherlands",
           2006
          ],
          [
           "Netherlands",
           2007
          ],
          [
           "Netherlands",
           2008
          ],
          [
           "Netherlands",
           2009
          ],
          [
           "Netherlands",
           2010
          ],
          [
           "Netherlands",
           2011
          ],
          [
           "Netherlands",
           2012
          ],
          [
           "Netherlands",
           2013
          ],
          [
           "Netherlands",
           2014
          ],
          [
           "Netherlands",
           2015
          ],
          [
           "Netherlands",
           2016
          ],
          [
           "New Zealand",
           1980
          ],
          [
           "New Zealand",
           1985
          ],
          [
           "New Zealand",
           1990
          ],
          [
           "New Zealand",
           1995
          ],
          [
           "New Zealand",
           2000
          ],
          [
           "New Zealand",
           2001
          ],
          [
           "New Zealand",
           2002
          ],
          [
           "New Zealand",
           2003
          ],
          [
           "New Zealand",
           2004
          ],
          [
           "New Zealand",
           2005
          ],
          [
           "New Zealand",
           2006
          ],
          [
           "New Zealand",
           2007
          ],
          [
           "New Zealand",
           2008
          ],
          [
           "New Zealand",
           2009
          ],
          [
           "New Zealand",
           2010
          ],
          [
           "New Zealand",
           2011
          ],
          [
           "New Zealand",
           2012
          ],
          [
           "New Zealand",
           2013
          ],
          [
           "Nicaragua",
           1990
          ],
          [
           "Nicaragua",
           2000
          ],
          [
           "Nicaragua",
           2001
          ],
          [
           "Nicaragua",
           2002
          ],
          [
           "Nicaragua",
           2003
          ],
          [
           "Nicaragua",
           2004
          ],
          [
           "Nicaragua",
           2005
          ],
          [
           "Nicaragua",
           2006
          ],
          [
           "Nicaragua",
           2007
          ],
          [
           "Nicaragua",
           2008
          ],
          [
           "Nicaragua",
           2009
          ],
          [
           "Nicaragua",
           2010
          ],
          [
           "Nicaragua",
           2011
          ],
          [
           "Nicaragua",
           2012
          ],
          [
           "Nicaragua",
           2013
          ],
          [
           "Nicaragua",
           2014
          ],
          [
           "Nicaragua",
           2015
          ],
          [
           "Norway",
           1980
          ],
          [
           "Norway",
           1985
          ],
          [
           "Norway",
           1990
          ],
          [
           "Norway",
           1995
          ],
          [
           "Norway",
           2000
          ],
          [
           "Norway",
           2001
          ],
          [
           "Norway",
           2002
          ],
          [
           "Norway",
           2003
          ],
          [
           "Norway",
           2004
          ],
          [
           "Norway",
           2005
          ],
          [
           "Norway",
           2006
          ],
          [
           "Norway",
           2007
          ],
          [
           "Norway",
           2008
          ],
          [
           "Norway",
           2009
          ],
          [
           "Norway",
           2010
          ],
          [
           "Norway",
           2011
          ],
          [
           "Norway",
           2012
          ],
          [
           "Norway",
           2013
          ],
          [
           "Norway",
           2014
          ],
          [
           "Norway",
           2015
          ],
          [
           "Oman",
           2009
          ],
          [
           "Oman",
           2010
          ],
          [
           "Oman",
           2014
          ],
          [
           "Panama",
           1980
          ],
          [
           "Panama",
           1985
          ],
          [
           "Panama",
           2000
          ],
          [
           "Panama",
           2001
          ],
          [
           "Panama",
           2002
          ],
          [
           "Panama",
           2003
          ],
          [
           "Panama",
           2004
          ],
          [
           "Panama",
           2005
          ],
          [
           "Panama",
           2006
          ],
          [
           "Panama",
           2007
          ],
          [
           "Panama",
           2008
          ],
          [
           "Panama",
           2009
          ],
          [
           "Panama",
           2010
          ],
          [
           "Panama",
           2011
          ],
          [
           "Panama",
           2012
          ],
          [
           "Panama",
           2013
          ],
          [
           "Panama",
           2014
          ],
          [
           "Panama",
           2015
          ],
          [
           "Paraguay",
           1980
          ],
          [
           "Paraguay",
           1985
          ],
          [
           "Paraguay",
           1990
          ],
          [
           "Paraguay",
           1995
          ],
          [
           "Paraguay",
           2000
          ],
          [
           "Paraguay",
           2001
          ],
          [
           "Paraguay",
           2002
          ],
          [
           "Paraguay",
           2003
          ],
          [
           "Paraguay",
           2004
          ],
          [
           "Paraguay",
           2005
          ],
          [
           "Paraguay",
           2006
          ],
          [
           "Paraguay",
           2007
          ],
          [
           "Paraguay",
           2008
          ],
          [
           "Paraguay",
           2009
          ],
          [
           "Paraguay",
           2010
          ],
          [
           "Paraguay",
           2011
          ],
          [
           "Paraguay",
           2012
          ],
          [
           "Paraguay",
           2013
          ],
          [
           "Paraguay",
           2014
          ],
          [
           "Peru",
           1990
          ],
          [
           "Peru",
           1995
          ],
          [
           "Peru",
           2000
          ],
          [
           "Peru",
           2001
          ],
          [
           "Peru",
           2002
          ],
          [
           "Peru",
           2003
          ],
          [
           "Peru",
           2004
          ],
          [
           "Peru",
           2005
          ],
          [
           "Peru",
           2006
          ],
          [
           "Peru",
           2007
          ],
          [
           "Peru",
           2008
          ],
          [
           "Peru",
           2009
          ],
          [
           "Peru",
           2010
          ],
          [
           "Peru",
           2011
          ],
          [
           "Peru",
           2012
          ],
          [
           "Peru",
           2013
          ],
          [
           "Peru",
           2014
          ],
          [
           "Peru",
           2015
          ],
          [
           "Philippines",
           1980
          ],
          [
           "Philippines",
           1995
          ],
          [
           "Philippines",
           2000
          ],
          [
           "Philippines",
           2001
          ],
          [
           "Philippines",
           2002
          ],
          [
           "Philippines",
           2003
          ],
          [
           "Philippines",
           2006
          ],
          [
           "Philippines",
           2007
          ],
          [
           "Philippines",
           2008
          ],
          [
           "Philippines",
           2009
          ],
          [
           "Philippines",
           2010
          ],
          [
           "Philippines",
           2011
          ],
          [
           "Philippines",
           2013
          ],
          [
           "Philippines",
           2014
          ],
          [
           "Poland",
           1980
          ],
          [
           "Poland",
           1985
          ],
          [
           "Poland",
           1990
          ],
          [
           "Poland",
           1995
          ],
          [
           "Poland",
           2000
          ],
          [
           "Poland",
           2001
          ],
          [
           "Poland",
           2002
          ],
          [
           "Poland",
           2003
          ],
          [
           "Poland",
           2004
          ],
          [
           "Poland",
           2005
          ],
          [
           "Poland",
           2006
          ],
          [
           "Poland",
           2007
          ],
          [
           "Poland",
           2008
          ],
          [
           "Poland",
           2009
          ],
          [
           "Poland",
           2010
          ],
          [
           "Poland",
           2011
          ],
          [
           "Poland",
           2012
          ],
          [
           "Poland",
           2013
          ],
          [
           "Poland",
           2014
          ],
          [
           "Poland",
           2015
          ],
          [
           "Portugal",
           1980
          ],
          [
           "Portugal",
           1985
          ],
          [
           "Portugal",
           1990
          ],
          [
           "Portugal",
           1995
          ],
          [
           "Portugal",
           2000
          ],
          [
           "Portugal",
           2001
          ],
          [
           "Portugal",
           2002
          ],
          [
           "Portugal",
           2003
          ],
          [
           "Portugal",
           2004
          ],
          [
           "Portugal",
           2005
          ],
          [
           "Portugal",
           2006
          ],
          [
           "Portugal",
           2007
          ],
          [
           "Portugal",
           2008
          ],
          [
           "Portugal",
           2009
          ],
          [
           "Portugal",
           2010
          ],
          [
           "Portugal",
           2011
          ],
          [
           "Portugal",
           2012
          ],
          [
           "Portugal",
           2013
          ],
          [
           "Portugal",
           2014
          ],
          [
           "Qatar",
           1995
          ],
          [
           "Qatar",
           2001
          ],
          [
           "Qatar",
           2004
          ],
          [
           "Qatar",
           2005
          ],
          [
           "Qatar",
           2006
          ],
          [
           "Qatar",
           2007
          ],
          [
           "Qatar",
           2008
          ],
          [
           "Qatar",
           2009
          ],
          [
           "Qatar",
           2010
          ],
          [
           "Qatar",
           2011
          ],
          [
           "Qatar",
           2012
          ],
          [
           "Qatar",
           2013
          ],
          [
           "Qatar",
           2014
          ],
          [
           "Qatar",
           2015
          ],
          [
           "Qatar",
           2016
          ],
          [
           "Romania",
           1980
          ],
          [
           "Romania",
           1985
          ],
          [
           "Romania",
           1990
          ],
          [
           "Romania",
           1995
          ],
          [
           "Romania",
           2000
          ],
          [
           "Romania",
           2001
          ],
          [
           "Romania",
           2002
          ],
          [
           "Romania",
           2003
          ],
          [
           "Romania",
           2004
          ],
          [
           "Romania",
           2005
          ],
          [
           "Romania",
           2006
          ],
          [
           "Romania",
           2007
          ],
          [
           "Romania",
           2008
          ],
          [
           "Romania",
           2009
          ],
          [
           "Romania",
           2010
          ],
          [
           "Romania",
           2011
          ],
          [
           "Romania",
           2012
          ],
          [
           "Romania",
           2013
          ],
          [
           "Romania",
           2014
          ],
          [
           "Romania",
           2015
          ],
          [
           "Romania",
           2016
          ],
          [
           "Saudi Arabia",
           2009
          ],
          [
           "Saudi Arabia",
           2012
          ],
          [
           "Serbia",
           2000
          ],
          [
           "Serbia",
           2001
          ],
          [
           "Serbia",
           2002
          ],
          [
           "Serbia",
           2003
          ],
          [
           "Serbia",
           2004
          ],
          [
           "Serbia",
           2005
          ],
          [
           "Serbia",
           2006
          ],
          [
           "Serbia",
           2007
          ],
          [
           "Serbia",
           2008
          ],
          [
           "Serbia",
           2009
          ],
          [
           "Serbia",
           2010
          ],
          [
           "Serbia",
           2011
          ],
          [
           "Serbia",
           2012
          ],
          [
           "Serbia",
           2013
          ],
          [
           "Serbia",
           2014
          ],
          [
           "Serbia",
           2015
          ],
          [
           "Seychelles",
           1985
          ],
          [
           "Seychelles",
           2001
          ],
          [
           "Seychelles",
           2002
          ],
          [
           "Seychelles",
           2003
          ],
          [
           "Seychelles",
           2004
          ],
          [
           "Seychelles",
           2005
          ],
          [
           "Seychelles",
           2006
          ],
          [
           "Seychelles",
           2007
          ],
          [
           "Seychelles",
           2008
          ],
          [
           "Seychelles",
           2009
          ],
          [
           "Seychelles",
           2010
          ],
          [
           "Seychelles",
           2011
          ],
          [
           "Seychelles",
           2012
          ],
          [
           "Seychelles",
           2013
          ],
          [
           "Seychelles",
           2014
          ],
          [
           "Seychelles",
           2015
          ],
          [
           "Singapore",
           1980
          ],
          [
           "Singapore",
           1985
          ],
          [
           "Singapore",
           1990
          ],
          [
           "Singapore",
           1995
          ],
          [
           "Singapore",
           2000
          ],
          [
           "Singapore",
           2001
          ],
          [
           "Singapore",
           2002
          ],
          [
           "Singapore",
           2003
          ],
          [
           "Singapore",
           2004
          ],
          [
           "Singapore",
           2005
          ],
          [
           "Singapore",
           2006
          ],
          [
           "Singapore",
           2007
          ],
          [
           "Singapore",
           2008
          ],
          [
           "Singapore",
           2009
          ],
          [
           "Singapore",
           2010
          ],
          [
           "Singapore",
           2011
          ],
          [
           "Singapore",
           2012
          ],
          [
           "Singapore",
           2013
          ],
          [
           "Singapore",
           2014
          ],
          [
           "Singapore",
           2015
          ],
          [
           "Slovenia",
           1985
          ],
          [
           "Slovenia",
           1990
          ],
          [
           "Slovenia",
           1995
          ],
          [
           "Slovenia",
           2000
          ],
          [
           "Slovenia",
           2001
          ],
          [
           "Slovenia",
           2002
          ],
          [
           "Slovenia",
           2003
          ],
          [
           "Slovenia",
           2004
          ],
          [
           "Slovenia",
           2005
          ],
          [
           "Slovenia",
           2006
          ],
          [
           "Slovenia",
           2007
          ],
          [
           "Slovenia",
           2008
          ],
          [
           "Slovenia",
           2009
          ],
          [
           "Slovenia",
           2010
          ],
          [
           "Slovenia",
           2011
          ],
          [
           "Slovenia",
           2012
          ],
          [
           "Slovenia",
           2013
          ],
          [
           "Slovenia",
           2014
          ],
          [
           "Slovenia",
           2015
          ],
          [
           "South Africa",
           2000
          ],
          [
           "South Africa",
           2001
          ],
          [
           "South Africa",
           2002
          ],
          [
           "South Africa",
           2003
          ],
          [
           "South Africa",
           2004
          ],
          [
           "South Africa",
           2005
          ],
          [
           "South Africa",
           2006
          ],
          [
           "South Africa",
           2007
          ],
          [
           "South Africa",
           2008
          ],
          [
           "South Africa",
           2009
          ],
          [
           "South Africa",
           2010
          ],
          [
           "South Africa",
           2011
          ],
          [
           "South Africa",
           2012
          ],
          [
           "South Africa",
           2013
          ],
          [
           "South Africa",
           2014
          ],
          [
           "South Africa",
           2015
          ],
          [
           "Spain",
           1980
          ],
          [
           "Spain",
           1985
          ],
          [
           "Spain",
           1990
          ],
          [
           "Spain",
           1995
          ],
          [
           "Spain",
           2000
          ],
          [
           "Spain",
           2001
          ],
          [
           "Spain",
           2002
          ],
          [
           "Spain",
           2003
          ],
          [
           "Spain",
           2004
          ],
          [
           "Spain",
           2005
          ],
          [
           "Spain",
           2006
          ],
          [
           "Spain",
           2007
          ],
          [
           "Spain",
           2008
          ],
          [
           "Spain",
           2009
          ],
          [
           "Spain",
           2010
          ],
          [
           "Spain",
           2011
          ],
          [
           "Spain",
           2012
          ],
          [
           "Spain",
           2013
          ],
          [
           "Spain",
           2014
          ],
          [
           "Spain",
           2015
          ],
          [
           "Sri Lanka",
           1980
          ],
          [
           "Sri Lanka",
           1985
          ],
          [
           "Sri Lanka",
           2000
          ],
          [
           "Sri Lanka",
           2001
          ],
          [
           "Sri Lanka",
           2002
          ],
          [
           "Sri Lanka",
           2003
          ],
          [
           "Sri Lanka",
           2006
          ],
          [
           "Suriname",
           1980
          ],
          [
           "Suriname",
           1985
          ],
          [
           "Suriname",
           1990
          ],
          [
           "Suriname",
           1995
          ],
          [
           "Suriname",
           2000
          ],
          [
           "Suriname",
           2001
          ],
          [
           "Suriname",
           2002
          ],
          [
           "Suriname",
           2003
          ],
          [
           "Suriname",
           2004
          ],
          [
           "Suriname",
           2005
          ],
          [
           "Suriname",
           2006
          ],
          [
           "Suriname",
           2007
          ],
          [
           "Suriname",
           2008
          ],
          [
           "Suriname",
           2009
          ],
          [
           "Suriname",
           2010
          ],
          [
           "Suriname",
           2011
          ],
          [
           "Suriname",
           2012
          ],
          [
           "Suriname",
           2013
          ],
          [
           "Suriname",
           2014
          ],
          [
           "Sweden",
           1980
          ],
          [
           "Sweden",
           1985
          ],
          [
           "Sweden",
           1990
          ],
          [
           "Sweden",
           1995
          ],
          [
           "Sweden",
           2000
          ],
          [
           "Sweden",
           2001
          ],
          [
           "Sweden",
           2002
          ],
          [
           "Sweden",
           2003
          ],
          [
           "Sweden",
           2004
          ],
          [
           "Sweden",
           2005
          ],
          [
           "Sweden",
           2006
          ],
          [
           "Sweden",
           2007
          ],
          [
           "Sweden",
           2008
          ],
          [
           "Sweden",
           2009
          ],
          [
           "Sweden",
           2010
          ],
          [
           "Sweden",
           2011
          ],
          [
           "Sweden",
           2012
          ],
          [
           "Sweden",
           2013
          ],
          [
           "Sweden",
           2014
          ],
          [
           "Sweden",
           2015
          ],
          [
           "Sweden",
           2016
          ],
          [
           "Switzerland",
           1980
          ],
          [
           "Switzerland",
           1985
          ],
          [
           "Switzerland",
           1990
          ],
          [
           "Switzerland",
           1995
          ],
          [
           "Switzerland",
           2000
          ],
          [
           "Switzerland",
           2001
          ],
          [
           "Switzerland",
           2002
          ],
          [
           "Switzerland",
           2003
          ],
          [
           "Switzerland",
           2004
          ],
          [
           "Switzerland",
           2005
          ],
          [
           "Switzerland",
           2006
          ],
          [
           "Switzerland",
           2007
          ],
          [
           "Switzerland",
           2008
          ],
          [
           "Switzerland",
           2009
          ],
          [
           "Switzerland",
           2010
          ],
          [
           "Switzerland",
           2011
          ],
          [
           "Switzerland",
           2012
          ],
          [
           "Switzerland",
           2013
          ],
          [
           "Switzerland",
           2014
          ],
          [
           "Switzerland",
           2015
          ],
          [
           "Tajikistan",
           1985
          ],
          [
           "Tajikistan",
           1990
          ],
          [
           "Tajikistan",
           1995
          ],
          [
           "Tajikistan",
           2000
          ],
          [
           "Tajikistan",
           2001
          ],
          [
           "Tajikistan",
           2002
          ],
          [
           "Tajikistan",
           2003
          ],
          [
           "Tajikistan",
           2004
          ],
          [
           "Tajikistan",
           2005
          ],
          [
           "Tajikistan",
           2016
          ],
          [
           "Thailand",
           1980
          ],
          [
           "Thailand",
           1985
          ],
          [
           "Thailand",
           1990
          ],
          [
           "Thailand",
           1995
          ],
          [
           "Thailand",
           2000
          ],
          [
           "Thailand",
           2002
          ],
          [
           "Thailand",
           2003
          ],
          [
           "Thailand",
           2004
          ],
          [
           "Thailand",
           2005
          ],
          [
           "Thailand",
           2006
          ],
          [
           "Thailand",
           2007
          ],
          [
           "Thailand",
           2008
          ],
          [
           "Thailand",
           2009
          ],
          [
           "Thailand",
           2010
          ],
          [
           "Thailand",
           2011
          ],
          [
           "Thailand",
           2012
          ],
          [
           "Thailand",
           2013
          ],
          [
           "Thailand",
           2014
          ],
          [
           "Thailand",
           2015
          ],
          [
           "Thailand",
           2016
          ],
          [
           "Tunisia",
           2009
          ],
          [
           "Tunisia",
           2013
          ],
          [
           "Turkey",
           2009
          ],
          [
           "Turkey",
           2010
          ],
          [
           "Turkey",
           2011
          ],
          [
           "Turkey",
           2012
          ],
          [
           "Turkey",
           2013
          ],
          [
           "Turkey",
           2014
          ],
          [
           "Turkey",
           2015
          ],
          [
           "Ukraine",
           1985
          ],
          [
           "Ukraine",
           1990
          ],
          [
           "Ukraine",
           1995
          ],
          [
           "Ukraine",
           2000
          ],
          [
           "Ukraine",
           2001
          ],
          [
           "Ukraine",
           2002
          ],
          [
           "Ukraine",
           2003
          ],
          [
           "Ukraine",
           2004
          ],
          [
           "Ukraine",
           2005
          ],
          [
           "Ukraine",
           2006
          ],
          [
           "Ukraine",
           2007
          ],
          [
           "Ukraine",
           2008
          ],
          [
           "Ukraine",
           2009
          ],
          [
           "Ukraine",
           2010
          ],
          [
           "Ukraine",
           2011
          ],
          [
           "Ukraine",
           2012
          ],
          [
           "Ukraine",
           2014
          ],
          [
           "Ukraine",
           2015
          ],
          [
           "United Kingdom",
           1980
          ],
          [
           "United Kingdom",
           1985
          ],
          [
           "United Kingdom",
           1990
          ],
          [
           "United Kingdom",
           1995
          ],
          [
           "United Kingdom",
           2000
          ],
          [
           "United Kingdom",
           2001
          ],
          [
           "United Kingdom",
           2002
          ],
          [
           "United Kingdom",
           2003
          ],
          [
           "United Kingdom",
           2004
          ],
          [
           "United Kingdom",
           2005
          ],
          [
           "United Kingdom",
           2006
          ],
          [
           "United Kingdom",
           2007
          ],
          [
           "United Kingdom",
           2008
          ],
          [
           "United Kingdom",
           2009
          ],
          [
           "United Kingdom",
           2010
          ],
          [
           "United Kingdom",
           2011
          ],
          [
           "United Kingdom",
           2012
          ],
          [
           "United Kingdom",
           2013
          ],
          [
           "United Kingdom",
           2014
          ],
          [
           "United Kingdom",
           2015
          ],
          [
           "United Kingdom",
           2016
          ],
          [
           "Uruguay",
           1980
          ],
          [
           "Uruguay",
           1985
          ],
          [
           "Uruguay",
           1990
          ],
          [
           "Uruguay",
           1995
          ],
          [
           "Uruguay",
           2000
          ],
          [
           "Uruguay",
           2001
          ],
          [
           "Uruguay",
           2002
          ],
          [
           "Uruguay",
           2003
          ],
          [
           "Uruguay",
           2004
          ],
          [
           "Uruguay",
           2005
          ],
          [
           "Uruguay",
           2006
          ],
          [
           "Uruguay",
           2007
          ],
          [
           "Uruguay",
           2008
          ],
          [
           "Uruguay",
           2009
          ],
          [
           "Uruguay",
           2010
          ],
          [
           "Uruguay",
           2012
          ],
          [
           "Uruguay",
           2013
          ],
          [
           "Uruguay",
           2014
          ],
          [
           "Uruguay",
           2015
          ],
          [
           "Zimbabwe",
           1990
          ]
         ],
         "hovertemplate": "economic_freedom=%{x}<br>suicides_no=%{y}<br>country=%{customdata[0]}<br>year=%{customdata[1]}<br>quartile=%{marker.color}<extra></extra>",
         "legendgroup": "",
         "marker": {
          "color": [
           2,
           2,
           2,
           2,
           2,
           1,
           2,
           2,
           2,
           1,
           1,
           4,
           4,
           4,
           2,
           2,
           2,
           3,
           3,
           3,
           4,
           4,
           3,
           4,
           4,
           4,
           4,
           4,
           4,
           4,
           4,
           4,
           4,
           4,
           4,
           4,
           4,
           4,
           2,
           2,
           2,
           2,
           1,
           1,
           1,
           1,
           1,
           1,
           1,
           1,
           1,
           1,
           1,
           1,
           1,
           1,
           1,
           1,
           1,
           1,
           1,
           1,
           1,
           1,
           1,
           1,
           1,
           1,
           1,
           1,
           1,
           1,
           1,
           1,
           1,
           1,
           1,
           1,
           1,
           1,
           1,
           1,
           1,
           1,
           1,
           1,
           1,
           1,
           1,
           1,
           1,
           1,
           1,
           1,
           1,
           1,
           1,
           1,
           1,
           3,
           4,
           4,
           1,
           1,
           2,
           3,
           2,
           3,
           2,
           2,
           2,
           1,
           1,
           1,
           1,
           1,
           2,
           2,
           2,
           1,
           2,
           2,
           2,
           2,
           2,
           2,
           2,
           2,
           1,
           2,
           1,
           1,
           2,
           2,
           2,
           2,
           2,
           2,
           3,
           3,
           3,
           3,
           4,
           3,
           3,
           4,
           4,
           3,
           3,
           3,
           3,
           3,
           3,
           3,
           3,
           3,
           3,
           3,
           3,
           3,
           3,
           3,
           3,
           3,
           3,
           3,
           3,
           3,
           3,
           3,
           3,
           3,
           1,
           1,
           1,
           1,
           1,
           1,
           1,
           1,
           1,
           1,
           2,
           2,
           2,
           2,
           1,
           1,
           2,
           2,
           1,
           2,
           2,
           2,
           2,
           3,
           3,
           3,
           3,
           2,
           2,
           2,
           2,
           2,
           2,
           3,
           2,
           2,
           2,
           3,
           3,
           2,
           2,
           3,
           3,
           4,
           4,
           3,
           3,
           3,
           3,
           4,
           4,
           4,
           4,
           3,
           3,
           3,
           3,
           3,
           3,
           3,
           3,
           3,
           3,
           3,
           3,
           4,
           4,
           4,
           4,
           4,
           4,
           4,
           4,
           4,
           4,
           4,
           4,
           4,
           4,
           4,
           2,
           3,
           2,
           3,
           3,
           3,
           2,
           2,
           4,
           4,
           4,
           3,
           3,
           2,
           2,
           2,
           2,
           2,
           2,
           2,
           2,
           2,
           2,
           2,
           2,
           1,
           1,
           1,
           1,
           1,
           1,
           1,
           1,
           1,
           1,
           1,
           1,
           1,
           1,
           1,
           1,
           1,
           1,
           3,
           2,
           2,
           1,
           2,
           2,
           1,
           1,
           1,
           1,
           1,
           1,
           1,
           1,
           1,
           1,
           1,
           1,
           1,
           1,
           3,
           3,
           3,
           4,
           3,
           3,
           3,
           3,
           3,
           3,
           3,
           3,
           3,
           3,
           3,
           3,
           3,
           3,
           3,
           2,
           2,
           1,
           1,
           1,
           2,
           2,
           1,
           2,
           1,
           1,
           1,
           2,
           1,
           2,
           1,
           1,
           1,
           1,
           4,
           4,
           4,
           3,
           3,
           3,
           3,
           3,
           3,
           3,
           3,
           3,
           3,
           3,
           3,
           2,
           3,
           2,
           2,
           2,
           3,
           2,
           2,
           1,
           1,
           1,
           1,
           1,
           1,
           1,
           1,
           1,
           2,
           2,
           1,
           1,
           1,
           1,
           1,
           1,
           1,
           1,
           1,
           1,
           1,
           1,
           1,
           1,
           1,
           1,
           1,
           1,
           1,
           1,
           1,
           1,
           2,
           3,
           3,
           2,
           3,
           4,
           3,
           3,
           4,
           4,
           4,
           4,
           4,
           4,
           4,
           4,
           4,
           4,
           4,
           4,
           3,
           3,
           3,
           4,
           4,
           3,
           3,
           3,
           3,
           3,
           4,
           3,
           4,
           4,
           4,
           4,
           4,
           3,
           1,
           1,
           1,
           1,
           1,
           1,
           1,
           1,
           1,
           1,
           1,
           2,
           2,
           2,
           2,
           2,
           2,
           2,
           2,
           1,
           1,
           1,
           1,
           1,
           1,
           1,
           1,
           1,
           1,
           1,
           1,
           1,
           1,
           1,
           1,
           3,
           3,
           3,
           3,
           2,
           2,
           2,
           2,
           2,
           2,
           3,
           1,
           1,
           1,
           1,
           1,
           1,
           1,
           1,
           1,
           1,
           1,
           1,
           1,
           1,
           1,
           1,
           1,
           1,
           1,
           1,
           2,
           2,
           1,
           2,
           1,
           2,
           2,
           2,
           2,
           2,
           2,
           2,
           1,
           1,
           1,
           2,
           2,
           2,
           2,
           2,
           2,
           2,
           2,
           2,
           2,
           2,
           2,
           1,
           1,
           2,
           1,
           1,
           1,
           1,
           1,
           1,
           1,
           1,
           1,
           1,
           1,
           1,
           1,
           1,
           1,
           1,
           1,
           1,
           1,
           1,
           1,
           1,
           1,
           1,
           1,
           1,
           2,
           3,
           2,
           2,
           2,
           2,
           2,
           2,
           2,
           2,
           2,
           2,
           2,
           2,
           3,
           3,
           3,
           3,
           3,
           3,
           1,
           2,
           1,
           2,
           2,
           2,
           2,
           2,
           2,
           2,
           2,
           2,
           2,
           2,
           2,
           1,
           1,
           1,
           1,
           4,
           4,
           3,
           3,
           3,
           4,
           4,
           4,
           3,
           3,
           3,
           4,
           3,
           3,
           4,
           2,
           3,
           3,
           3,
           3,
           2,
           2,
           2,
           2,
           2,
           2,
           2,
           4,
           3,
           3,
           2,
           2,
           2,
           2,
           2,
           2,
           2,
           2,
           2,
           2,
           2,
           2,
           1,
           2,
           2,
           2,
           2,
           2,
           3,
           2,
           1,
           1,
           1,
           1,
           1,
           1,
           1,
           1,
           1,
           1,
           2,
           2,
           3,
           3,
           2,
           2,
           2,
           2,
           2,
           4,
           1,
           1,
           1,
           1,
           1,
           1,
           1,
           1,
           1,
           1,
           1,
           1,
           1,
           1,
           1,
           1,
           1,
           1,
           1,
           4,
           4,
           4,
           3,
           2,
           2,
           2,
           2,
           2,
           2,
           2,
           2,
           2,
           2,
           2,
           2,
           2,
           1,
           2,
           1,
           1,
           2,
           2,
           1,
           2,
           1,
           1,
           1,
           2,
           2,
           2,
           2,
           2,
           2,
           2,
           2,
           2,
           2,
           2,
           2,
           2,
           4,
           3,
           2,
           1,
           1,
           2,
           1,
           1,
           1,
           1,
           2,
           2,
           2,
           1,
           1,
           1,
           1,
           1,
           1,
           1,
           1,
           1,
           1,
           1,
           1,
           1,
           1,
           1,
           1,
           1,
           1,
           1,
           2,
           2,
           2,
           1,
           1,
           1,
           2,
           2,
           2,
           2,
           2,
           2,
           2,
           2,
           2,
           2,
           2,
           2,
           2,
           2,
           2,
           2,
           2,
           2,
           2,
           4,
           2,
           2,
           2,
           1,
           1,
           1,
           2,
           2,
           2,
           2,
           2,
           2,
           2,
           2,
           2,
           3,
           3,
           2,
           2,
           2,
           3,
           2,
           1,
           1,
           1,
           1,
           1,
           1,
           1,
           1,
           2,
           2,
           2,
           1,
           1,
           1,
           1,
           4,
           4,
           3,
           2,
           2,
           2,
           2,
           2,
           2,
           1,
           1,
           1,
           1,
           1,
           1,
           1,
           1,
           1,
           1,
           1,
           1,
           1,
           1,
           1,
           1,
           1,
           1,
           1,
           1,
           1,
           1,
           1,
           1,
           1,
           1,
           1,
           1,
           1,
           1,
           1,
           3,
           3,
           3,
           3,
           3,
           3,
           3,
           3,
           3,
           3,
           3,
           3,
           3,
           2,
           2,
           2,
           2,
           2,
           2,
           2,
           2,
           2,
           3,
           2,
           1,
           2,
           1,
           1,
           1,
           1,
           1,
           1,
           1,
           1,
           1,
           3,
           1,
           2,
           1,
           1,
           1,
           2,
           2,
           2,
           1,
           2,
           1,
           1,
           1,
           1,
           1,
           1,
           1,
           1,
           1,
           1,
           3,
           3,
           2,
           2,
           3,
           3,
           3,
           3,
           2,
           3,
           3,
           3,
           3,
           3,
           3,
           3,
           3,
           3,
           3,
           2,
           2,
           2,
           2,
           2,
           2,
           2,
           3,
           3,
           2,
           2,
           2,
           3,
           4,
           4,
           3,
           3,
           3,
           3,
           3,
           3,
           3,
           3,
           3,
           4,
           1,
           1,
           1,
           1,
           1,
           1,
           1,
           1,
           1,
           1,
           1,
           1,
           1,
           1,
           1,
           1,
           1,
           1,
           1,
           1,
           1,
           1,
           1,
           1,
           1,
           1,
           1,
           1,
           1,
           1,
           1,
           1,
           1,
           1,
           1,
           1,
           1,
           1,
           1,
           4,
           2,
           3,
           2,
           2,
           2,
           2,
           2,
           2,
           2,
           2,
           2,
           2,
           2,
           2,
           2,
           2,
           2,
           1,
           1,
           1,
           2,
           2,
           2,
           1,
           1,
           1,
           1,
           1,
           1,
           1,
           1,
           1,
           1,
           1,
           1,
           1,
           2,
           2,
           2,
           1,
           1,
           1,
           1,
           1,
           1,
           1,
           1,
           1,
           1,
           2,
           2,
           2,
           2,
           2,
           1,
           1,
           1,
           1,
           3,
           2,
           2,
           2,
           3,
           3,
           3,
           3,
           3,
           3,
           3,
           3,
           3,
           3,
           3,
           3,
           2,
           3,
           4,
           2,
           1,
           1,
           1,
           1,
           2,
           2,
           2,
           2,
           1,
           1,
           1,
           1,
           1,
           1,
           1,
           1,
           3,
           2,
           2,
           2,
           2,
           2,
           2,
           3,
           3,
           3,
           2,
           2,
           1,
           2,
           2,
           4,
           4,
           3,
           3,
           3,
           3,
           3,
           2,
           2,
           2,
           3,
           2,
           2,
           2,
           2,
           2,
           2,
           2,
           2,
           2,
           2,
           2,
           1,
           1,
           2,
           1,
           1,
           1,
           2,
           2,
           2,
           2,
           2,
           2,
           2,
           2,
           1,
           1,
           1,
           1,
           1,
           1,
           1,
           1,
           1,
           1,
           1,
           2,
           1,
           1,
           1,
           2,
           1,
           1,
           2,
           3,
           4,
           4,
           4,
           3,
           3,
           3,
           2,
           2,
           1,
           2,
           1,
           2,
           2,
           1,
           1,
           1,
           1,
           1,
           1,
           3,
           4,
           4,
           4,
           4,
           4,
           4,
           3,
           3,
           3,
           3,
           3,
           3,
           3,
           3,
           3,
           3,
           3,
           3,
           3,
           3,
           3,
           3,
           3,
           3,
           3,
           3,
           3,
           3,
           3,
           2,
           1,
           2,
           1,
           1,
           1,
           1,
           1,
           1,
           1,
           1,
           1,
           1,
           1,
           1,
           1,
           1,
           1,
           1,
           1,
           1,
           1,
           1,
           2,
           2,
           3,
           3,
           2,
           2,
           2,
           2,
           2,
           2,
           2,
           2,
           2,
           3,
           3,
           3,
           3,
           2,
           2,
           2,
           2,
           2,
           2,
           2,
           2,
           2,
           2,
           3,
           3,
           2,
           2,
           2,
           2,
           3,
           3,
           2,
           2,
           2,
           1,
           1,
           1,
           1,
           1,
           1,
           1,
           1,
           1,
           2,
           2,
           2,
           1,
           2,
           2,
           2,
           1,
           3,
           3,
           3,
           3,
           3,
           3,
           3,
           4,
           4,
           4,
           4,
           4,
           4,
           4,
           4,
           4,
           4,
           4,
           4,
           4,
           4,
           3,
           3,
           3,
           3,
           3,
           2,
           1,
           1,
           1,
           1,
           1,
           1,
           1,
           1,
           1,
           1,
           2,
           2,
           1,
           1,
           1,
           1,
           1,
           1,
           1,
           2,
           1,
           1,
           1,
           1,
           1,
           1,
           1,
           1,
           1,
           1,
           1,
           1,
           1,
           1,
           1,
           1,
           1,
           1,
           1,
           1,
           1,
           1,
           1,
           1,
           1,
           1,
           1,
           1,
           1,
           3,
           2,
           2,
           1,
           2,
           3,
           3,
           3,
           3,
           3,
           3,
           3,
           3,
           3,
           3,
           3,
           3,
           3,
           3,
           3,
           3,
           3,
           4,
           3,
           3,
           2,
           2,
           3,
           3,
           3,
           2,
           2,
           4,
           4,
           4,
           4,
           4,
           4,
           4,
           4,
           4,
           4,
           4,
           4,
           4,
           4,
           4,
           4,
           1,
           1,
           1,
           1,
           1,
           1,
           1,
           1,
           1,
           1,
           1,
           1,
           1,
           1,
           1,
           1,
           1,
           1,
           1,
           1,
           1,
           1,
           2,
           2,
           2,
           2,
           2,
           2,
           2,
           2,
           2,
           2,
           2,
           2,
           2,
           2,
           2,
           2,
           2,
           2,
           3
          ],
          "coloraxis": "coloraxis",
          "symbol": "circle"
         },
         "mode": "markers",
         "name": "",
         "showlegend": false,
         "type": "scattergl",
         "x": [
          6.96,
          7.14,
          7.21,
          7.22,
          7.31,
          7.35,
          7.24,
          7.2,
          7.27,
          7.48,
          7.53,
          4.25,
          3.53,
          4.47,
          6.95,
          7.34,
          6.84,
          6.28,
          6.16,
          6.33,
          5.99,
          6.08,
          6.19,
          5.88,
          5.82,
          5.59,
          5.58,
          5.04,
          4.88,
          4.49,
          4.98,
          5.756363636363636,
          5.985454545454545,
          6.214545454545455,
          6.4436363636363625,
          6.672727272727273,
          6.901818181818182,
          7.130909090909091,
          7.36,
          7.31,
          7.45,
          7.42,
          7.59,
          7.55,
          7.56,
          7.71,
          7.75,
          7.69,
          7.7,
          7.59,
          7.57,
          6.85,
          7.16,
          7.73,
          7.95,
          8.19,
          8.07,
          8.05,
          8.06,
          8.01,
          8.07,
          8.14,
          8.18,
          8.08,
          7.97,
          8.02,
          8.01,
          7.96,
          7.92,
          8.02,
          8,
          6.45,
          6.46,
          6.95,
          7.15,
          7.96,
          7.84,
          7.8,
          7.94,
          7.9,
          7.85,
          7.85,
          7.81,
          7.7,
          7.66,
          7.62,
          7.65,
          7.62,
          7.63,
          7.68,
          7.64,
          7.58,
          7.074545454545453,
          6.948181818181817,
          6.821818181818182,
          6.695454545454545,
          6.569090909090908,
          6.442727272727272,
          6.316363636363636,
          6.19,
          6.01,
          6.11,
          6.28,
          6.32,
          6.41,
          6.66,
          6.75,
          6.72,
          7.07,
          7.18,
          7.38,
          7.46,
          7.55,
          7.58,
          7.49,
          7.38,
          7.32,
          7.31,
          7.33,
          6.6,
          7.42,
          7.33,
          7.33,
          7.2,
          7.02,
          6.89,
          7.35,
          7.52,
          7.42,
          7.29,
          7.47,
          7.49,
          7.33,
          7.33,
          7.36,
          5.72,
          6.06,
          5.99,
          6.01,
          6.13,
          6.15,
          6.05,
          5.83,
          6.13,
          6.31,
          6.1,
          6.12,
          6.22,
          6.56,
          6.63,
          6.63,
          6.67,
          6.68,
          6.395217391304348,
          6.386521739130433,
          6.377826086956523,
          6.369130434782607,
          6.360434782608697,
          6.351739130434782,
          6.34304347826087,
          6.334347826086956,
          6.325652173913044,
          6.31695652173913,
          6.308260869565218,
          6.2995652173913035,
          6.290869565217393,
          6.2821739130434775,
          6.273478260869566,
          6.264782608695652,
          6.25608695652174,
          6.247391304347826,
          6.238695652173914,
          7.35,
          7.32,
          7.56,
          7.32,
          7.76,
          7.41,
          7.52,
          7.55,
          7.47,
          7.41,
          7.39,
          7.38,
          7.3,
          7.28,
          7.39,
          7.38,
          7.35,
          7.37,
          7.59,
          7.43,
          5.59,
          5.9,
          6.63,
          6.39,
          6.28,
          6.49,
          6.56,
          7.02,
          7.37,
          7.27,
          7.34,
          7.32,
          7.07,
          6.52,
          7.12,
          7.13,
          7.03,
          6.9,
          6.81,
          6.97,
          6.88,
          6.57,
          6.47,
          6.213333333333334,
          6.2091666666666665,
          6.63,
          6.7,
          6.79,
          6.78,
          3.92,
          2.96,
          4.23,
          4.66,
          5.98,
          5.98,
          6.23,
          6.08,
          6.15,
          6.18,
          6.15,
          6.17,
          6.31,
          6.24,
          6.46,
          6.45,
          6.24,
          6.05,
          5.93,
          5.75,
          6.2158823529411755,
          6.293529411764706,
          6.371176470588236,
          6.448823529411764,
          6.526470588235294,
          6.604117647058824,
          6.681764705882353,
          6.759411764705884,
          6.8370588235294125,
          6.9147058823529415,
          6.9923529411764695,
          7.07,
          6.92,
          7.07,
          6.75,
          6.89,
          6.77,
          5.9700000000000015,
          5.65,
          4.17,
          4.82,
          5.55,
          6.11,
          6.58,
          6.81,
          6.81,
          6.95,
          7.08,
          7.1,
          7.17,
          7.29,
          7.3,
          7.37,
          7.37,
          7.33,
          7.37,
          7.77,
          7.87,
          8.17,
          8.08,
          8.27,
          8.2,
          8.06,
          8.16,
          8.17,
          8.12,
          8.13,
          8.09,
          8.04,
          8.01,
          8.01,
          7.95,
          7.99,
          8.03,
          5.05,
          5.55,
          6.61,
          7.37,
          7.36,
          7.37,
          7.6,
          7.76,
          7.71,
          7.74,
          7.76,
          7.87,
          7.8,
          7.87,
          7.89,
          7.91,
          7.81,
          7.88,
          7.84,
          7.79,
          5.06,
          5.02,
          5.48,
          5.67,
          6.23,
          6.27,
          6.4,
          6.35,
          6.34,
          6.51,
          6.66,
          6.6,
          6.7,
          6.74,
          6.82,
          6.72,
          6.67,
          6.58,
          6.55,
          5.52,
          5.33,
          6.98,
          7.33,
          7.46,
          7.32,
          7.18,
          7.4,
          7.22,
          7.56,
          7.76,
          7.59,
          7.37,
          7.37,
          7.28,
          7.57,
          7.53,
          7.48,
          7.5,
          5.386666666666668,
          5.233333333333333,
          5.08,
          6.28,
          6,
          6.24,
          6.3,
          6.34,
          6.47,
          6.54,
          6.61,
          6.72,
          6.78,
          6.68,
          6.9,
          6.93,
          6.9,
          7,
          7.04,
          6.96,
          6.64,
          7.12,
          7.01,
          7.65,
          7.56,
          7.5,
          7.77,
          7.74,
          7.77,
          7.73,
          7.67,
          7.47,
          7.07,
          7.33,
          7.69,
          7.71,
          6.24,
          6.37,
          7.16,
          7.73,
          8.06,
          7.88,
          7.88,
          8.01,
          8,
          7.89,
          7.97,
          7.97,
          7.88,
          7.66,
          7.77,
          7.71,
          7.56,
          7.68,
          7.81,
          7.75,
          5.7,
          4.6,
          5.47,
          6.31,
          5.86,
          5.76,
          6.25,
          6.25,
          5.68,
          5.94,
          5.99,
          5.83,
          6.02,
          5.92,
          5.87,
          5.88,
          6.03,
          5.88,
          5.66,
          6.09,
          4.32,
          6.51,
          6.3,
          5.99,
          5.87,
          5.98,
          6.29,
          6.4,
          6.59,
          6.43,
          6.21,
          6.35,
          6.18,
          6.14,
          6.01,
          5.78,
          5.77,
          4.81,
          7.64,
          7.72,
          7.59,
          7.52,
          7.55,
          7.64,
          7.47,
          7.57,
          7.63,
          7.53,
          7.4,
          7.21,
          7.14,
          7.09,
          7.2,
          7.35,
          6.536666666666667,
          6.383333333333334,
          6.23,
          7.6,
          7.67,
          7.72,
          7.84,
          7.98,
          7.96,
          7.97,
          7.85,
          7.77,
          7.7,
          7.82,
          7.74,
          7.68,
          7.7,
          7.79,
          7.93,
          6.51,
          6.57,
          6.53,
          6.73,
          7.32,
          7.13,
          7.2,
          7.26,
          7.08,
          7.04,
          6.84,
          6.5,
          6.77,
          6.99,
          7.52,
          7.98,
          7.9,
          7.9,
          7.9,
          7.87,
          7.86,
          7.88,
          7.91,
          7.81,
          7.71,
          7.79,
          7.87,
          7.81,
          7.7,
          7.79,
          7.71,
          6.05,
          6.03,
          7.04,
          6.97,
          7.47,
          7.23,
          7.32,
          7.33,
          7.38,
          7.31,
          7.32,
          7.5,
          7.42,
          7.43,
          7.42,
          7.33,
          7.27,
          7.23,
          7.36,
          7.247999999999999,
          7.225,
          7.202000000000001,
          7.178999999999999,
          7.1560000000000015,
          7.132999999999999,
          7.11,
          6.96,
          7.42,
          7.6,
          7.46,
          7.57,
          7.41,
          7.5,
          7.64,
          7.75,
          7.87,
          8.02,
          7.98,
          7.64,
          7.62,
          7.8,
          7.65,
          7.67,
          7.76,
          7.7,
          7.75,
          7.7,
          7.58,
          7.5,
          7.55,
          7.59,
          7.68,
          7.64,
          7.66,
          7.67,
          7.67,
          5.72,
          5.1,
          5.95,
          6.4,
          6.97,
          6.88,
          7.01,
          7.34,
          7.26,
          7.38,
          7.27,
          7.32,
          7.1,
          6.96,
          6.81,
          6.69,
          6.67,
          6.88,
          6.81,
          6.45,
          6.27,
          5.81,
          7.15,
          6.85,
          6.89,
          6.95,
          7.05,
          7.22,
          7.22,
          7.33,
          7.34,
          7.21,
          7.15,
          7.15,
          7.22,
          7.41,
          7.66,
          7.65,
          7.69,
          4.135,
          5,
          6.27,
          6.34,
          6.23,
          5.76,
          5.85,
          6,
          6.2,
          6.4,
          6.33,
          6.21,
          6.31,
          6.3,
          6.04,
          5.35,
          6.47,
          6.55,
          6.68,
          6.73,
          5.7,
          7.28,
          7.16,
          7.21,
          7.28,
          7.16,
          7.13,
          4.07,
          4.48,
          4.89,
          6.17,
          7.01,
          7.39,
          7,
          7.09,
          7.22,
          7.2,
          7.13,
          7.15,
          7.2,
          7.27,
          7.31,
          7.38,
          7.33,
          7.34,
          7.36,
          7.19,
          7.22,
          5.15,
          5.42,
          6.92,
          7.73,
          7.99,
          7.91,
          7.8,
          8.03,
          8.06,
          8.13,
          8.08,
          7.93,
          7.34,
          6.9,
          6.48,
          6.86,
          6.94,
          7.02,
          7.23,
          7.25,
          7.22,
          5.619130434782608,
          6.46,
          6.53,
          7.06,
          8.25,
          8.08,
          7.96,
          7.85,
          8.03,
          8.13,
          8.22,
          8.11,
          8.01,
          7.87,
          7.76,
          7.67,
          7.83,
          7.98,
          8.04,
          8.12,
          3.5,
          4.04,
          4.48,
          5.91,
          6.84,
          6.87,
          7.23,
          7.25,
          7.23,
          7.3,
          7.23,
          7.22,
          7.2,
          7.14,
          7.32,
          7.35,
          7.36,
          7.42,
          7.45,
          7.47,
          7.49,
          5.58,
          5.78,
          6.75,
          6.62,
          7.59,
          7.47,
          7.5,
          7.19,
          7.29,
          7.37,
          7.25,
          7.15,
          7.07,
          6.97,
          7.19,
          7.22,
          7.22,
          7.19,
          7.25,
          7.31,
          3.98,
          5.09,
          5.62,
          7.53,
          7.4,
          7.36,
          7.46,
          7.55,
          7.51,
          7.5,
          7.26,
          6.97,
          7,
          7.37,
          7.55,
          7.94,
          7.4,
          7.93,
          7.65,
          7.51,
          7.85,
          7.77,
          7.83,
          7.85,
          7.78,
          7.65,
          7.52,
          7.59,
          7.49,
          7.66,
          7.54,
          7.52,
          7.46,
          7.17,
          7.23,
          7.45,
          7.48,
          7.56,
          7.2666666666666675,
          7.218333333333334,
          7.17,
          7.121666666666666,
          7.073333333333332,
          7.025,
          6.9766666666666675,
          6.928333333333333,
          6.88,
          6.98,
          7.15,
          7.04,
          7.07,
          6.94,
          6.97,
          7.14,
          7.13,
          7.23,
          7.26,
          3.69,
          5.46,
          6.41,
          6.97,
          7.45,
          7.48,
          7.51,
          7.09,
          7.08,
          7.19,
          7.33,
          7.03,
          7.1,
          6.95,
          6.93,
          6.93,
          6.84,
          6.77,
          6.295,
          6.09,
          5.885,
          5.68,
          7.24,
          7.53,
          7.69,
          7.54,
          7.61,
          7.62,
          7.76,
          7.59,
          7.52,
          7.33,
          7.23,
          7.34,
          7.56,
          7.68,
          7.81,
          7.72,
          5.226666666666667,
          5.348333333333333,
          5.47,
          6.92,
          6.87,
          7.18,
          7.2,
          7.41,
          7.37,
          7.46,
          7.54,
          7.44,
          7.55,
          7.47,
          7.5,
          7.52,
          7.72,
          7.91,
          7.86,
          7.86,
          8.05,
          8.39,
          8.07,
          7.9,
          8.18,
          8.18,
          7.93,
          7.97,
          7.98,
          7.6,
          7.6,
          7.62,
          7.62,
          7.51,
          7.53,
          7.48,
          7.46,
          7.61,
          7.78,
          7.64,
          6.64,
          6.32,
          6.34,
          6.42,
          6.59,
          6.84,
          6.8,
          6.88,
          6.61,
          6.6,
          6.85,
          6.86,
          6.85,
          7.07,
          7.1,
          5.57,
          5.34,
          5.54,
          7,
          6.98,
          6.98,
          6.88,
          6.52,
          7.22,
          7.55,
          7.37,
          7.74,
          7.59,
          7.64,
          7.59,
          7.67,
          7.63,
          7.66,
          7.8,
          7.72,
          4.9,
          6.38,
          6.12,
          7.81,
          7.54,
          7.45,
          7.29,
          7.21,
          7.05,
          7.53,
          7.37,
          7.89,
          7.96,
          7.85,
          7.98,
          8.05,
          8.15,
          8.12,
          8.02,
          8.02,
          8.01,
          5.19,
          4.67,
          6.26,
          6.46,
          6.6,
          6.54,
          6.73,
          6.72,
          6.84,
          6.83,
          6.87,
          6.78,
          6.66,
          6.53,
          6.67,
          6.68,
          6.71,
          6.77,
          6.85,
          6.88,
          7.4,
          6.758333333333333,
          6.666666666666668,
          6.575,
          6.4833333333333325,
          6.3916666666666675,
          6.3,
          6.91,
          7.04,
          7.19,
          7.16,
          5.93,
          5.78,
          5.9,
          6.04,
          6.03,
          6.21,
          6.22,
          6.26,
          6.41,
          6.47,
          6.34,
          6.37,
          6.28,
          7.29,
          7.34,
          7.56,
          7.96,
          7.96,
          7.75,
          7.72,
          7.72,
          7.75,
          7.73,
          7.66,
          7.64,
          7.58,
          7.44,
          7.48,
          7.58,
          7.54,
          7.62,
          7.74,
          7.73,
          7.71,
          6.44,
          6.29,
          7.86,
          8.84,
          8.58,
          8.48,
          8.46,
          8.49,
          8.52,
          8.44,
          8.26,
          8.39,
          8.4,
          8.27,
          8.33,
          8.39,
          8.47,
          8.48,
          2.87,
          6.91,
          6.63,
          6.93,
          6.99,
          6.87,
          7.15,
          7.25,
          7.29,
          7.12,
          7.09,
          7.18,
          7.31,
          7.36,
          7.34,
          7.3,
          7.27,
          5.72,
          6.39,
          6.99,
          7.57,
          7.36,
          7.26,
          7.14,
          7.66,
          7.62,
          7.73,
          7.59,
          7.73,
          7.63,
          7.5,
          7.47,
          7.56,
          7.58,
          7.6,
          7.62,
          7.65,
          7.13,
          7.01,
          7.05,
          6.07,
          6.7,
          7.61,
          7.55,
          7.49,
          7.55,
          7.54,
          7.57,
          7.49,
          7.56,
          7.24,
          7.25,
          7.22,
          7.13,
          7.34,
          7.38,
          7.48,
          7.57,
          6.24,
          5.24,
          5.94,
          7.04,
          6.79,
          6.72,
          6.59,
          6.53,
          6.45,
          6.48,
          6.41,
          6.37,
          6.5,
          6.56,
          6.74,
          6.8,
          6.89,
          6.95,
          6.87,
          3.87,
          6.47,
          7.48,
          7.48,
          7.42,
          7.41,
          7.43,
          7.39,
          7.41,
          7.39,
          7.5,
          7.51,
          7.64,
          7.62,
          7.57,
          7.52,
          7.53,
          7.47,
          5.15,
          7.1,
          6.97,
          6.76,
          6.95,
          7,
          7.05,
          6.86,
          6.72,
          6.66,
          7.05,
          7.22,
          7.54,
          7.4,
          4.5950000000000015,
          3.68,
          3.51,
          5.28,
          6.55,
          6.47,
          6.59,
          6.49,
          6.81,
          6.89,
          6.94,
          6.86,
          7,
          7.16,
          7.12,
          7.24,
          7.32,
          7.25,
          7.43,
          7.36,
          5.62,
          5.46,
          6.2,
          7.4,
          7.46,
          7.36,
          7.4,
          7.39,
          7.44,
          7.25,
          7.41,
          7.4,
          7.21,
          7.17,
          7,
          7.27,
          7.31,
          7.52,
          7.6,
          7.4535294117647055,
          7.434705882352941,
          7.406470588235294,
          7.397058823529411,
          7.3876470588235295,
          7.378235294117648,
          7.368823529411764,
          7.359411764705883,
          7.35,
          7.23,
          7.5,
          7.54,
          7.68,
          7.43,
          7.49,
          6.0575,
          5.58,
          5.02,
          4.15,
          5.73,
          5.77,
          6.31,
          6.49,
          6.63,
          7.24,
          7.03,
          7.57,
          7.32,
          7.45,
          7.3,
          7.34,
          7.47,
          7.63,
          7.74,
          7.7,
          7.69,
          6.755294117647058,
          6.42,
          6.0683333333333325,
          6.046666666666668,
          6.025,
          6.003333333333333,
          5.9816666666666665,
          5.96,
          6.39,
          6.77,
          6.55,
          6.58,
          6.56,
          6.64,
          6.55,
          6.68,
          6.71,
          6.76,
          6.928,
          7.006,
          7.0255,
          7.045,
          7.0645,
          7.084,
          7.1035,
          7.122999999999999,
          7.1425,
          7.162000000000001,
          7.1815,
          7.2010000000000005,
          7.2205,
          7.24,
          7.46,
          7.33,
          7.42,
          7.65,
          8.49,
          8.88,
          8.7,
          8.67,
          8.79,
          8.73,
          8.8,
          8.91,
          8.98,
          8.96,
          8.92,
          8.77,
          8.76,
          8.76,
          8.64,
          8.64,
          8.84,
          8.84,
          5.973333333333333,
          5.641666666666667,
          5.31,
          6.58,
          6.81,
          6.77,
          6.88,
          6.88,
          6.91,
          6.98,
          6.95,
          7.01,
          7.02,
          6.82,
          6.83,
          6.84,
          6.75,
          7.01,
          7.08,
          7.04,
          7.02,
          6.98,
          7.12,
          6.98,
          6.97,
          6.99,
          6.89,
          6.72,
          6.82,
          7.05,
          7.12,
          6.98,
          7.08,
          6.87,
          6.84,
          5.81,
          6.14,
          6.56,
          7.18,
          7.77,
          7.59,
          7.5,
          7.73,
          7.74,
          7.62,
          7.57,
          7.53,
          7.37,
          7.27,
          7.32,
          7.45,
          7.35,
          7.35,
          7.45,
          7.53,
          4.54,
          4.71,
          6.31,
          6.28,
          6.25,
          6.39,
          6.62,
          5.5858823529411765,
          5.661176470588236,
          5.736470588235294,
          5.811764705882353,
          5.887058823529412,
          5.962352941176472,
          6.037647058823528,
          6.1129411764705885,
          6.188235294117647,
          6.263529411764706,
          6.338823529411764,
          6.414117647058824,
          6.489411764705883,
          6.564705882352941,
          6.64,
          6.35,
          6.64,
          6.72,
          6.78,
          5.66,
          6.45,
          6.96,
          7.32,
          7.67,
          7.44,
          7.53,
          7.61,
          7.47,
          7.5,
          7.46,
          7.43,
          7.4,
          7.39,
          7.58,
          7.57,
          7.48,
          7.44,
          7.62,
          7.65,
          7.44,
          7.62,
          8.15,
          8.21,
          8.16,
          8.73,
          8.55,
          8.64,
          8.56,
          8.5,
          8.37,
          8.42,
          8.43,
          8.24,
          8.26,
          8.3,
          8.23,
          8.2,
          8.22,
          8.31,
          8.37,
          7.511176470588236,
          7.416470588235294,
          7.321764705882352,
          7.227058823529411,
          7.132352941176472,
          7.037647058823528,
          6.942941176470589,
          6.848235294117647,
          6.753529411764706,
          6.72,
          5.86,
          5.94,
          6.69,
          7.07,
          6.6,
          6.67,
          6.73,
          6.77,
          6.72,
          6.86,
          6.83,
          6.8,
          6.69,
          6.65,
          6.59,
          6.58,
          6.61,
          6.62,
          6.8,
          6.85,
          6.71,
          6.35,
          6.79,
          6.83,
          7.03,
          6.99,
          6.86,
          6.87,
          6.84,
          4.49,
          3.76,
          3.03,
          4.71,
          4.92,
          5.4,
          5.3,
          5.52,
          5.81,
          5.95,
          5.92,
          5.87,
          5.89,
          5.9,
          6.15,
          6.24,
          5.91,
          5.4,
          6.72,
          7.71,
          8.18,
          8.21,
          8.56,
          8.45,
          8.46,
          8.47,
          8.34,
          8.3,
          8.2,
          8.13,
          7.99,
          8.08,
          7.89,
          7.9,
          7.91,
          7.96,
          7.91,
          8.01,
          8,
          6.33,
          6.16,
          6.6,
          6.74,
          7.1,
          7.04,
          7.19,
          7.01,
          7.13,
          7.05,
          7,
          7.08,
          7.12,
          7.05,
          7.33,
          7.34,
          7.26,
          7.14,
          7.15,
          4.94
         ],
         "xaxis": "x",
         "y": [
          0,
          0,
          124,
          160,
          0,
          96,
          21.44262295081968,
          16.721311475409838,
          12,
          7.278688524590162,
          2.5573770491803263,
          1972,
          1988,
          2140,
          2204,
          2774,
          3132,
          3162,
          3289,
          3121,
          3058,
          3108,
          2946,
          3059,
          2884,
          2943,
          2912,
          3248,
          2987,
          3231,
          3073,
          74,
          93,
          130,
          61,
          60,
          74,
          59,
          26.64,
          9.36,
          78,
          71,
          63,
          53,
          73,
          67,
          79,
          67,
          58,
          74,
          67,
          1606,
          1861,
          2202,
          2170,
          2391,
          2458,
          2319,
          2156,
          2114,
          1164,
          2117,
          2229,
          2341,
          2337,
          2420,
          2392,
          2580,
          2608,
          2891,
          3027,
          1932,
          2091,
          1825,
          1788,
          1588,
          1489,
          1553,
          1456,
          1422,
          1399,
          1297,
          1285,
          1267,
          1278,
          1264,
          1288,
          1276,
          1291,
          1314,
          1251,
          1204,
          244,
          114,
          49,
          62,
          317,
          92,
          129,
          108,
          30,
          55,
          1,
          1,
          2,
          11,
          1,
          3,
          1,
          2,
          4,
          2,
          5,
          4,
          6,
          10,
          4,
          5,
          5,
          11,
          29,
          23,
          25,
          34,
          42,
          42,
          28,
          40,
          43,
          36,
          19,
          18,
          19,
          5,
          9,
          3,
          7,
          16,
          17,
          10,
          2,
          0,
          0,
          3,
          1,
          9,
          0,
          1,
          5,
          3,
          0,
          0,
          0,
          2302,
          2085,
          3203,
          3483,
          3303,
          3291,
          3456,
          1136.4324324324325,
          864,
          591.5675675675676,
          2659,
          2658,
          2743,
          2459,
          2172,
          822,
          1902,
          1741,
          978,
          2178,
          2281,
          1895,
          2155,
          2143,
          2165,
          2076,
          2091,
          1987,
          2029,
          1935,
          1857,
          1999,
          2013,
          2013,
          2088,
          2026,
          1895,
          1899,
          1867,
          2,
          3,
          14,
          18,
          19,
          14,
          12,
          20,
          12,
          11,
          8,
          11,
          15,
          15,
          33,
          18,
          17,
          24,
          26,
          11,
          8,
          18,
          17,
          433,
          462,
          84.00000000000001,
          5,
          12,
          313,
          3864,
          4228,
          4803,
          6536,
          6763,
          7710,
          7697,
          7839,
          7995,
          8529,
          8618,
          8855,
          9184,
          9346,
          9429,
          9822,
          10295,
          10513,
          10631,
          11163,
          0,
          5,
          4,
          1,
          5,
          3,
          7,
          10,
          10,
          9,
          2,
          5,
          5,
          8,
          4,
          5,
          7,
          1206,
          1456,
          1323,
          1433,
          1383,
          1314,
          1317,
          1092,
          1013,
          982,
          977,
          902,
          939,
          868,
          859,
          763,
          872,
          721,
          724,
          3355,
          3258,
          3378,
          3968,
          3606,
          3694,
          3650,
          3765,
          3613,
          3743,
          3512,
          3611,
          3705,
          3890,
          3951,
          3728,
          3926,
          4054,
          539,
          683,
          743,
          930,
          1473,
          1625,
          1603,
          1654,
          1735,
          1682,
          1795,
          1848,
          2088,
          2148,
          2001,
          2027,
          1841,
          1738,
          1789,
          1838,
          1001,
          865,
          1150,
          2358,
          2412,
          2379,
          2269,
          2244,
          2102,
          2177,
          2181,
          2220,
          2249,
          2107,
          2044,
          2119,
          2068,
          2126,
          2332,
          122,
          128,
          157,
          209,
          239,
          198,
          275,
          315,
          325,
          272,
          350,
          270,
          261,
          278,
          311,
          316,
          302,
          311,
          268,
          1050,
          1139,
          929,
          926,
          881,
          874,
          865,
          871,
          874,
          796,
          775,
          793,
          790,
          776,
          702,
          776,
          692,
          722,
          739,
          683,
          7,
          0,
          0,
          7,
          17,
          19,
          19,
          41,
          32,
          38,
          30,
          36,
          45,
          44,
          40,
          36,
          1524.2320441988948,
          1019.0386740331493,
          513.8453038674033,
          924,
          728,
          727,
          688,
          633,
          661,
          631,
          650,
          581,
          603,
          622,
          563,
          589,
          661,
          610,
          629,
          564,
          233,
          393,
          448,
          546,
          534,
          584,
          577,
          675,
          791,
          943,
          900,
          1005,
          928,
          964,
          912,
          918,
          976,
          676,
          734,
          1073,
          15,
          48,
          49,
          36,
          42,
          54,
          52,
          43,
          32,
          41,
          52,
          48,
          176,
          211,
          149,
          88,
          48,
          571,
          620,
          461,
          514,
          436,
          527,
          464,
          455,
          411,
          501,
          490,
          506,
          399,
          485,
          512,
          484,
          386,
          470,
          428,
          594,
          377,
          401,
          371,
          342,
          323,
          273,
          247,
          251,
          242,
          269,
          223,
          218,
          237,
          218,
          241,
          195,
          36,
          42,
          10,
          24,
          22,
          24,
          13,
          37,
          26,
          38,
          32,
          78.9278350515464,
          257.07216494845363,
          1512,
          1388,
          1165,
          1204,
          1095,
          1075,
          1064,
          994,
          1062,
          995,
          1033,
          1034,
          954,
          912,
          873,
          887,
          789,
          731,
          10406,
          12501,
          11403,
          11819,
          10849,
          10449,
          10643,
          10871,
          10804,
          10713,
          10423,
          10127,
          10353,
          10499,
          10379,
          10408,
          9743,
          9600,
          8881,
          239,
          196,
          138,
          130,
          100,
          48,
          48,
          175,
          87,
          72,
          104,
          84,
          188,
          112,
          99,
          104,
          157,
          194,
          192,
          13924,
          12888,
          11073,
          11167,
          11176,
          11155,
          10741,
          10270,
          9775,
          9409,
          9459,
          9579,
          10030,
          10153,
          9896,
          10091,
          10217,
          10088,
          314,
          405,
          349,
          370,
          382,
          334,
          323,
          375,
          353,
          400,
          394,
          328,
          373,
          391,
          377,
          477,
          508,
          533,
          565,
          529,
          87,
          158,
          211,
          182,
          202,
          258,
          253,
          250,
          238,
          298,
          327,
          492,
          511,
          352,
          359,
          420,
          455,
          512,
          494,
          89,
          99,
          197,
          176,
          198,
          186,
          169,
          201,
          185,
          168,
          156,
          205,
          192,
          206,
          210,
          0,
          16,
          4,
          1,
          1,
          158,
          37,
          92,
          111,
          112,
          111,
          94,
          4797,
          4725,
          4133,
          3366,
          3269,
          2978,
          2839,
          2800,
          2742,
          2619,
          2461,
          2450,
          2476,
          2460,
          2489,
          2420,
          2349,
          2092,
          1925,
          1868,
          1762,
          676.56,
          32,
          40,
          27,
          50,
          36,
          30,
          26,
          35,
          33,
          32,
          37,
          38,
          36,
          46,
          27,
          37,
          49,
          44,
          40,
          40,
          3,
          215,
          276,
          334,
          403,
          463,
          488,
          449,
          454,
          464,
          451,
          452,
          458,
          506,
          527,
          486,
          554,
          542,
          487,
          486,
          231,
          234,
          304,
          360,
          394,
          398,
          382,
          417,
          411,
          425,
          367,
          326,
          354,
          404,
          480,
          409,
          430,
          372,
          382,
          342,
          600,
          4155,
          4759,
          4402,
          4569,
          4108,
          4030,
          4069,
          4075,
          3986,
          3742,
          3700,
          3757,
          3904,
          3974,
          3989,
          4153,
          4257,
          4290,
          4147,
          3988,
          0,
          8,
          3,
          3,
          5,
          2,
          2,
          1,
          51,
          0,
          36,
          3,
          50,
          20416,
          23257,
          20002,
          21249,
          29989,
          29132,
          29715,
          31881,
          30034,
          30369,
          29769,
          30665,
          30073,
          30523,
          29411,
          28766,
          26338,
          25991,
          24357,
          23092,
          5,
          14,
          18,
          19,
          31,
          3528,
          3172,
          4706,
          4428,
          4377,
          4240,
          4321,
          4394,
          3903,
          4076,
          4141,
          3997,
          3838,
          3609,
          3401,
          3240,
          3512,
          3119,
          2872,
          10,
          17,
          26,
          34,
          30,
          45,
          44,
          45,
          52,
          45,
          51,
          47,
          61,
          39,
          41,
          56,
          41,
          68,
          825,
          757,
          695,
          1024,
          770,
          708,
          670,
          604,
          563,
          564,
          487,
          453,
          527,
          516,
          438,
          440,
          444,
          383,
          382,
          387,
          1208,
          967,
          1694,
          1631,
          1533,
          1551,
          1455,
          1380,
          1319,
          1049,
          1025,
          1111,
          1138,
          1018,
          1018,
          927,
          1085,
          930,
          896,
          826,
          47,
          55,
          68,
          63,
          62,
          73,
          85,
          48,
          62,
          49,
          65,
          78,
          43,
          48,
          54,
          55,
          51,
          40,
          67,
          64,
          118,
          73,
          46,
          56,
          66,
          39,
          63,
          62,
          59,
          40,
          39,
          34,
          29,
          22,
          21,
          0,
          2,
          8,
          17,
          23,
          30,
          19,
          20,
          24,
          19,
          26,
          26,
          14,
          36,
          31,
          20,
          25,
          22,
          32,
          34,
          66.24000000000001,
          104,
          147,
          147,
          137,
          113,
          131,
          88,
          97,
          102,
          118,
          127,
          84,
          115,
          98,
          118,
          115,
          98,
          120,
          104,
          98,
          961,
          1544,
          1926,
          2877,
          3456,
          3760,
          3826,
          4070,
          4056,
          4274,
          4230,
          4285,
          4642,
          5023,
          4858,
          5558,
          5381,
          5711,
          6178,
          6234,
          450,
          0,
          0,
          0,
          0,
          0,
          118,
          0,
          121,
          126,
          107,
          21,
          11,
          22,
          40,
          20,
          9,
          10,
          23,
          36,
          47,
          149,
          158,
          118,
          1430,
          1638,
          1450,
          1511,
          1501,
          1474,
          1570,
          1502,
          1514,
          1574,
          1525,
          1354,
          1439,
          1530,
          1604,
          1650,
          1756,
          1856,
          1839,
          1873,
          1895,
          337,
          338,
          455,
          545,
          458,
          508,
          467,
          519,
          495,
          514,
          527,
          494,
          520,
          512,
          536,
          493,
          549,
          513,
          91,
          363,
          365,
          362,
          389,
          393,
          391,
          319,
          352,
          384,
          366,
          351,
          369,
          316,
          351,
          311,
          315,
          97.05882352941177,
          139.41176470588235,
          659,
          548,
          541,
          549,
          494,
          502,
          529,
          533,
          532,
          485,
          505,
          573,
          548,
          598,
          515,
          554,
          548,
          590,
          13,
          13,
          7,
          38,
          56,
          143,
          162,
          160,
          195,
          186,
          172,
          185,
          171,
          186,
          177,
          151,
          144,
          135,
          130,
          147,
          110,
          52,
          63,
          99,
          118,
          154,
          152,
          177,
          174,
          234,
          239,
          251,
          227,
          222,
          283,
          223,
          298,
          275,
          323,
          379,
          86,
          364,
          227,
          224,
          250,
          235,
          219,
          198,
          229,
          407,
          403,
          150,
          261,
          478,
          591,
          344,
          402,
          264,
          189.40540540540542,
          558,
          1403,
          1204,
          1301,
          1544,
          1788,
          1698,
          1820,
          2074,
          2116,
          2449,
          827.8356164383563,
          938.3013698630136,
          1159.2328767123288,
          4945,
          4970,
          5499,
          5841,
          5855,
          5925,
          5836,
          6072,
          6045,
          5805,
          5284,
          5682,
          6477,
          6357,
          6113,
          6368,
          6218,
          5934,
          5420,
          729,
          983,
          870,
          809,
          524,
          761,
          1210,
          1156,
          1971.891891891892,
          1248,
          524.1081081081081,
          1020,
          1038,
          1025,
          1099,
          1017,
          1076,
          1052,
          1222,
          0,
          23,
          21,
          17,
          29,
          41,
          33,
          44,
          47,
          50,
          43,
          37,
          55,
          66,
          70,
          137.60330578512398,
          583.8842975206612,
          2079,
          2793,
          2836,
          2720,
          3067,
          2894,
          2720,
          2603,
          2721,
          2430,
          2472,
          2586,
          2766,
          2536,
          2495,
          2407,
          2209,
          2228,
          1969,
          59,
          76,
          1543,
          1442,
          1446,
          1378,
          1345,
          1437,
          1443,
          1353,
          1289,
          1373,
          1207,
          1256,
          1243,
          1197,
          1134,
          1062,
          8,
          6,
          5,
          8,
          6,
          5,
          8,
          6,
          4,
          4,
          6,
          5,
          3,
          9,
          4,
          7,
          269,
          324,
          354,
          364,
          309,
          305,
          321,
          320,
          335,
          359,
          372,
          328,
          319,
          349,
          296,
          308,
          392,
          357,
          355,
          329,
          647,
          553,
          564,
          588,
          581,
          540,
          562,
          512,
          503,
          529,
          434,
          408,
          447,
          414,
          435,
          440,
          446,
          388,
          422,
          267,
          384,
          236,
          256,
          383,
          458,
          514,
          417,
          441,
          372,
          393,
          358,
          487,
          587,
          580,
          482,
          1652,
          2514,
          2939,
          3157,
          3394,
          3189,
          3372,
          3478,
          3508,
          3399,
          3247,
          3264,
          3457,
          3429,
          3158,
          3180,
          3539,
          3873,
          3911,
          3604,
          4269,
          5668,
          5252,
          4590,
          4382,
          4467,
          4015,
          58,
          80,
          26,
          55,
          52,
          72,
          69,
          77,
          67,
          72,
          112,
          119,
          147,
          131,
          136,
          127,
          133,
          131,
          128,
          121.79381443298969,
          322.2061855670102,
          1471,
          1348,
          1131,
          1197,
          1180,
          1112,
          1155,
          1219,
          1197,
          1126,
          1170,
          1242,
          1141,
          1112,
          1154,
          1230,
          1148,
          1182,
          1135,
          1117.1813471502592,
          848.5803108808292,
          579.979274611399,
          1419,
          1380,
          1338,
          1446,
          1269,
          1284,
          1299,
          1309,
          1360,
          1314,
          1105,
          1006,
          1034,
          1038,
          1071,
          1032,
          1073,
          271,
          232,
          199,
          177,
          163,
          141,
          169,
          172,
          187,
          236,
          3408,
          2982,
          3753,
          4245,
          5182,
          4902,
          4484,
          4296,
          3937,
          3608,
          3754,
          3778,
          3787,
          3761,
          3873,
          3985,
          3961,
          3952,
          4205,
          4131,
          22,
          10,
          1050,
          1524,
          1148,
          1450,
          1810,
          1617,
          1532,
          11339,
          10645,
          14541,
          14467,
          13131,
          12536,
          12313,
          11256,
          10621,
          10013,
          10032,
          9454,
          9715,
          9089,
          8973,
          9058,
          7968,
          7574,
          4917,
          5105,
          4643,
          4315,
          4290,
          4128,
          4117,
          3979,
          4183,
          4047,
          4122,
          3897,
          4259,
          4246,
          4188,
          4393,
          4444,
          4824,
          4788,
          4910,
          7644,
          274,
          287,
          315,
          427,
          555,
          499,
          675,
          535,
          520,
          498,
          528,
          576,
          523,
          511,
          547,
          599,
          546,
          591,
          630,
          764
         ],
         "yaxis": "y"
        }
       ],
       "layout": {
        "coloraxis": {
         "colorbar": {
          "title": {
           "text": "quartile"
          }
         },
         "colorscale": [
          [
           0,
           "#0d0887"
          ],
          [
           0.1111111111111111,
           "#46039f"
          ],
          [
           0.2222222222222222,
           "#7201a8"
          ],
          [
           0.3333333333333333,
           "#9c179e"
          ],
          [
           0.4444444444444444,
           "#bd3786"
          ],
          [
           0.5555555555555556,
           "#d8576b"
          ],
          [
           0.6666666666666666,
           "#ed7953"
          ],
          [
           0.7777777777777778,
           "#fb9f3a"
          ],
          [
           0.8888888888888888,
           "#fdca26"
          ],
          [
           1,
           "#f0f921"
          ]
         ]
        },
        "legend": {
         "tracegroupgap": 0
        },
        "margin": {
         "t": 60
        },
        "template": {
         "data": {
          "bar": [
           {
            "error_x": {
             "color": "#2a3f5f"
            },
            "error_y": {
             "color": "#2a3f5f"
            },
            "marker": {
             "line": {
              "color": "#E5ECF6",
              "width": 0.5
             }
            },
            "type": "bar"
           }
          ],
          "barpolar": [
           {
            "marker": {
             "line": {
              "color": "#E5ECF6",
              "width": 0.5
             }
            },
            "type": "barpolar"
           }
          ],
          "carpet": [
           {
            "aaxis": {
             "endlinecolor": "#2a3f5f",
             "gridcolor": "white",
             "linecolor": "white",
             "minorgridcolor": "white",
             "startlinecolor": "#2a3f5f"
            },
            "baxis": {
             "endlinecolor": "#2a3f5f",
             "gridcolor": "white",
             "linecolor": "white",
             "minorgridcolor": "white",
             "startlinecolor": "#2a3f5f"
            },
            "type": "carpet"
           }
          ],
          "choropleth": [
           {
            "colorbar": {
             "outlinewidth": 0,
             "ticks": ""
            },
            "type": "choropleth"
           }
          ],
          "contour": [
           {
            "colorbar": {
             "outlinewidth": 0,
             "ticks": ""
            },
            "colorscale": [
             [
              0,
              "#0d0887"
             ],
             [
              0.1111111111111111,
              "#46039f"
             ],
             [
              0.2222222222222222,
              "#7201a8"
             ],
             [
              0.3333333333333333,
              "#9c179e"
             ],
             [
              0.4444444444444444,
              "#bd3786"
             ],
             [
              0.5555555555555556,
              "#d8576b"
             ],
             [
              0.6666666666666666,
              "#ed7953"
             ],
             [
              0.7777777777777778,
              "#fb9f3a"
             ],
             [
              0.8888888888888888,
              "#fdca26"
             ],
             [
              1,
              "#f0f921"
             ]
            ],
            "type": "contour"
           }
          ],
          "contourcarpet": [
           {
            "colorbar": {
             "outlinewidth": 0,
             "ticks": ""
            },
            "type": "contourcarpet"
           }
          ],
          "heatmap": [
           {
            "colorbar": {
             "outlinewidth": 0,
             "ticks": ""
            },
            "colorscale": [
             [
              0,
              "#0d0887"
             ],
             [
              0.1111111111111111,
              "#46039f"
             ],
             [
              0.2222222222222222,
              "#7201a8"
             ],
             [
              0.3333333333333333,
              "#9c179e"
             ],
             [
              0.4444444444444444,
              "#bd3786"
             ],
             [
              0.5555555555555556,
              "#d8576b"
             ],
             [
              0.6666666666666666,
              "#ed7953"
             ],
             [
              0.7777777777777778,
              "#fb9f3a"
             ],
             [
              0.8888888888888888,
              "#fdca26"
             ],
             [
              1,
              "#f0f921"
             ]
            ],
            "type": "heatmap"
           }
          ],
          "heatmapgl": [
           {
            "colorbar": {
             "outlinewidth": 0,
             "ticks": ""
            },
            "colorscale": [
             [
              0,
              "#0d0887"
             ],
             [
              0.1111111111111111,
              "#46039f"
             ],
             [
              0.2222222222222222,
              "#7201a8"
             ],
             [
              0.3333333333333333,
              "#9c179e"
             ],
             [
              0.4444444444444444,
              "#bd3786"
             ],
             [
              0.5555555555555556,
              "#d8576b"
             ],
             [
              0.6666666666666666,
              "#ed7953"
             ],
             [
              0.7777777777777778,
              "#fb9f3a"
             ],
             [
              0.8888888888888888,
              "#fdca26"
             ],
             [
              1,
              "#f0f921"
             ]
            ],
            "type": "heatmapgl"
           }
          ],
          "histogram": [
           {
            "marker": {
             "colorbar": {
              "outlinewidth": 0,
              "ticks": ""
             }
            },
            "type": "histogram"
           }
          ],
          "histogram2d": [
           {
            "colorbar": {
             "outlinewidth": 0,
             "ticks": ""
            },
            "colorscale": [
             [
              0,
              "#0d0887"
             ],
             [
              0.1111111111111111,
              "#46039f"
             ],
             [
              0.2222222222222222,
              "#7201a8"
             ],
             [
              0.3333333333333333,
              "#9c179e"
             ],
             [
              0.4444444444444444,
              "#bd3786"
             ],
             [
              0.5555555555555556,
              "#d8576b"
             ],
             [
              0.6666666666666666,
              "#ed7953"
             ],
             [
              0.7777777777777778,
              "#fb9f3a"
             ],
             [
              0.8888888888888888,
              "#fdca26"
             ],
             [
              1,
              "#f0f921"
             ]
            ],
            "type": "histogram2d"
           }
          ],
          "histogram2dcontour": [
           {
            "colorbar": {
             "outlinewidth": 0,
             "ticks": ""
            },
            "colorscale": [
             [
              0,
              "#0d0887"
             ],
             [
              0.1111111111111111,
              "#46039f"
             ],
             [
              0.2222222222222222,
              "#7201a8"
             ],
             [
              0.3333333333333333,
              "#9c179e"
             ],
             [
              0.4444444444444444,
              "#bd3786"
             ],
             [
              0.5555555555555556,
              "#d8576b"
             ],
             [
              0.6666666666666666,
              "#ed7953"
             ],
             [
              0.7777777777777778,
              "#fb9f3a"
             ],
             [
              0.8888888888888888,
              "#fdca26"
             ],
             [
              1,
              "#f0f921"
             ]
            ],
            "type": "histogram2dcontour"
           }
          ],
          "mesh3d": [
           {
            "colorbar": {
             "outlinewidth": 0,
             "ticks": ""
            },
            "type": "mesh3d"
           }
          ],
          "parcoords": [
           {
            "line": {
             "colorbar": {
              "outlinewidth": 0,
              "ticks": ""
             }
            },
            "type": "parcoords"
           }
          ],
          "pie": [
           {
            "automargin": true,
            "type": "pie"
           }
          ],
          "scatter": [
           {
            "marker": {
             "colorbar": {
              "outlinewidth": 0,
              "ticks": ""
             }
            },
            "type": "scatter"
           }
          ],
          "scatter3d": [
           {
            "line": {
             "colorbar": {
              "outlinewidth": 0,
              "ticks": ""
             }
            },
            "marker": {
             "colorbar": {
              "outlinewidth": 0,
              "ticks": ""
             }
            },
            "type": "scatter3d"
           }
          ],
          "scattercarpet": [
           {
            "marker": {
             "colorbar": {
              "outlinewidth": 0,
              "ticks": ""
             }
            },
            "type": "scattercarpet"
           }
          ],
          "scattergeo": [
           {
            "marker": {
             "colorbar": {
              "outlinewidth": 0,
              "ticks": ""
             }
            },
            "type": "scattergeo"
           }
          ],
          "scattergl": [
           {
            "marker": {
             "colorbar": {
              "outlinewidth": 0,
              "ticks": ""
             }
            },
            "type": "scattergl"
           }
          ],
          "scattermapbox": [
           {
            "marker": {
             "colorbar": {
              "outlinewidth": 0,
              "ticks": ""
             }
            },
            "type": "scattermapbox"
           }
          ],
          "scatterpolar": [
           {
            "marker": {
             "colorbar": {
              "outlinewidth": 0,
              "ticks": ""
             }
            },
            "type": "scatterpolar"
           }
          ],
          "scatterpolargl": [
           {
            "marker": {
             "colorbar": {
              "outlinewidth": 0,
              "ticks": ""
             }
            },
            "type": "scatterpolargl"
           }
          ],
          "scatterternary": [
           {
            "marker": {
             "colorbar": {
              "outlinewidth": 0,
              "ticks": ""
             }
            },
            "type": "scatterternary"
           }
          ],
          "surface": [
           {
            "colorbar": {
             "outlinewidth": 0,
             "ticks": ""
            },
            "colorscale": [
             [
              0,
              "#0d0887"
             ],
             [
              0.1111111111111111,
              "#46039f"
             ],
             [
              0.2222222222222222,
              "#7201a8"
             ],
             [
              0.3333333333333333,
              "#9c179e"
             ],
             [
              0.4444444444444444,
              "#bd3786"
             ],
             [
              0.5555555555555556,
              "#d8576b"
             ],
             [
              0.6666666666666666,
              "#ed7953"
             ],
             [
              0.7777777777777778,
              "#fb9f3a"
             ],
             [
              0.8888888888888888,
              "#fdca26"
             ],
             [
              1,
              "#f0f921"
             ]
            ],
            "type": "surface"
           }
          ],
          "table": [
           {
            "cells": {
             "fill": {
              "color": "#EBF0F8"
             },
             "line": {
              "color": "white"
             }
            },
            "header": {
             "fill": {
              "color": "#C8D4E3"
             },
             "line": {
              "color": "white"
             }
            },
            "type": "table"
           }
          ]
         },
         "layout": {
          "annotationdefaults": {
           "arrowcolor": "#2a3f5f",
           "arrowhead": 0,
           "arrowwidth": 1
          },
          "autotypenumbers": "strict",
          "coloraxis": {
           "colorbar": {
            "outlinewidth": 0,
            "ticks": ""
           }
          },
          "colorscale": {
           "diverging": [
            [
             0,
             "#8e0152"
            ],
            [
             0.1,
             "#c51b7d"
            ],
            [
             0.2,
             "#de77ae"
            ],
            [
             0.3,
             "#f1b6da"
            ],
            [
             0.4,
             "#fde0ef"
            ],
            [
             0.5,
             "#f7f7f7"
            ],
            [
             0.6,
             "#e6f5d0"
            ],
            [
             0.7,
             "#b8e186"
            ],
            [
             0.8,
             "#7fbc41"
            ],
            [
             0.9,
             "#4d9221"
            ],
            [
             1,
             "#276419"
            ]
           ],
           "sequential": [
            [
             0,
             "#0d0887"
            ],
            [
             0.1111111111111111,
             "#46039f"
            ],
            [
             0.2222222222222222,
             "#7201a8"
            ],
            [
             0.3333333333333333,
             "#9c179e"
            ],
            [
             0.4444444444444444,
             "#bd3786"
            ],
            [
             0.5555555555555556,
             "#d8576b"
            ],
            [
             0.6666666666666666,
             "#ed7953"
            ],
            [
             0.7777777777777778,
             "#fb9f3a"
            ],
            [
             0.8888888888888888,
             "#fdca26"
            ],
            [
             1,
             "#f0f921"
            ]
           ],
           "sequentialminus": [
            [
             0,
             "#0d0887"
            ],
            [
             0.1111111111111111,
             "#46039f"
            ],
            [
             0.2222222222222222,
             "#7201a8"
            ],
            [
             0.3333333333333333,
             "#9c179e"
            ],
            [
             0.4444444444444444,
             "#bd3786"
            ],
            [
             0.5555555555555556,
             "#d8576b"
            ],
            [
             0.6666666666666666,
             "#ed7953"
            ],
            [
             0.7777777777777778,
             "#fb9f3a"
            ],
            [
             0.8888888888888888,
             "#fdca26"
            ],
            [
             1,
             "#f0f921"
            ]
           ]
          },
          "colorway": [
           "#636efa",
           "#EF553B",
           "#00cc96",
           "#ab63fa",
           "#FFA15A",
           "#19d3f3",
           "#FF6692",
           "#B6E880",
           "#FF97FF",
           "#FECB52"
          ],
          "font": {
           "color": "#2a3f5f"
          },
          "geo": {
           "bgcolor": "white",
           "lakecolor": "white",
           "landcolor": "#E5ECF6",
           "showlakes": true,
           "showland": true,
           "subunitcolor": "white"
          },
          "hoverlabel": {
           "align": "left"
          },
          "hovermode": "closest",
          "mapbox": {
           "style": "light"
          },
          "paper_bgcolor": "white",
          "plot_bgcolor": "#E5ECF6",
          "polar": {
           "angularaxis": {
            "gridcolor": "white",
            "linecolor": "white",
            "ticks": ""
           },
           "bgcolor": "#E5ECF6",
           "radialaxis": {
            "gridcolor": "white",
            "linecolor": "white",
            "ticks": ""
           }
          },
          "scene": {
           "xaxis": {
            "backgroundcolor": "#E5ECF6",
            "gridcolor": "white",
            "gridwidth": 2,
            "linecolor": "white",
            "showbackground": true,
            "ticks": "",
            "zerolinecolor": "white"
           },
           "yaxis": {
            "backgroundcolor": "#E5ECF6",
            "gridcolor": "white",
            "gridwidth": 2,
            "linecolor": "white",
            "showbackground": true,
            "ticks": "",
            "zerolinecolor": "white"
           },
           "zaxis": {
            "backgroundcolor": "#E5ECF6",
            "gridcolor": "white",
            "gridwidth": 2,
            "linecolor": "white",
            "showbackground": true,
            "ticks": "",
            "zerolinecolor": "white"
           }
          },
          "shapedefaults": {
           "line": {
            "color": "#2a3f5f"
           }
          },
          "ternary": {
           "aaxis": {
            "gridcolor": "white",
            "linecolor": "white",
            "ticks": ""
           },
           "baxis": {
            "gridcolor": "white",
            "linecolor": "white",
            "ticks": ""
           },
           "bgcolor": "#E5ECF6",
           "caxis": {
            "gridcolor": "white",
            "linecolor": "white",
            "ticks": ""
           }
          },
          "title": {
           "x": 0.05
          },
          "xaxis": {
           "automargin": true,
           "gridcolor": "white",
           "linecolor": "white",
           "ticks": "",
           "title": {
            "standoff": 15
           },
           "zerolinecolor": "white",
           "zerolinewidth": 2
          },
          "yaxis": {
           "automargin": true,
           "gridcolor": "white",
           "linecolor": "white",
           "ticks": "",
           "title": {
            "standoff": 15
           },
           "zerolinecolor": "white",
           "zerolinewidth": 2
          }
         }
        },
        "xaxis": {
         "anchor": "y",
         "domain": [
          0,
          1
         ],
         "title": {
          "text": "economic_freedom"
         }
        },
        "yaxis": {
         "anchor": "x",
         "domain": [
          0,
          1
         ],
         "title": {
          "text": "suicides_no"
         }
        }
       }
      },
      "text/html": [
       "<div>                            <div id=\"87ca1ccb-d26b-426c-b2e9-87143d0963ef\" class=\"plotly-graph-div\" style=\"height:525px; width:100%;\"></div>            <script type=\"text/javascript\">                require([\"plotly\"], function(Plotly) {                    window.PLOTLYENV=window.PLOTLYENV || {};                                    if (document.getElementById(\"87ca1ccb-d26b-426c-b2e9-87143d0963ef\")) {                    Plotly.newPlot(                        \"87ca1ccb-d26b-426c-b2e9-87143d0963ef\",                        [{\"customdata\": [[\"Albania\", 2005], [\"Albania\", 2006], [\"Albania\", 2007], [\"Albania\", 2008], [\"Albania\", 2009], [\"Albania\", 2010], [\"Albania\", 2011], [\"Albania\", 2012], [\"Albania\", 2013], [\"Albania\", 2014], [\"Albania\", 2015], [\"Argentina\", 1980], [\"Argentina\", 1985], [\"Argentina\", 1990], [\"Argentina\", 1995], [\"Argentina\", 2000], [\"Argentina\", 2001], [\"Argentina\", 2002], [\"Argentina\", 2003], [\"Argentina\", 2004], [\"Argentina\", 2005], [\"Argentina\", 2006], [\"Argentina\", 2007], [\"Argentina\", 2008], [\"Argentina\", 2009], [\"Argentina\", 2010], [\"Argentina\", 2011], [\"Argentina\", 2012], [\"Argentina\", 2013], [\"Argentina\", 2014], [\"Argentina\", 2015], [\"Armenia\", 1985], [\"Armenia\", 1990], [\"Armenia\", 1995], [\"Armenia\", 2000], [\"Armenia\", 2001], [\"Armenia\", 2002], [\"Armenia\", 2003], [\"Armenia\", 2004], [\"Armenia\", 2005], [\"Armenia\", 2006], [\"Armenia\", 2007], [\"Armenia\", 2008], [\"Armenia\", 2009], [\"Armenia\", 2010], [\"Armenia\", 2011], [\"Armenia\", 2012], [\"Armenia\", 2013], [\"Armenia\", 2014], [\"Armenia\", 2015], [\"Armenia\", 2016], [\"Australia\", 1980], [\"Australia\", 1985], [\"Australia\", 1990], [\"Australia\", 1995], [\"Australia\", 2000], [\"Australia\", 2001], [\"Australia\", 2002], [\"Australia\", 2003], [\"Australia\", 2004], [\"Australia\", 2005], [\"Australia\", 2006], [\"Australia\", 2007], [\"Australia\", 2008], [\"Australia\", 2009], [\"Australia\", 2010], [\"Australia\", 2011], [\"Australia\", 2012], [\"Australia\", 2013], [\"Australia\", 2014], [\"Australia\", 2015], [\"Austria\", 1980], [\"Austria\", 1985], [\"Austria\", 1990], [\"Austria\", 1995], [\"Austria\", 2000], [\"Austria\", 2001], [\"Austria\", 2002], [\"Austria\", 2003], [\"Austria\", 2004], [\"Austria\", 2005], [\"Austria\", 2006], [\"Austria\", 2007], [\"Austria\", 2008], [\"Austria\", 2009], [\"Austria\", 2010], [\"Austria\", 2011], [\"Austria\", 2012], [\"Austria\", 2013], [\"Austria\", 2014], [\"Austria\", 2015], [\"Austria\", 2016], [\"Azerbaijan\", 1985], [\"Azerbaijan\", 1990], [\"Azerbaijan\", 1995], [\"Azerbaijan\", 2000], [\"Azerbaijan\", 2001], [\"Azerbaijan\", 2002], [\"Azerbaijan\", 2003], [\"Azerbaijan\", 2004], [\"Azerbaijan\", 2005], [\"Azerbaijan\", 2007], [\"Bahamas\", 1980], [\"Bahamas\", 1985], [\"Bahamas\", 1995], [\"Bahamas\", 2000], [\"Bahamas\", 2001], [\"Bahamas\", 2002], [\"Bahamas\", 2003], [\"Bahamas\", 2004], [\"Bahamas\", 2005], [\"Bahamas\", 2006], [\"Bahamas\", 2007], [\"Bahamas\", 2008], [\"Bahamas\", 2009], [\"Bahamas\", 2010], [\"Bahamas\", 2011], [\"Bahamas\", 2012], [\"Bahamas\", 2013], [\"Bahrain\", 1985], [\"Bahrain\", 2000], [\"Bahrain\", 2001], [\"Bahrain\", 2002], [\"Bahrain\", 2003], [\"Bahrain\", 2004], [\"Bahrain\", 2005], [\"Bahrain\", 2006], [\"Bahrain\", 2007], [\"Bahrain\", 2008], [\"Bahrain\", 2009], [\"Bahrain\", 2010], [\"Bahrain\", 2011], [\"Bahrain\", 2012], [\"Bahrain\", 2013], [\"Bahrain\", 2014], [\"Barbados\", 1980], [\"Barbados\", 1985], [\"Barbados\", 1990], [\"Barbados\", 1995], [\"Barbados\", 2000], [\"Barbados\", 2001], [\"Barbados\", 2002], [\"Barbados\", 2003], [\"Barbados\", 2004], [\"Barbados\", 2005], [\"Barbados\", 2006], [\"Barbados\", 2007], [\"Barbados\", 2008], [\"Barbados\", 2009], [\"Barbados\", 2010], [\"Barbados\", 2011], [\"Barbados\", 2012], [\"Barbados\", 2013], [\"Belarus\", 1985], [\"Belarus\", 1990], [\"Belarus\", 1995], [\"Belarus\", 2000], [\"Belarus\", 2001], [\"Belarus\", 2002], [\"Belarus\", 2003], [\"Belarus\", 2004], [\"Belarus\", 2005], [\"Belarus\", 2006], [\"Belarus\", 2007], [\"Belarus\", 2008], [\"Belarus\", 2009], [\"Belarus\", 2010], [\"Belarus\", 2011], [\"Belarus\", 2012], [\"Belarus\", 2013], [\"Belarus\", 2014], [\"Belarus\", 2015], [\"Belgium\", 1980], [\"Belgium\", 1985], [\"Belgium\", 1990], [\"Belgium\", 1995], [\"Belgium\", 2000], [\"Belgium\", 2001], [\"Belgium\", 2002], [\"Belgium\", 2003], [\"Belgium\", 2004], [\"Belgium\", 2005], [\"Belgium\", 2006], [\"Belgium\", 2007], [\"Belgium\", 2008], [\"Belgium\", 2009], [\"Belgium\", 2010], [\"Belgium\", 2011], [\"Belgium\", 2012], [\"Belgium\", 2013], [\"Belgium\", 2014], [\"Belgium\", 2015], [\"Belize\", 1980], [\"Belize\", 1990], [\"Belize\", 1995], [\"Belize\", 2000], [\"Belize\", 2001], [\"Belize\", 2002], [\"Belize\", 2003], [\"Belize\", 2004], [\"Belize\", 2005], [\"Belize\", 2006], [\"Belize\", 2007], [\"Belize\", 2008], [\"Belize\", 2009], [\"Belize\", 2010], [\"Belize\", 2011], [\"Belize\", 2012], [\"Belize\", 2013], [\"Belize\", 2014], [\"Belize\", 2015], [\"Bolivia\", 2000], [\"Bolivia\", 2001], [\"Bolivia\", 2002], [\"Bolivia\", 2003], [\"Bosnia and Herzegovina\", 1985], [\"Bosnia and Herzegovina\", 1990], [\"Bosnia and Herzegovina\", 2010], [\"Bosnia and Herzegovina\", 2011], [\"Bosnia and Herzegovina\", 2012], [\"Bosnia and Herzegovina\", 2014], [\"Brazil\", 1980], [\"Brazil\", 1985], [\"Brazil\", 1990], [\"Brazil\", 1995], [\"Brazil\", 2000], [\"Brazil\", 2001], [\"Brazil\", 2002], [\"Brazil\", 2003], [\"Brazil\", 2004], [\"Brazil\", 2005], [\"Brazil\", 2006], [\"Brazil\", 2007], [\"Brazil\", 2008], [\"Brazil\", 2009], [\"Brazil\", 2010], [\"Brazil\", 2011], [\"Brazil\", 2012], [\"Brazil\", 2013], [\"Brazil\", 2014], [\"Brazil\", 2015], [\"Brunei Darussalam\", 1995], [\"Brunei Darussalam\", 2000], [\"Brunei Darussalam\", 2001], [\"Brunei Darussalam\", 2002], [\"Brunei Darussalam\", 2003], [\"Brunei Darussalam\", 2004], [\"Brunei Darussalam\", 2005], [\"Brunei Darussalam\", 2006], [\"Brunei Darussalam\", 2007], [\"Brunei Darussalam\", 2008], [\"Brunei Darussalam\", 2009], [\"Brunei Darussalam\", 2010], [\"Brunei Darussalam\", 2011], [\"Brunei Darussalam\", 2012], [\"Brunei Darussalam\", 2013], [\"Brunei Darussalam\", 2014], [\"Brunei Darussalam\", 2015], [\"Bulgaria\", 1980], [\"Bulgaria\", 1985], [\"Bulgaria\", 1990], [\"Bulgaria\", 1995], [\"Bulgaria\", 2000], [\"Bulgaria\", 2001], [\"Bulgaria\", 2002], [\"Bulgaria\", 2003], [\"Bulgaria\", 2004], [\"Bulgaria\", 2005], [\"Bulgaria\", 2006], [\"Bulgaria\", 2007], [\"Bulgaria\", 2008], [\"Bulgaria\", 2009], [\"Bulgaria\", 2010], [\"Bulgaria\", 2011], [\"Bulgaria\", 2012], [\"Bulgaria\", 2013], [\"Bulgaria\", 2014], [\"Canada\", 1980], [\"Canada\", 1985], [\"Canada\", 1990], [\"Canada\", 1995], [\"Canada\", 2000], [\"Canada\", 2001], [\"Canada\", 2002], [\"Canada\", 2003], [\"Canada\", 2004], [\"Canada\", 2005], [\"Canada\", 2006], [\"Canada\", 2007], [\"Canada\", 2008], [\"Canada\", 2009], [\"Canada\", 2010], [\"Canada\", 2011], [\"Canada\", 2012], [\"Canada\", 2013], [\"Chile\", 1980], [\"Chile\", 1985], [\"Chile\", 1990], [\"Chile\", 1995], [\"Chile\", 2000], [\"Chile\", 2001], [\"Chile\", 2002], [\"Chile\", 2003], [\"Chile\", 2004], [\"Chile\", 2005], [\"Chile\", 2006], [\"Chile\", 2007], [\"Chile\", 2008], [\"Chile\", 2009], [\"Chile\", 2010], [\"Chile\", 2011], [\"Chile\", 2012], [\"Chile\", 2013], [\"Chile\", 2014], [\"Chile\", 2015], [\"Colombia\", 1985], [\"Colombia\", 1990], [\"Colombia\", 1995], [\"Colombia\", 2000], [\"Colombia\", 2001], [\"Colombia\", 2002], [\"Colombia\", 2003], [\"Colombia\", 2004], [\"Colombia\", 2005], [\"Colombia\", 2006], [\"Colombia\", 2007], [\"Colombia\", 2008], [\"Colombia\", 2009], [\"Colombia\", 2010], [\"Colombia\", 2011], [\"Colombia\", 2012], [\"Colombia\", 2013], [\"Colombia\", 2014], [\"Colombia\", 2015], [\"Costa Rica\", 1980], [\"Costa Rica\", 1985], [\"Costa Rica\", 1990], [\"Costa Rica\", 1995], [\"Costa Rica\", 2000], [\"Costa Rica\", 2001], [\"Costa Rica\", 2002], [\"Costa Rica\", 2003], [\"Costa Rica\", 2004], [\"Costa Rica\", 2005], [\"Costa Rica\", 2006], [\"Costa Rica\", 2007], [\"Costa Rica\", 2008], [\"Costa Rica\", 2009], [\"Costa Rica\", 2010], [\"Costa Rica\", 2011], [\"Costa Rica\", 2012], [\"Costa Rica\", 2013], [\"Costa Rica\", 2014], [\"Croatia\", 1985], [\"Croatia\", 1990], [\"Croatia\", 1995], [\"Croatia\", 2000], [\"Croatia\", 2001], [\"Croatia\", 2002], [\"Croatia\", 2003], [\"Croatia\", 2004], [\"Croatia\", 2005], [\"Croatia\", 2006], [\"Croatia\", 2007], [\"Croatia\", 2008], [\"Croatia\", 2009], [\"Croatia\", 2010], [\"Croatia\", 2011], [\"Croatia\", 2012], [\"Croatia\", 2013], [\"Croatia\", 2014], [\"Croatia\", 2015], [\"Croatia\", 2016], [\"Cyprus\", 2000], [\"Cyprus\", 2002], [\"Cyprus\", 2003], [\"Cyprus\", 2004], [\"Cyprus\", 2005], [\"Cyprus\", 2006], [\"Cyprus\", 2007], [\"Cyprus\", 2008], [\"Cyprus\", 2009], [\"Cyprus\", 2010], [\"Cyprus\", 2011], [\"Cyprus\", 2012], [\"Cyprus\", 2013], [\"Cyprus\", 2014], [\"Cyprus\", 2015], [\"Cyprus\", 2016], [\"Denmark\", 1980], [\"Denmark\", 1985], [\"Denmark\", 1990], [\"Denmark\", 1995], [\"Denmark\", 2000], [\"Denmark\", 2001], [\"Denmark\", 2002], [\"Denmark\", 2003], [\"Denmark\", 2004], [\"Denmark\", 2005], [\"Denmark\", 2006], [\"Denmark\", 2007], [\"Denmark\", 2008], [\"Denmark\", 2009], [\"Denmark\", 2010], [\"Denmark\", 2011], [\"Denmark\", 2012], [\"Denmark\", 2013], [\"Denmark\", 2014], [\"Denmark\", 2015], [\"Ecuador\", 1980], [\"Ecuador\", 1985], [\"Ecuador\", 1990], [\"Ecuador\", 1995], [\"Ecuador\", 2000], [\"Ecuador\", 2001], [\"Ecuador\", 2002], [\"Ecuador\", 2003], [\"Ecuador\", 2004], [\"Ecuador\", 2005], [\"Ecuador\", 2006], [\"Ecuador\", 2007], [\"Ecuador\", 2008], [\"Ecuador\", 2009], [\"Ecuador\", 2010], [\"Ecuador\", 2011], [\"Ecuador\", 2012], [\"Ecuador\", 2013], [\"Ecuador\", 2014], [\"Ecuador\", 2015], [\"Egypt\", 1980], [\"Egypt\", 2000], [\"Egypt\", 2001], [\"Egypt\", 2002], [\"Egypt\", 2003], [\"Egypt\", 2004], [\"Egypt\", 2005], [\"Egypt\", 2006], [\"Egypt\", 2007], [\"Egypt\", 2008], [\"Egypt\", 2009], [\"Egypt\", 2010], [\"Egypt\", 2011], [\"Egypt\", 2012], [\"Egypt\", 2013], [\"Egypt\", 2014], [\"Egypt\", 2015], [\"El Salvador\", 1990], [\"El Salvador\", 1995], [\"El Salvador\", 2000], [\"El Salvador\", 2001], [\"El Salvador\", 2002], [\"El Salvador\", 2003], [\"El Salvador\", 2004], [\"El Salvador\", 2005], [\"El Salvador\", 2006], [\"El Salvador\", 2007], [\"El Salvador\", 2008], [\"El Salvador\", 2009], [\"El Salvador\", 2010], [\"El Salvador\", 2011], [\"El Salvador\", 2012], [\"El Salvador\", 2013], [\"El Salvador\", 2014], [\"Estonia\", 1985], [\"Estonia\", 1990], [\"Estonia\", 1995], [\"Estonia\", 2000], [\"Estonia\", 2001], [\"Estonia\", 2002], [\"Estonia\", 2003], [\"Estonia\", 2004], [\"Estonia\", 2005], [\"Estonia\", 2006], [\"Estonia\", 2007], [\"Estonia\", 2008], [\"Estonia\", 2009], [\"Estonia\", 2010], [\"Estonia\", 2011], [\"Estonia\", 2012], [\"Estonia\", 2013], [\"Estonia\", 2014], [\"Estonia\", 2015], [\"Fiji\", 2001], [\"Fiji\", 2002], [\"Fiji\", 2003], [\"Fiji\", 2004], [\"Fiji\", 2005], [\"Fiji\", 2006], [\"Fiji\", 2007], [\"Fiji\", 2008], [\"Fiji\", 2009], [\"Fiji\", 2011], [\"Fiji\", 2012], [\"Finland\", 1980], [\"Finland\", 1985], [\"Finland\", 1990], [\"Finland\", 1995], [\"Finland\", 2000], [\"Finland\", 2001], [\"Finland\", 2002], [\"Finland\", 2003], [\"Finland\", 2004], [\"Finland\", 2005], [\"Finland\", 2006], [\"Finland\", 2007], [\"Finland\", 2008], [\"Finland\", 2009], [\"Finland\", 2010], [\"Finland\", 2011], [\"Finland\", 2012], [\"Finland\", 2013], [\"Finland\", 2014], [\"Finland\", 2015], [\"France\", 1980], [\"France\", 1985], [\"France\", 1990], [\"France\", 1995], [\"France\", 2000], [\"France\", 2001], [\"France\", 2002], [\"France\", 2003], [\"France\", 2004], [\"France\", 2005], [\"France\", 2006], [\"France\", 2007], [\"France\", 2008], [\"France\", 2009], [\"France\", 2010], [\"France\", 2011], [\"France\", 2012], [\"France\", 2013], [\"France\", 2014], [\"Georgia\", 1985], [\"Georgia\", 1990], [\"Georgia\", 1995], [\"Georgia\", 2000], [\"Georgia\", 2001], [\"Georgia\", 2002], [\"Georgia\", 2003], [\"Georgia\", 2004], [\"Georgia\", 2005], [\"Georgia\", 2006], [\"Georgia\", 2007], [\"Georgia\", 2008], [\"Georgia\", 2009], [\"Georgia\", 2010], [\"Georgia\", 2011], [\"Georgia\", 2012], [\"Georgia\", 2013], [\"Georgia\", 2014], [\"Georgia\", 2015], [\"Germany\", 1990], [\"Germany\", 1995], [\"Germany\", 2000], [\"Germany\", 2001], [\"Germany\", 2002], [\"Germany\", 2003], [\"Germany\", 2004], [\"Germany\", 2005], [\"Germany\", 2006], [\"Germany\", 2007], [\"Germany\", 2008], [\"Germany\", 2009], [\"Germany\", 2010], [\"Germany\", 2011], [\"Germany\", 2012], [\"Germany\", 2013], [\"Germany\", 2014], [\"Germany\", 2015], [\"Greece\", 1980], [\"Greece\", 1985], [\"Greece\", 1990], [\"Greece\", 1995], [\"Greece\", 2000], [\"Greece\", 2001], [\"Greece\", 2002], [\"Greece\", 2003], [\"Greece\", 2004], [\"Greece\", 2005], [\"Greece\", 2006], [\"Greece\", 2007], [\"Greece\", 2008], [\"Greece\", 2009], [\"Greece\", 2010], [\"Greece\", 2011], [\"Greece\", 2012], [\"Greece\", 2013], [\"Greece\", 2014], [\"Greece\", 2015], [\"Guatemala\", 1980], [\"Guatemala\", 1990], [\"Guatemala\", 1995], [\"Guatemala\", 2000], [\"Guatemala\", 2001], [\"Guatemala\", 2002], [\"Guatemala\", 2003], [\"Guatemala\", 2004], [\"Guatemala\", 2005], [\"Guatemala\", 2006], [\"Guatemala\", 2007], [\"Guatemala\", 2008], [\"Guatemala\", 2009], [\"Guatemala\", 2010], [\"Guatemala\", 2011], [\"Guatemala\", 2012], [\"Guatemala\", 2013], [\"Guatemala\", 2014], [\"Guatemala\", 2015], [\"Guyana\", 1990], [\"Guyana\", 1995], [\"Guyana\", 2001], [\"Guyana\", 2002], [\"Guyana\", 2003], [\"Guyana\", 2004], [\"Guyana\", 2005], [\"Guyana\", 2006], [\"Guyana\", 2007], [\"Guyana\", 2008], [\"Guyana\", 2009], [\"Guyana\", 2010], [\"Guyana\", 2011], [\"Guyana\", 2012], [\"Guyana\", 2013], [\"Haiti\", 1980], [\"Haiti\", 2001], [\"Haiti\", 2002], [\"Haiti\", 2003], [\"Haiti\", 2004], [\"Honduras\", 1990], [\"Honduras\", 2008], [\"Honduras\", 2009], [\"Honduras\", 2010], [\"Honduras\", 2011], [\"Honduras\", 2012], [\"Honduras\", 2013], [\"Hungary\", 1980], [\"Hungary\", 1985], [\"Hungary\", 1990], [\"Hungary\", 1995], [\"Hungary\", 2000], [\"Hungary\", 2001], [\"Hungary\", 2002], [\"Hungary\", 2003], [\"Hungary\", 2004], [\"Hungary\", 2005], [\"Hungary\", 2006], [\"Hungary\", 2007], [\"Hungary\", 2008], [\"Hungary\", 2009], [\"Hungary\", 2010], [\"Hungary\", 2011], [\"Hungary\", 2012], [\"Hungary\", 2013], [\"Hungary\", 2014], [\"Hungary\", 2015], [\"Hungary\", 2016], [\"Iceland\", 1980], [\"Iceland\", 1985], [\"Iceland\", 1990], [\"Iceland\", 1995], [\"Iceland\", 2000], [\"Iceland\", 2001], [\"Iceland\", 2002], [\"Iceland\", 2003], [\"Iceland\", 2004], [\"Iceland\", 2005], [\"Iceland\", 2006], [\"Iceland\", 2007], [\"Iceland\", 2008], [\"Iceland\", 2009], [\"Iceland\", 2010], [\"Iceland\", 2011], [\"Iceland\", 2012], [\"Iceland\", 2013], [\"Iceland\", 2014], [\"Iceland\", 2015], [\"Iceland\", 2016], [\"Iraq\", 2008], [\"Ireland\", 1980], [\"Ireland\", 1985], [\"Ireland\", 1990], [\"Ireland\", 1995], [\"Ireland\", 2000], [\"Ireland\", 2001], [\"Ireland\", 2002], [\"Ireland\", 2003], [\"Ireland\", 2004], [\"Ireland\", 2005], [\"Ireland\", 2006], [\"Ireland\", 2007], [\"Ireland\", 2008], [\"Ireland\", 2009], [\"Ireland\", 2010], [\"Ireland\", 2011], [\"Ireland\", 2012], [\"Ireland\", 2013], [\"Ireland\", 2014], [\"Israel\", 1980], [\"Israel\", 1985], [\"Israel\", 1990], [\"Israel\", 1995], [\"Israel\", 2000], [\"Israel\", 2001], [\"Israel\", 2002], [\"Israel\", 2003], [\"Israel\", 2004], [\"Israel\", 2005], [\"Israel\", 2006], [\"Israel\", 2007], [\"Israel\", 2008], [\"Israel\", 2009], [\"Israel\", 2010], [\"Israel\", 2011], [\"Israel\", 2012], [\"Israel\", 2013], [\"Israel\", 2014], [\"Israel\", 2015], [\"Israel\", 2016], [\"Italy\", 1980], [\"Italy\", 1985], [\"Italy\", 1990], [\"Italy\", 1995], [\"Italy\", 2000], [\"Italy\", 2001], [\"Italy\", 2002], [\"Italy\", 2003], [\"Italy\", 2004], [\"Italy\", 2005], [\"Italy\", 2006], [\"Italy\", 2007], [\"Italy\", 2008], [\"Italy\", 2009], [\"Italy\", 2010], [\"Italy\", 2011], [\"Italy\", 2012], [\"Italy\", 2013], [\"Italy\", 2014], [\"Italy\", 2015], [\"Jamaica\", 1980], [\"Jamaica\", 1985], [\"Jamaica\", 1990], [\"Jamaica\", 2000], [\"Jamaica\", 2001], [\"Jamaica\", 2002], [\"Jamaica\", 2003], [\"Jamaica\", 2004], [\"Jamaica\", 2005], [\"Jamaica\", 2006], [\"Jamaica\", 2009], [\"Jamaica\", 2010], [\"Jamaica\", 2011], [\"Japan\", 1980], [\"Japan\", 1985], [\"Japan\", 1990], [\"Japan\", 1995], [\"Japan\", 2000], [\"Japan\", 2001], [\"Japan\", 2002], [\"Japan\", 2003], [\"Japan\", 2004], [\"Japan\", 2005], [\"Japan\", 2006], [\"Japan\", 2007], [\"Japan\", 2008], [\"Japan\", 2009], [\"Japan\", 2010], [\"Japan\", 2011], [\"Japan\", 2012], [\"Japan\", 2013], [\"Japan\", 2014], [\"Japan\", 2015], [\"Jordan\", 2008], [\"Jordan\", 2009], [\"Jordan\", 2010], [\"Jordan\", 2011], [\"Jordan\", 2012], [\"Kazakhstan\", 1985], [\"Kazakhstan\", 1990], [\"Kazakhstan\", 1995], [\"Kazakhstan\", 2000], [\"Kazakhstan\", 2001], [\"Kazakhstan\", 2002], [\"Kazakhstan\", 2003], [\"Kazakhstan\", 2004], [\"Kazakhstan\", 2005], [\"Kazakhstan\", 2006], [\"Kazakhstan\", 2007], [\"Kazakhstan\", 2008], [\"Kazakhstan\", 2009], [\"Kazakhstan\", 2010], [\"Kazakhstan\", 2011], [\"Kazakhstan\", 2012], [\"Kazakhstan\", 2013], [\"Kazakhstan\", 2014], [\"Kazakhstan\", 2015], [\"Kuwait\", 1980], [\"Kuwait\", 1985], [\"Kuwait\", 1995], [\"Kuwait\", 2000], [\"Kuwait\", 2001], [\"Kuwait\", 2002], [\"Kuwait\", 2003], [\"Kuwait\", 2004], [\"Kuwait\", 2005], [\"Kuwait\", 2006], [\"Kuwait\", 2007], [\"Kuwait\", 2008], [\"Kuwait\", 2009], [\"Kuwait\", 2010], [\"Kuwait\", 2011], [\"Kuwait\", 2012], [\"Kuwait\", 2013], [\"Kuwait\", 2014], [\"Latvia\", 1980], [\"Latvia\", 1985], [\"Latvia\", 1990], [\"Latvia\", 1995], [\"Latvia\", 2000], [\"Latvia\", 2001], [\"Latvia\", 2002], [\"Latvia\", 2003], [\"Latvia\", 2004], [\"Latvia\", 2005], [\"Latvia\", 2006], [\"Latvia\", 2007], [\"Latvia\", 2008], [\"Latvia\", 2009], [\"Latvia\", 2010], [\"Latvia\", 2011], [\"Latvia\", 2012], [\"Latvia\", 2013], [\"Latvia\", 2014], [\"Latvia\", 2015], [\"Lithuania\", 1985], [\"Lithuania\", 1990], [\"Lithuania\", 1995], [\"Lithuania\", 2000], [\"Lithuania\", 2001], [\"Lithuania\", 2002], [\"Lithuania\", 2003], [\"Lithuania\", 2004], [\"Lithuania\", 2005], [\"Lithuania\", 2006], [\"Lithuania\", 2007], [\"Lithuania\", 2008], [\"Lithuania\", 2009], [\"Lithuania\", 2010], [\"Lithuania\", 2011], [\"Lithuania\", 2012], [\"Lithuania\", 2013], [\"Lithuania\", 2014], [\"Lithuania\", 2015], [\"Lithuania\", 2016], [\"Luxembourg\", 1980], [\"Luxembourg\", 1985], [\"Luxembourg\", 1990], [\"Luxembourg\", 1995], [\"Luxembourg\", 2000], [\"Luxembourg\", 2001], [\"Luxembourg\", 2002], [\"Luxembourg\", 2003], [\"Luxembourg\", 2004], [\"Luxembourg\", 2005], [\"Luxembourg\", 2006], [\"Luxembourg\", 2007], [\"Luxembourg\", 2008], [\"Luxembourg\", 2009], [\"Luxembourg\", 2010], [\"Luxembourg\", 2011], [\"Luxembourg\", 2012], [\"Luxembourg\", 2013], [\"Luxembourg\", 2014], [\"Luxembourg\", 2015], [\"Malaysia\", 2000], [\"Malaysia\", 2001], [\"Malaysia\", 2002], [\"Malaysia\", 2003], [\"Malaysia\", 2004], [\"Malaysia\", 2005], [\"Malaysia\", 2006], [\"Malaysia\", 2007], [\"Malaysia\", 2008], [\"Malaysia\", 2009], [\"Malaysia\", 2010], [\"Malaysia\", 2011], [\"Malaysia\", 2012], [\"Malaysia\", 2013], [\"Malaysia\", 2014], [\"Malta\", 1980], [\"Malta\", 1985], [\"Malta\", 1990], [\"Malta\", 1995], [\"Malta\", 2000], [\"Malta\", 2001], [\"Malta\", 2002], [\"Malta\", 2003], [\"Malta\", 2004], [\"Malta\", 2005], [\"Malta\", 2006], [\"Malta\", 2007], [\"Malta\", 2008], [\"Malta\", 2009], [\"Malta\", 2010], [\"Malta\", 2011], [\"Malta\", 2012], [\"Malta\", 2013], [\"Malta\", 2014], [\"Malta\", 2015], [\"Mauritius\", 1980], [\"Mauritius\", 1985], [\"Mauritius\", 1990], [\"Mauritius\", 1995], [\"Mauritius\", 2000], [\"Mauritius\", 2001], [\"Mauritius\", 2002], [\"Mauritius\", 2003], [\"Mauritius\", 2004], [\"Mauritius\", 2005], [\"Mauritius\", 2006], [\"Mauritius\", 2007], [\"Mauritius\", 2008], [\"Mauritius\", 2009], [\"Mauritius\", 2010], [\"Mauritius\", 2011], [\"Mauritius\", 2012], [\"Mauritius\", 2013], [\"Mauritius\", 2014], [\"Mauritius\", 2015], [\"Mauritius\", 2016], [\"Mexico\", 1980], [\"Mexico\", 1985], [\"Mexico\", 1990], [\"Mexico\", 1995], [\"Mexico\", 2000], [\"Mexico\", 2001], [\"Mexico\", 2002], [\"Mexico\", 2003], [\"Mexico\", 2004], [\"Mexico\", 2005], [\"Mexico\", 2006], [\"Mexico\", 2007], [\"Mexico\", 2008], [\"Mexico\", 2009], [\"Mexico\", 2010], [\"Mexico\", 2011], [\"Mexico\", 2012], [\"Mexico\", 2013], [\"Mexico\", 2014], [\"Mexico\", 2015], [\"Mongolia\", 2016], [\"Montenegro\", 2000], [\"Montenegro\", 2001], [\"Montenegro\", 2002], [\"Montenegro\", 2003], [\"Montenegro\", 2004], [\"Montenegro\", 2005], [\"Montenegro\", 2006], [\"Montenegro\", 2007], [\"Montenegro\", 2008], [\"Montenegro\", 2009], [\"Morocco\", 2000], [\"Morocco\", 2001], [\"Morocco\", 2002], [\"Morocco\", 2003], [\"Morocco\", 2004], [\"Morocco\", 2007], [\"Morocco\", 2008], [\"Morocco\", 2009], [\"Morocco\", 2010], [\"Morocco\", 2011], [\"Morocco\", 2012], [\"Morocco\", 2013], [\"Morocco\", 2014], [\"Netherlands\", 1980], [\"Netherlands\", 1985], [\"Netherlands\", 1990], [\"Netherlands\", 1995], [\"Netherlands\", 2000], [\"Netherlands\", 2001], [\"Netherlands\", 2002], [\"Netherlands\", 2003], [\"Netherlands\", 2004], [\"Netherlands\", 2005], [\"Netherlands\", 2006], [\"Netherlands\", 2007], [\"Netherlands\", 2008], [\"Netherlands\", 2009], [\"Netherlands\", 2010], [\"Netherlands\", 2011], [\"Netherlands\", 2012], [\"Netherlands\", 2013], [\"Netherlands\", 2014], [\"Netherlands\", 2015], [\"Netherlands\", 2016], [\"New Zealand\", 1980], [\"New Zealand\", 1985], [\"New Zealand\", 1990], [\"New Zealand\", 1995], [\"New Zealand\", 2000], [\"New Zealand\", 2001], [\"New Zealand\", 2002], [\"New Zealand\", 2003], [\"New Zealand\", 2004], [\"New Zealand\", 2005], [\"New Zealand\", 2006], [\"New Zealand\", 2007], [\"New Zealand\", 2008], [\"New Zealand\", 2009], [\"New Zealand\", 2010], [\"New Zealand\", 2011], [\"New Zealand\", 2012], [\"New Zealand\", 2013], [\"Nicaragua\", 1990], [\"Nicaragua\", 2000], [\"Nicaragua\", 2001], [\"Nicaragua\", 2002], [\"Nicaragua\", 2003], [\"Nicaragua\", 2004], [\"Nicaragua\", 2005], [\"Nicaragua\", 2006], [\"Nicaragua\", 2007], [\"Nicaragua\", 2008], [\"Nicaragua\", 2009], [\"Nicaragua\", 2010], [\"Nicaragua\", 2011], [\"Nicaragua\", 2012], [\"Nicaragua\", 2013], [\"Nicaragua\", 2014], [\"Nicaragua\", 2015], [\"Norway\", 1980], [\"Norway\", 1985], [\"Norway\", 1990], [\"Norway\", 1995], [\"Norway\", 2000], [\"Norway\", 2001], [\"Norway\", 2002], [\"Norway\", 2003], [\"Norway\", 2004], [\"Norway\", 2005], [\"Norway\", 2006], [\"Norway\", 2007], [\"Norway\", 2008], [\"Norway\", 2009], [\"Norway\", 2010], [\"Norway\", 2011], [\"Norway\", 2012], [\"Norway\", 2013], [\"Norway\", 2014], [\"Norway\", 2015], [\"Oman\", 2009], [\"Oman\", 2010], [\"Oman\", 2014], [\"Panama\", 1980], [\"Panama\", 1985], [\"Panama\", 2000], [\"Panama\", 2001], [\"Panama\", 2002], [\"Panama\", 2003], [\"Panama\", 2004], [\"Panama\", 2005], [\"Panama\", 2006], [\"Panama\", 2007], [\"Panama\", 2008], [\"Panama\", 2009], [\"Panama\", 2010], [\"Panama\", 2011], [\"Panama\", 2012], [\"Panama\", 2013], [\"Panama\", 2014], [\"Panama\", 2015], [\"Paraguay\", 1980], [\"Paraguay\", 1985], [\"Paraguay\", 1990], [\"Paraguay\", 1995], [\"Paraguay\", 2000], [\"Paraguay\", 2001], [\"Paraguay\", 2002], [\"Paraguay\", 2003], [\"Paraguay\", 2004], [\"Paraguay\", 2005], [\"Paraguay\", 2006], [\"Paraguay\", 2007], [\"Paraguay\", 2008], [\"Paraguay\", 2009], [\"Paraguay\", 2010], [\"Paraguay\", 2011], [\"Paraguay\", 2012], [\"Paraguay\", 2013], [\"Paraguay\", 2014], [\"Peru\", 1990], [\"Peru\", 1995], [\"Peru\", 2000], [\"Peru\", 2001], [\"Peru\", 2002], [\"Peru\", 2003], [\"Peru\", 2004], [\"Peru\", 2005], [\"Peru\", 2006], [\"Peru\", 2007], [\"Peru\", 2008], [\"Peru\", 2009], [\"Peru\", 2010], [\"Peru\", 2011], [\"Peru\", 2012], [\"Peru\", 2013], [\"Peru\", 2014], [\"Peru\", 2015], [\"Philippines\", 1980], [\"Philippines\", 1995], [\"Philippines\", 2000], [\"Philippines\", 2001], [\"Philippines\", 2002], [\"Philippines\", 2003], [\"Philippines\", 2006], [\"Philippines\", 2007], [\"Philippines\", 2008], [\"Philippines\", 2009], [\"Philippines\", 2010], [\"Philippines\", 2011], [\"Philippines\", 2013], [\"Philippines\", 2014], [\"Poland\", 1980], [\"Poland\", 1985], [\"Poland\", 1990], [\"Poland\", 1995], [\"Poland\", 2000], [\"Poland\", 2001], [\"Poland\", 2002], [\"Poland\", 2003], [\"Poland\", 2004], [\"Poland\", 2005], [\"Poland\", 2006], [\"Poland\", 2007], [\"Poland\", 2008], [\"Poland\", 2009], [\"Poland\", 2010], [\"Poland\", 2011], [\"Poland\", 2012], [\"Poland\", 2013], [\"Poland\", 2014], [\"Poland\", 2015], [\"Portugal\", 1980], [\"Portugal\", 1985], [\"Portugal\", 1990], [\"Portugal\", 1995], [\"Portugal\", 2000], [\"Portugal\", 2001], [\"Portugal\", 2002], [\"Portugal\", 2003], [\"Portugal\", 2004], [\"Portugal\", 2005], [\"Portugal\", 2006], [\"Portugal\", 2007], [\"Portugal\", 2008], [\"Portugal\", 2009], [\"Portugal\", 2010], [\"Portugal\", 2011], [\"Portugal\", 2012], [\"Portugal\", 2013], [\"Portugal\", 2014], [\"Qatar\", 1995], [\"Qatar\", 2001], [\"Qatar\", 2004], [\"Qatar\", 2005], [\"Qatar\", 2006], [\"Qatar\", 2007], [\"Qatar\", 2008], [\"Qatar\", 2009], [\"Qatar\", 2010], [\"Qatar\", 2011], [\"Qatar\", 2012], [\"Qatar\", 2013], [\"Qatar\", 2014], [\"Qatar\", 2015], [\"Qatar\", 2016], [\"Romania\", 1980], [\"Romania\", 1985], [\"Romania\", 1990], [\"Romania\", 1995], [\"Romania\", 2000], [\"Romania\", 2001], [\"Romania\", 2002], [\"Romania\", 2003], [\"Romania\", 2004], [\"Romania\", 2005], [\"Romania\", 2006], [\"Romania\", 2007], [\"Romania\", 2008], [\"Romania\", 2009], [\"Romania\", 2010], [\"Romania\", 2011], [\"Romania\", 2012], [\"Romania\", 2013], [\"Romania\", 2014], [\"Romania\", 2015], [\"Romania\", 2016], [\"Saudi Arabia\", 2009], [\"Saudi Arabia\", 2012], [\"Serbia\", 2000], [\"Serbia\", 2001], [\"Serbia\", 2002], [\"Serbia\", 2003], [\"Serbia\", 2004], [\"Serbia\", 2005], [\"Serbia\", 2006], [\"Serbia\", 2007], [\"Serbia\", 2008], [\"Serbia\", 2009], [\"Serbia\", 2010], [\"Serbia\", 2011], [\"Serbia\", 2012], [\"Serbia\", 2013], [\"Serbia\", 2014], [\"Serbia\", 2015], [\"Seychelles\", 1985], [\"Seychelles\", 2001], [\"Seychelles\", 2002], [\"Seychelles\", 2003], [\"Seychelles\", 2004], [\"Seychelles\", 2005], [\"Seychelles\", 2006], [\"Seychelles\", 2007], [\"Seychelles\", 2008], [\"Seychelles\", 2009], [\"Seychelles\", 2010], [\"Seychelles\", 2011], [\"Seychelles\", 2012], [\"Seychelles\", 2013], [\"Seychelles\", 2014], [\"Seychelles\", 2015], [\"Singapore\", 1980], [\"Singapore\", 1985], [\"Singapore\", 1990], [\"Singapore\", 1995], [\"Singapore\", 2000], [\"Singapore\", 2001], [\"Singapore\", 2002], [\"Singapore\", 2003], [\"Singapore\", 2004], [\"Singapore\", 2005], [\"Singapore\", 2006], [\"Singapore\", 2007], [\"Singapore\", 2008], [\"Singapore\", 2009], [\"Singapore\", 2010], [\"Singapore\", 2011], [\"Singapore\", 2012], [\"Singapore\", 2013], [\"Singapore\", 2014], [\"Singapore\", 2015], [\"Slovenia\", 1985], [\"Slovenia\", 1990], [\"Slovenia\", 1995], [\"Slovenia\", 2000], [\"Slovenia\", 2001], [\"Slovenia\", 2002], [\"Slovenia\", 2003], [\"Slovenia\", 2004], [\"Slovenia\", 2005], [\"Slovenia\", 2006], [\"Slovenia\", 2007], [\"Slovenia\", 2008], [\"Slovenia\", 2009], [\"Slovenia\", 2010], [\"Slovenia\", 2011], [\"Slovenia\", 2012], [\"Slovenia\", 2013], [\"Slovenia\", 2014], [\"Slovenia\", 2015], [\"South Africa\", 2000], [\"South Africa\", 2001], [\"South Africa\", 2002], [\"South Africa\", 2003], [\"South Africa\", 2004], [\"South Africa\", 2005], [\"South Africa\", 2006], [\"South Africa\", 2007], [\"South Africa\", 2008], [\"South Africa\", 2009], [\"South Africa\", 2010], [\"South Africa\", 2011], [\"South Africa\", 2012], [\"South Africa\", 2013], [\"South Africa\", 2014], [\"South Africa\", 2015], [\"Spain\", 1980], [\"Spain\", 1985], [\"Spain\", 1990], [\"Spain\", 1995], [\"Spain\", 2000], [\"Spain\", 2001], [\"Spain\", 2002], [\"Spain\", 2003], [\"Spain\", 2004], [\"Spain\", 2005], [\"Spain\", 2006], [\"Spain\", 2007], [\"Spain\", 2008], [\"Spain\", 2009], [\"Spain\", 2010], [\"Spain\", 2011], [\"Spain\", 2012], [\"Spain\", 2013], [\"Spain\", 2014], [\"Spain\", 2015], [\"Sri Lanka\", 1980], [\"Sri Lanka\", 1985], [\"Sri Lanka\", 2000], [\"Sri Lanka\", 2001], [\"Sri Lanka\", 2002], [\"Sri Lanka\", 2003], [\"Sri Lanka\", 2006], [\"Suriname\", 1980], [\"Suriname\", 1985], [\"Suriname\", 1990], [\"Suriname\", 1995], [\"Suriname\", 2000], [\"Suriname\", 2001], [\"Suriname\", 2002], [\"Suriname\", 2003], [\"Suriname\", 2004], [\"Suriname\", 2005], [\"Suriname\", 2006], [\"Suriname\", 2007], [\"Suriname\", 2008], [\"Suriname\", 2009], [\"Suriname\", 2010], [\"Suriname\", 2011], [\"Suriname\", 2012], [\"Suriname\", 2013], [\"Suriname\", 2014], [\"Sweden\", 1980], [\"Sweden\", 1985], [\"Sweden\", 1990], [\"Sweden\", 1995], [\"Sweden\", 2000], [\"Sweden\", 2001], [\"Sweden\", 2002], [\"Sweden\", 2003], [\"Sweden\", 2004], [\"Sweden\", 2005], [\"Sweden\", 2006], [\"Sweden\", 2007], [\"Sweden\", 2008], [\"Sweden\", 2009], [\"Sweden\", 2010], [\"Sweden\", 2011], [\"Sweden\", 2012], [\"Sweden\", 2013], [\"Sweden\", 2014], [\"Sweden\", 2015], [\"Sweden\", 2016], [\"Switzerland\", 1980], [\"Switzerland\", 1985], [\"Switzerland\", 1990], [\"Switzerland\", 1995], [\"Switzerland\", 2000], [\"Switzerland\", 2001], [\"Switzerland\", 2002], [\"Switzerland\", 2003], [\"Switzerland\", 2004], [\"Switzerland\", 2005], [\"Switzerland\", 2006], [\"Switzerland\", 2007], [\"Switzerland\", 2008], [\"Switzerland\", 2009], [\"Switzerland\", 2010], [\"Switzerland\", 2011], [\"Switzerland\", 2012], [\"Switzerland\", 2013], [\"Switzerland\", 2014], [\"Switzerland\", 2015], [\"Tajikistan\", 1985], [\"Tajikistan\", 1990], [\"Tajikistan\", 1995], [\"Tajikistan\", 2000], [\"Tajikistan\", 2001], [\"Tajikistan\", 2002], [\"Tajikistan\", 2003], [\"Tajikistan\", 2004], [\"Tajikistan\", 2005], [\"Tajikistan\", 2016], [\"Thailand\", 1980], [\"Thailand\", 1985], [\"Thailand\", 1990], [\"Thailand\", 1995], [\"Thailand\", 2000], [\"Thailand\", 2002], [\"Thailand\", 2003], [\"Thailand\", 2004], [\"Thailand\", 2005], [\"Thailand\", 2006], [\"Thailand\", 2007], [\"Thailand\", 2008], [\"Thailand\", 2009], [\"Thailand\", 2010], [\"Thailand\", 2011], [\"Thailand\", 2012], [\"Thailand\", 2013], [\"Thailand\", 2014], [\"Thailand\", 2015], [\"Thailand\", 2016], [\"Tunisia\", 2009], [\"Tunisia\", 2013], [\"Turkey\", 2009], [\"Turkey\", 2010], [\"Turkey\", 2011], [\"Turkey\", 2012], [\"Turkey\", 2013], [\"Turkey\", 2014], [\"Turkey\", 2015], [\"Ukraine\", 1985], [\"Ukraine\", 1990], [\"Ukraine\", 1995], [\"Ukraine\", 2000], [\"Ukraine\", 2001], [\"Ukraine\", 2002], [\"Ukraine\", 2003], [\"Ukraine\", 2004], [\"Ukraine\", 2005], [\"Ukraine\", 2006], [\"Ukraine\", 2007], [\"Ukraine\", 2008], [\"Ukraine\", 2009], [\"Ukraine\", 2010], [\"Ukraine\", 2011], [\"Ukraine\", 2012], [\"Ukraine\", 2014], [\"Ukraine\", 2015], [\"United Kingdom\", 1980], [\"United Kingdom\", 1985], [\"United Kingdom\", 1990], [\"United Kingdom\", 1995], [\"United Kingdom\", 2000], [\"United Kingdom\", 2001], [\"United Kingdom\", 2002], [\"United Kingdom\", 2003], [\"United Kingdom\", 2004], [\"United Kingdom\", 2005], [\"United Kingdom\", 2006], [\"United Kingdom\", 2007], [\"United Kingdom\", 2008], [\"United Kingdom\", 2009], [\"United Kingdom\", 2010], [\"United Kingdom\", 2011], [\"United Kingdom\", 2012], [\"United Kingdom\", 2013], [\"United Kingdom\", 2014], [\"United Kingdom\", 2015], [\"United Kingdom\", 2016], [\"Uruguay\", 1980], [\"Uruguay\", 1985], [\"Uruguay\", 1990], [\"Uruguay\", 1995], [\"Uruguay\", 2000], [\"Uruguay\", 2001], [\"Uruguay\", 2002], [\"Uruguay\", 2003], [\"Uruguay\", 2004], [\"Uruguay\", 2005], [\"Uruguay\", 2006], [\"Uruguay\", 2007], [\"Uruguay\", 2008], [\"Uruguay\", 2009], [\"Uruguay\", 2010], [\"Uruguay\", 2012], [\"Uruguay\", 2013], [\"Uruguay\", 2014], [\"Uruguay\", 2015], [\"Zimbabwe\", 1990]], \"hovertemplate\": \"economic_freedom=%{x}<br>suicides_no=%{y}<br>country=%{customdata[0]}<br>year=%{customdata[1]}<br>quartile=%{marker.color}<extra></extra>\", \"legendgroup\": \"\", \"marker\": {\"color\": [2.0, 2.0, 2.0, 2.0, 2.0, 1.0, 2.0, 2.0, 2.0, 1.0, 1.0, 4.0, 4.0, 4.0, 2.0, 2.0, 2.0, 3.0, 3.0, 3.0, 4.0, 4.0, 3.0, 4.0, 4.0, 4.0, 4.0, 4.0, 4.0, 4.0, 4.0, 4.0, 4.0, 4.0, 4.0, 4.0, 4.0, 4.0, 2.0, 2.0, 2.0, 2.0, 1.0, 1.0, 1.0, 1.0, 1.0, 1.0, 1.0, 1.0, 1.0, 1.0, 1.0, 1.0, 1.0, 1.0, 1.0, 1.0, 1.0, 1.0, 1.0, 1.0, 1.0, 1.0, 1.0, 1.0, 1.0, 1.0, 1.0, 1.0, 1.0, 1.0, 1.0, 1.0, 1.0, 1.0, 1.0, 1.0, 1.0, 1.0, 1.0, 1.0, 1.0, 1.0, 1.0, 1.0, 1.0, 1.0, 1.0, 1.0, 1.0, 1.0, 1.0, 1.0, 1.0, 1.0, 1.0, 1.0, 1.0, 3.0, 4.0, 4.0, 1.0, 1.0, 2.0, 3.0, 2.0, 3.0, 2.0, 2.0, 2.0, 1.0, 1.0, 1.0, 1.0, 1.0, 2.0, 2.0, 2.0, 1.0, 2.0, 2.0, 2.0, 2.0, 2.0, 2.0, 2.0, 2.0, 1.0, 2.0, 1.0, 1.0, 2.0, 2.0, 2.0, 2.0, 2.0, 2.0, 3.0, 3.0, 3.0, 3.0, 4.0, 3.0, 3.0, 4.0, 4.0, 3.0, 3.0, 3.0, 3.0, 3.0, 3.0, 3.0, 3.0, 3.0, 3.0, 3.0, 3.0, 3.0, 3.0, 3.0, 3.0, 3.0, 3.0, 3.0, 3.0, 3.0, 3.0, 3.0, 3.0, 3.0, 1.0, 1.0, 1.0, 1.0, 1.0, 1.0, 1.0, 1.0, 1.0, 1.0, 2.0, 2.0, 2.0, 2.0, 1.0, 1.0, 2.0, 2.0, 1.0, 2.0, 2.0, 2.0, 2.0, 3.0, 3.0, 3.0, 3.0, 2.0, 2.0, 2.0, 2.0, 2.0, 2.0, 3.0, 2.0, 2.0, 2.0, 3.0, 3.0, 2.0, 2.0, 3.0, 3.0, 4.0, 4.0, 3.0, 3.0, 3.0, 3.0, 4.0, 4.0, 4.0, 4.0, 3.0, 3.0, 3.0, 3.0, 3.0, 3.0, 3.0, 3.0, 3.0, 3.0, 3.0, 3.0, 4.0, 4.0, 4.0, 4.0, 4.0, 4.0, 4.0, 4.0, 4.0, 4.0, 4.0, 4.0, 4.0, 4.0, 4.0, 2.0, 3.0, 2.0, 3.0, 3.0, 3.0, 2.0, 2.0, 4.0, 4.0, 4.0, 3.0, 3.0, 2.0, 2.0, 2.0, 2.0, 2.0, 2.0, 2.0, 2.0, 2.0, 2.0, 2.0, 2.0, 1.0, 1.0, 1.0, 1.0, 1.0, 1.0, 1.0, 1.0, 1.0, 1.0, 1.0, 1.0, 1.0, 1.0, 1.0, 1.0, 1.0, 1.0, 3.0, 2.0, 2.0, 1.0, 2.0, 2.0, 1.0, 1.0, 1.0, 1.0, 1.0, 1.0, 1.0, 1.0, 1.0, 1.0, 1.0, 1.0, 1.0, 1.0, 3.0, 3.0, 3.0, 4.0, 3.0, 3.0, 3.0, 3.0, 3.0, 3.0, 3.0, 3.0, 3.0, 3.0, 3.0, 3.0, 3.0, 3.0, 3.0, 2.0, 2.0, 1.0, 1.0, 1.0, 2.0, 2.0, 1.0, 2.0, 1.0, 1.0, 1.0, 2.0, 1.0, 2.0, 1.0, 1.0, 1.0, 1.0, 4.0, 4.0, 4.0, 3.0, 3.0, 3.0, 3.0, 3.0, 3.0, 3.0, 3.0, 3.0, 3.0, 3.0, 3.0, 2.0, 3.0, 2.0, 2.0, 2.0, 3.0, 2.0, 2.0, 1.0, 1.0, 1.0, 1.0, 1.0, 1.0, 1.0, 1.0, 1.0, 2.0, 2.0, 1.0, 1.0, 1.0, 1.0, 1.0, 1.0, 1.0, 1.0, 1.0, 1.0, 1.0, 1.0, 1.0, 1.0, 1.0, 1.0, 1.0, 1.0, 1.0, 1.0, 1.0, 1.0, 2.0, 3.0, 3.0, 2.0, 3.0, 4.0, 3.0, 3.0, 4.0, 4.0, 4.0, 4.0, 4.0, 4.0, 4.0, 4.0, 4.0, 4.0, 4.0, 4.0, 3.0, 3.0, 3.0, 4.0, 4.0, 3.0, 3.0, 3.0, 3.0, 3.0, 4.0, 3.0, 4.0, 4.0, 4.0, 4.0, 4.0, 3.0, 1.0, 1.0, 1.0, 1.0, 1.0, 1.0, 1.0, 1.0, 1.0, 1.0, 1.0, 2.0, 2.0, 2.0, 2.0, 2.0, 2.0, 2.0, 2.0, 1.0, 1.0, 1.0, 1.0, 1.0, 1.0, 1.0, 1.0, 1.0, 1.0, 1.0, 1.0, 1.0, 1.0, 1.0, 1.0, 3.0, 3.0, 3.0, 3.0, 2.0, 2.0, 2.0, 2.0, 2.0, 2.0, 3.0, 1.0, 1.0, 1.0, 1.0, 1.0, 1.0, 1.0, 1.0, 1.0, 1.0, 1.0, 1.0, 1.0, 1.0, 1.0, 1.0, 1.0, 1.0, 1.0, 1.0, 2.0, 2.0, 1.0, 2.0, 1.0, 2.0, 2.0, 2.0, 2.0, 2.0, 2.0, 2.0, 1.0, 1.0, 1.0, 2.0, 2.0, 2.0, 2.0, 2.0, 2.0, 2.0, 2.0, 2.0, 2.0, 2.0, 2.0, 1.0, 1.0, 2.0, 1.0, 1.0, 1.0, 1.0, 1.0, 1.0, 1.0, 1.0, 1.0, 1.0, 1.0, 1.0, 1.0, 1.0, 1.0, 1.0, 1.0, 1.0, 1.0, 1.0, 1.0, 1.0, 1.0, 1.0, 1.0, 1.0, 2.0, 3.0, 2.0, 2.0, 2.0, 2.0, 2.0, 2.0, 2.0, 2.0, 2.0, 2.0, 2.0, 2.0, 3.0, 3.0, 3.0, 3.0, 3.0, 3.0, 1.0, 2.0, 1.0, 2.0, 2.0, 2.0, 2.0, 2.0, 2.0, 2.0, 2.0, 2.0, 2.0, 2.0, 2.0, 1.0, 1.0, 1.0, 1.0, 4.0, 4.0, 3.0, 3.0, 3.0, 4.0, 4.0, 4.0, 3.0, 3.0, 3.0, 4.0, 3.0, 3.0, 4.0, 2.0, 3.0, 3.0, 3.0, 3.0, 2.0, 2.0, 2.0, 2.0, 2.0, 2.0, 2.0, 4.0, 3.0, 3.0, 2.0, 2.0, 2.0, 2.0, 2.0, 2.0, 2.0, 2.0, 2.0, 2.0, 2.0, 2.0, 1.0, 2.0, 2.0, 2.0, 2.0, 2.0, 3.0, 2.0, 1.0, 1.0, 1.0, 1.0, 1.0, 1.0, 1.0, 1.0, 1.0, 1.0, 2.0, 2.0, 3.0, 3.0, 2.0, 2.0, 2.0, 2.0, 2.0, 4.0, 1.0, 1.0, 1.0, 1.0, 1.0, 1.0, 1.0, 1.0, 1.0, 1.0, 1.0, 1.0, 1.0, 1.0, 1.0, 1.0, 1.0, 1.0, 1.0, 4.0, 4.0, 4.0, 3.0, 2.0, 2.0, 2.0, 2.0, 2.0, 2.0, 2.0, 2.0, 2.0, 2.0, 2.0, 2.0, 2.0, 1.0, 2.0, 1.0, 1.0, 2.0, 2.0, 1.0, 2.0, 1.0, 1.0, 1.0, 2.0, 2.0, 2.0, 2.0, 2.0, 2.0, 2.0, 2.0, 2.0, 2.0, 2.0, 2.0, 2.0, 4.0, 3.0, 2.0, 1.0, 1.0, 2.0, 1.0, 1.0, 1.0, 1.0, 2.0, 2.0, 2.0, 1.0, 1.0, 1.0, 1.0, 1.0, 1.0, 1.0, 1.0, 1.0, 1.0, 1.0, 1.0, 1.0, 1.0, 1.0, 1.0, 1.0, 1.0, 1.0, 2.0, 2.0, 2.0, 1.0, 1.0, 1.0, 2.0, 2.0, 2.0, 2.0, 2.0, 2.0, 2.0, 2.0, 2.0, 2.0, 2.0, 2.0, 2.0, 2.0, 2.0, 2.0, 2.0, 2.0, 2.0, 4.0, 2.0, 2.0, 2.0, 1.0, 1.0, 1.0, 2.0, 2.0, 2.0, 2.0, 2.0, 2.0, 2.0, 2.0, 2.0, 3.0, 3.0, 2.0, 2.0, 2.0, 3.0, 2.0, 1.0, 1.0, 1.0, 1.0, 1.0, 1.0, 1.0, 1.0, 2.0, 2.0, 2.0, 1.0, 1.0, 1.0, 1.0, 4.0, 4.0, 3.0, 2.0, 2.0, 2.0, 2.0, 2.0, 2.0, 1.0, 1.0, 1.0, 1.0, 1.0, 1.0, 1.0, 1.0, 1.0, 1.0, 1.0, 1.0, 1.0, 1.0, 1.0, 1.0, 1.0, 1.0, 1.0, 1.0, 1.0, 1.0, 1.0, 1.0, 1.0, 1.0, 1.0, 1.0, 1.0, 1.0, 1.0, 3.0, 3.0, 3.0, 3.0, 3.0, 3.0, 3.0, 3.0, 3.0, 3.0, 3.0, 3.0, 3.0, 2.0, 2.0, 2.0, 2.0, 2.0, 2.0, 2.0, 2.0, 2.0, 3.0, 2.0, 1.0, 2.0, 1.0, 1.0, 1.0, 1.0, 1.0, 1.0, 1.0, 1.0, 1.0, 3.0, 1.0, 2.0, 1.0, 1.0, 1.0, 2.0, 2.0, 2.0, 1.0, 2.0, 1.0, 1.0, 1.0, 1.0, 1.0, 1.0, 1.0, 1.0, 1.0, 1.0, 3.0, 3.0, 2.0, 2.0, 3.0, 3.0, 3.0, 3.0, 2.0, 3.0, 3.0, 3.0, 3.0, 3.0, 3.0, 3.0, 3.0, 3.0, 3.0, 2.0, 2.0, 2.0, 2.0, 2.0, 2.0, 2.0, 3.0, 3.0, 2.0, 2.0, 2.0, 3.0, 4.0, 4.0, 3.0, 3.0, 3.0, 3.0, 3.0, 3.0, 3.0, 3.0, 3.0, 4.0, 1.0, 1.0, 1.0, 1.0, 1.0, 1.0, 1.0, 1.0, 1.0, 1.0, 1.0, 1.0, 1.0, 1.0, 1.0, 1.0, 1.0, 1.0, 1.0, 1.0, 1.0, 1.0, 1.0, 1.0, 1.0, 1.0, 1.0, 1.0, 1.0, 1.0, 1.0, 1.0, 1.0, 1.0, 1.0, 1.0, 1.0, 1.0, 1.0, 4.0, 2.0, 3.0, 2.0, 2.0, 2.0, 2.0, 2.0, 2.0, 2.0, 2.0, 2.0, 2.0, 2.0, 2.0, 2.0, 2.0, 2.0, 1.0, 1.0, 1.0, 2.0, 2.0, 2.0, 1.0, 1.0, 1.0, 1.0, 1.0, 1.0, 1.0, 1.0, 1.0, 1.0, 1.0, 1.0, 1.0, 2.0, 2.0, 2.0, 1.0, 1.0, 1.0, 1.0, 1.0, 1.0, 1.0, 1.0, 1.0, 1.0, 2.0, 2.0, 2.0, 2.0, 2.0, 1.0, 1.0, 1.0, 1.0, 3.0, 2.0, 2.0, 2.0, 3.0, 3.0, 3.0, 3.0, 3.0, 3.0, 3.0, 3.0, 3.0, 3.0, 3.0, 3.0, 2.0, 3.0, 4.0, 2.0, 1.0, 1.0, 1.0, 1.0, 2.0, 2.0, 2.0, 2.0, 1.0, 1.0, 1.0, 1.0, 1.0, 1.0, 1.0, 1.0, 3.0, 2.0, 2.0, 2.0, 2.0, 2.0, 2.0, 3.0, 3.0, 3.0, 2.0, 2.0, 1.0, 2.0, 2.0, 4.0, 4.0, 3.0, 3.0, 3.0, 3.0, 3.0, 2.0, 2.0, 2.0, 3.0, 2.0, 2.0, 2.0, 2.0, 2.0, 2.0, 2.0, 2.0, 2.0, 2.0, 2.0, 1.0, 1.0, 2.0, 1.0, 1.0, 1.0, 2.0, 2.0, 2.0, 2.0, 2.0, 2.0, 2.0, 2.0, 1.0, 1.0, 1.0, 1.0, 1.0, 1.0, 1.0, 1.0, 1.0, 1.0, 1.0, 2.0, 1.0, 1.0, 1.0, 2.0, 1.0, 1.0, 2.0, 3.0, 4.0, 4.0, 4.0, 3.0, 3.0, 3.0, 2.0, 2.0, 1.0, 2.0, 1.0, 2.0, 2.0, 1.0, 1.0, 1.0, 1.0, 1.0, 1.0, 3.0, 4.0, 4.0, 4.0, 4.0, 4.0, 4.0, 3.0, 3.0, 3.0, 3.0, 3.0, 3.0, 3.0, 3.0, 3.0, 3.0, 3.0, 3.0, 3.0, 3.0, 3.0, 3.0, 3.0, 3.0, 3.0, 3.0, 3.0, 3.0, 3.0, 2.0, 1.0, 2.0, 1.0, 1.0, 1.0, 1.0, 1.0, 1.0, 1.0, 1.0, 1.0, 1.0, 1.0, 1.0, 1.0, 1.0, 1.0, 1.0, 1.0, 1.0, 1.0, 1.0, 2.0, 2.0, 3.0, 3.0, 2.0, 2.0, 2.0, 2.0, 2.0, 2.0, 2.0, 2.0, 2.0, 3.0, 3.0, 3.0, 3.0, 2.0, 2.0, 2.0, 2.0, 2.0, 2.0, 2.0, 2.0, 2.0, 2.0, 3.0, 3.0, 2.0, 2.0, 2.0, 2.0, 3.0, 3.0, 2.0, 2.0, 2.0, 1.0, 1.0, 1.0, 1.0, 1.0, 1.0, 1.0, 1.0, 1.0, 2.0, 2.0, 2.0, 1.0, 2.0, 2.0, 2.0, 1.0, 3.0, 3.0, 3.0, 3.0, 3.0, 3.0, 3.0, 4.0, 4.0, 4.0, 4.0, 4.0, 4.0, 4.0, 4.0, 4.0, 4.0, 4.0, 4.0, 4.0, 4.0, 3.0, 3.0, 3.0, 3.0, 3.0, 2.0, 1.0, 1.0, 1.0, 1.0, 1.0, 1.0, 1.0, 1.0, 1.0, 1.0, 2.0, 2.0, 1.0, 1.0, 1.0, 1.0, 1.0, 1.0, 1.0, 2.0, 1.0, 1.0, 1.0, 1.0, 1.0, 1.0, 1.0, 1.0, 1.0, 1.0, 1.0, 1.0, 1.0, 1.0, 1.0, 1.0, 1.0, 1.0, 1.0, 1.0, 1.0, 1.0, 1.0, 1.0, 1.0, 1.0, 1.0, 1.0, 1.0, 3.0, 2.0, 2.0, 1.0, 2.0, 3.0, 3.0, 3.0, 3.0, 3.0, 3.0, 3.0, 3.0, 3.0, 3.0, 3.0, 3.0, 3.0, 3.0, 3.0, 3.0, 3.0, 4.0, 3.0, 3.0, 2.0, 2.0, 3.0, 3.0, 3.0, 2.0, 2.0, 4.0, 4.0, 4.0, 4.0, 4.0, 4.0, 4.0, 4.0, 4.0, 4.0, 4.0, 4.0, 4.0, 4.0, 4.0, 4.0, 1.0, 1.0, 1.0, 1.0, 1.0, 1.0, 1.0, 1.0, 1.0, 1.0, 1.0, 1.0, 1.0, 1.0, 1.0, 1.0, 1.0, 1.0, 1.0, 1.0, 1.0, 1.0, 2.0, 2.0, 2.0, 2.0, 2.0, 2.0, 2.0, 2.0, 2.0, 2.0, 2.0, 2.0, 2.0, 2.0, 2.0, 2.0, 2.0, 2.0, 3.0], \"coloraxis\": \"coloraxis\", \"symbol\": \"circle\"}, \"mode\": \"markers\", \"name\": \"\", \"showlegend\": false, \"type\": \"scattergl\", \"x\": [6.96, 7.14, 7.21, 7.22, 7.31, 7.35, 7.24, 7.2, 7.27, 7.48, 7.53, 4.25, 3.53, 4.47, 6.95, 7.34, 6.84, 6.28, 6.16, 6.33, 5.99, 6.08, 6.19, 5.88, 5.82, 5.59, 5.58, 5.04, 4.88, 4.49, 4.98, 5.756363636363636, 5.985454545454545, 6.214545454545455, 6.4436363636363625, 6.672727272727273, 6.901818181818182, 7.130909090909091, 7.36, 7.31, 7.45, 7.42, 7.59, 7.55, 7.56, 7.71, 7.75, 7.69, 7.7, 7.59, 7.57, 6.85, 7.16, 7.73, 7.95, 8.19, 8.07, 8.05, 8.06, 8.01, 8.07, 8.14, 8.18, 8.08, 7.97, 8.02, 8.01, 7.96, 7.92, 8.02, 8.0, 6.45, 6.46, 6.95, 7.15, 7.96, 7.84, 7.8, 7.94, 7.9, 7.85, 7.85, 7.81, 7.7, 7.66, 7.62, 7.65, 7.62, 7.63, 7.68, 7.64, 7.58, 7.074545454545453, 6.948181818181817, 6.821818181818182, 6.695454545454545, 6.569090909090908, 6.442727272727272, 6.316363636363636, 6.19, 6.01, 6.11, 6.28, 6.32, 6.41, 6.66, 6.75, 6.72, 7.07, 7.18, 7.38, 7.46, 7.55, 7.58, 7.49, 7.38, 7.32, 7.31, 7.33, 6.6, 7.42, 7.33, 7.33, 7.2, 7.02, 6.89, 7.35, 7.52, 7.42, 7.29, 7.47, 7.49, 7.33, 7.33, 7.36, 5.72, 6.06, 5.99, 6.01, 6.13, 6.15, 6.05, 5.83, 6.13, 6.31, 6.1, 6.12, 6.22, 6.56, 6.63, 6.63, 6.67, 6.68, 6.395217391304348, 6.386521739130433, 6.377826086956523, 6.369130434782607, 6.360434782608697, 6.351739130434782, 6.34304347826087, 6.334347826086956, 6.325652173913044, 6.31695652173913, 6.308260869565218, 6.2995652173913035, 6.290869565217393, 6.2821739130434775, 6.273478260869566, 6.264782608695652, 6.25608695652174, 6.247391304347826, 6.238695652173914, 7.35, 7.32, 7.56, 7.32, 7.76, 7.41, 7.52, 7.55, 7.47, 7.41, 7.39, 7.38, 7.3, 7.28, 7.39, 7.38, 7.35, 7.37, 7.59, 7.43, 5.59, 5.9, 6.63, 6.39, 6.28, 6.49, 6.56, 7.02, 7.37, 7.27, 7.34, 7.32, 7.07, 6.52, 7.12, 7.13, 7.03, 6.9, 6.81, 6.97, 6.88, 6.57, 6.47, 6.213333333333334, 6.2091666666666665, 6.63, 6.7, 6.79, 6.78, 3.92, 2.96, 4.23, 4.66, 5.98, 5.98, 6.23, 6.08, 6.15, 6.18, 6.15, 6.17, 6.31, 6.24, 6.46, 6.45, 6.24, 6.05, 5.93, 5.75, 6.2158823529411755, 6.293529411764706, 6.371176470588236, 6.448823529411764, 6.526470588235294, 6.604117647058824, 6.681764705882353, 6.759411764705884, 6.8370588235294125, 6.9147058823529415, 6.9923529411764695, 7.07, 6.92, 7.07, 6.75, 6.89, 6.77, 5.9700000000000015, 5.65, 4.17, 4.82, 5.55, 6.11, 6.58, 6.81, 6.81, 6.95, 7.08, 7.1, 7.17, 7.29, 7.3, 7.37, 7.37, 7.33, 7.37, 7.77, 7.87, 8.17, 8.08, 8.27, 8.2, 8.06, 8.16, 8.17, 8.12, 8.13, 8.09, 8.04, 8.01, 8.01, 7.95, 7.99, 8.03, 5.05, 5.55, 6.61, 7.37, 7.36, 7.37, 7.6, 7.76, 7.71, 7.74, 7.76, 7.87, 7.8, 7.87, 7.89, 7.91, 7.81, 7.88, 7.84, 7.79, 5.06, 5.02, 5.48, 5.67, 6.23, 6.27, 6.4, 6.35, 6.34, 6.51, 6.66, 6.6, 6.7, 6.74, 6.82, 6.72, 6.67, 6.58, 6.55, 5.52, 5.33, 6.98, 7.33, 7.46, 7.32, 7.18, 7.4, 7.22, 7.56, 7.76, 7.59, 7.37, 7.37, 7.28, 7.57, 7.53, 7.48, 7.5, 5.386666666666668, 5.233333333333333, 5.08, 6.28, 6.0, 6.24, 6.3, 6.34, 6.47, 6.54, 6.61, 6.72, 6.78, 6.68, 6.9, 6.93, 6.9, 7.0, 7.04, 6.96, 6.64, 7.12, 7.01, 7.65, 7.56, 7.5, 7.77, 7.74, 7.77, 7.73, 7.67, 7.47, 7.07, 7.33, 7.69, 7.71, 6.24, 6.37, 7.16, 7.73, 8.06, 7.88, 7.88, 8.01, 8.0, 7.89, 7.97, 7.97, 7.88, 7.66, 7.77, 7.71, 7.56, 7.68, 7.81, 7.75, 5.7, 4.6, 5.47, 6.31, 5.86, 5.76, 6.25, 6.25, 5.68, 5.94, 5.99, 5.83, 6.02, 5.92, 5.87, 5.88, 6.03, 5.88, 5.66, 6.09, 4.32, 6.51, 6.3, 5.99, 5.87, 5.98, 6.29, 6.4, 6.59, 6.43, 6.21, 6.35, 6.18, 6.14, 6.01, 5.78, 5.77, 4.81, 7.64, 7.72, 7.59, 7.52, 7.55, 7.64, 7.47, 7.57, 7.63, 7.53, 7.4, 7.21, 7.14, 7.09, 7.2, 7.35, 6.536666666666667, 6.383333333333334, 6.23, 7.6, 7.67, 7.72, 7.84, 7.98, 7.96, 7.97, 7.85, 7.77, 7.7, 7.82, 7.74, 7.68, 7.7, 7.79, 7.93, 6.51, 6.57, 6.53, 6.73, 7.32, 7.13, 7.2, 7.26, 7.08, 7.04, 6.84, 6.5, 6.77, 6.99, 7.52, 7.98, 7.9, 7.9, 7.9, 7.87, 7.86, 7.88, 7.91, 7.81, 7.71, 7.79, 7.87, 7.81, 7.7, 7.79, 7.71, 6.05, 6.03, 7.04, 6.97, 7.47, 7.23, 7.32, 7.33, 7.38, 7.31, 7.32, 7.5, 7.42, 7.43, 7.42, 7.33, 7.27, 7.23, 7.36, 7.247999999999999, 7.225, 7.202000000000001, 7.178999999999999, 7.1560000000000015, 7.132999999999999, 7.11, 6.96, 7.42, 7.6, 7.46, 7.57, 7.41, 7.5, 7.64, 7.75, 7.87, 8.02, 7.98, 7.64, 7.62, 7.8, 7.65, 7.67, 7.76, 7.7, 7.75, 7.7, 7.58, 7.5, 7.55, 7.59, 7.68, 7.64, 7.66, 7.67, 7.67, 5.72, 5.1, 5.95, 6.4, 6.97, 6.88, 7.01, 7.34, 7.26, 7.38, 7.27, 7.32, 7.1, 6.96, 6.81, 6.69, 6.67, 6.88, 6.81, 6.45, 6.27, 5.81, 7.15, 6.85, 6.89, 6.95, 7.05, 7.22, 7.22, 7.33, 7.34, 7.21, 7.15, 7.15, 7.22, 7.41, 7.66, 7.65, 7.69, 4.135, 5.0, 6.27, 6.34, 6.23, 5.76, 5.85, 6.0, 6.2, 6.4, 6.33, 6.21, 6.31, 6.3, 6.04, 5.35, 6.47, 6.55, 6.68, 6.73, 5.7, 7.28, 7.16, 7.21, 7.28, 7.16, 7.13, 4.07, 4.48, 4.89, 6.17, 7.01, 7.39, 7.0, 7.09, 7.22, 7.2, 7.13, 7.15, 7.2, 7.27, 7.31, 7.38, 7.33, 7.34, 7.36, 7.19, 7.22, 5.15, 5.42, 6.92, 7.73, 7.99, 7.91, 7.8, 8.03, 8.06, 8.13, 8.08, 7.93, 7.34, 6.9, 6.48, 6.86, 6.94, 7.02, 7.23, 7.25, 7.22, 5.619130434782608, 6.46, 6.53, 7.06, 8.25, 8.08, 7.96, 7.85, 8.03, 8.13, 8.22, 8.11, 8.01, 7.87, 7.76, 7.67, 7.83, 7.98, 8.04, 8.12, 3.5, 4.04, 4.48, 5.91, 6.84, 6.87, 7.23, 7.25, 7.23, 7.3, 7.23, 7.22, 7.2, 7.14, 7.32, 7.35, 7.36, 7.42, 7.45, 7.47, 7.49, 5.58, 5.78, 6.75, 6.62, 7.59, 7.47, 7.5, 7.19, 7.29, 7.37, 7.25, 7.15, 7.07, 6.97, 7.19, 7.22, 7.22, 7.19, 7.25, 7.31, 3.98, 5.09, 5.62, 7.53, 7.4, 7.36, 7.46, 7.55, 7.51, 7.5, 7.26, 6.97, 7.0, 7.37, 7.55, 7.94, 7.4, 7.93, 7.65, 7.51, 7.85, 7.77, 7.83, 7.85, 7.78, 7.65, 7.52, 7.59, 7.49, 7.66, 7.54, 7.52, 7.46, 7.17, 7.23, 7.45, 7.48, 7.56, 7.2666666666666675, 7.218333333333334, 7.17, 7.121666666666666, 7.073333333333332, 7.025, 6.9766666666666675, 6.928333333333333, 6.88, 6.98, 7.15, 7.04, 7.07, 6.94, 6.97, 7.14, 7.13, 7.23, 7.26, 3.69, 5.46, 6.41, 6.97, 7.45, 7.48, 7.51, 7.09, 7.08, 7.19, 7.33, 7.03, 7.1, 6.95, 6.93, 6.93, 6.84, 6.77, 6.295, 6.09, 5.885, 5.68, 7.24, 7.53, 7.69, 7.54, 7.61, 7.62, 7.76, 7.59, 7.52, 7.33, 7.23, 7.34, 7.56, 7.68, 7.81, 7.72, 5.226666666666667, 5.348333333333333, 5.47, 6.92, 6.87, 7.18, 7.2, 7.41, 7.37, 7.46, 7.54, 7.44, 7.55, 7.47, 7.5, 7.52, 7.72, 7.91, 7.86, 7.86, 8.05, 8.39, 8.07, 7.9, 8.18, 8.18, 7.93, 7.97, 7.98, 7.6, 7.6, 7.62, 7.62, 7.51, 7.53, 7.48, 7.46, 7.61, 7.78, 7.64, 6.64, 6.32, 6.34, 6.42, 6.59, 6.84, 6.8, 6.88, 6.61, 6.6, 6.85, 6.86, 6.85, 7.07, 7.1, 5.57, 5.34, 5.54, 7.0, 6.98, 6.98, 6.88, 6.52, 7.22, 7.55, 7.37, 7.74, 7.59, 7.64, 7.59, 7.67, 7.63, 7.66, 7.8, 7.72, 4.9, 6.38, 6.12, 7.81, 7.54, 7.45, 7.29, 7.21, 7.05, 7.53, 7.37, 7.89, 7.96, 7.85, 7.98, 8.05, 8.15, 8.12, 8.02, 8.02, 8.01, 5.19, 4.67, 6.26, 6.46, 6.6, 6.54, 6.73, 6.72, 6.84, 6.83, 6.87, 6.78, 6.66, 6.53, 6.67, 6.68, 6.71, 6.77, 6.85, 6.88, 7.4, 6.758333333333333, 6.666666666666668, 6.575, 6.4833333333333325, 6.3916666666666675, 6.3, 6.91, 7.04, 7.19, 7.16, 5.93, 5.78, 5.9, 6.04, 6.03, 6.21, 6.22, 6.26, 6.41, 6.47, 6.34, 6.37, 6.28, 7.29, 7.34, 7.56, 7.96, 7.96, 7.75, 7.72, 7.72, 7.75, 7.73, 7.66, 7.64, 7.58, 7.44, 7.48, 7.58, 7.54, 7.62, 7.74, 7.73, 7.71, 6.44, 6.29, 7.86, 8.84, 8.58, 8.48, 8.46, 8.49, 8.52, 8.44, 8.26, 8.39, 8.4, 8.27, 8.33, 8.39, 8.47, 8.48, 2.87, 6.91, 6.63, 6.93, 6.99, 6.87, 7.15, 7.25, 7.29, 7.12, 7.09, 7.18, 7.31, 7.36, 7.34, 7.3, 7.27, 5.72, 6.39, 6.99, 7.57, 7.36, 7.26, 7.14, 7.66, 7.62, 7.73, 7.59, 7.73, 7.63, 7.5, 7.47, 7.56, 7.58, 7.6, 7.62, 7.65, 7.13, 7.01, 7.05, 6.07, 6.7, 7.61, 7.55, 7.49, 7.55, 7.54, 7.57, 7.49, 7.56, 7.24, 7.25, 7.22, 7.13, 7.34, 7.38, 7.48, 7.57, 6.24, 5.24, 5.94, 7.04, 6.79, 6.72, 6.59, 6.53, 6.45, 6.48, 6.41, 6.37, 6.5, 6.56, 6.74, 6.8, 6.89, 6.95, 6.87, 3.87, 6.47, 7.48, 7.48, 7.42, 7.41, 7.43, 7.39, 7.41, 7.39, 7.5, 7.51, 7.64, 7.62, 7.57, 7.52, 7.53, 7.47, 5.15, 7.1, 6.97, 6.76, 6.95, 7.0, 7.05, 6.86, 6.72, 6.66, 7.05, 7.22, 7.54, 7.4, 4.5950000000000015, 3.68, 3.51, 5.28, 6.55, 6.47, 6.59, 6.49, 6.81, 6.89, 6.94, 6.86, 7.0, 7.16, 7.12, 7.24, 7.32, 7.25, 7.43, 7.36, 5.62, 5.46, 6.2, 7.4, 7.46, 7.36, 7.4, 7.39, 7.44, 7.25, 7.41, 7.4, 7.21, 7.17, 7.0, 7.27, 7.31, 7.52, 7.6, 7.4535294117647055, 7.434705882352941, 7.406470588235294, 7.397058823529411, 7.3876470588235295, 7.378235294117648, 7.368823529411764, 7.359411764705883, 7.35, 7.23, 7.5, 7.54, 7.68, 7.43, 7.49, 6.0575, 5.58, 5.02, 4.15, 5.73, 5.77, 6.31, 6.49, 6.63, 7.24, 7.03, 7.57, 7.32, 7.45, 7.3, 7.34, 7.47, 7.63, 7.74, 7.7, 7.69, 6.755294117647058, 6.42, 6.0683333333333325, 6.046666666666668, 6.025, 6.003333333333333, 5.9816666666666665, 5.96, 6.39, 6.77, 6.55, 6.58, 6.56, 6.64, 6.55, 6.68, 6.71, 6.76, 6.928, 7.006, 7.0255, 7.045, 7.0645, 7.084, 7.1035, 7.122999999999999, 7.1425, 7.162000000000001, 7.1815, 7.2010000000000005, 7.2205, 7.24, 7.46, 7.33, 7.42, 7.65, 8.49, 8.88, 8.7, 8.67, 8.79, 8.73, 8.8, 8.91, 8.98, 8.96, 8.92, 8.77, 8.76, 8.76, 8.64, 8.64, 8.84, 8.84, 5.973333333333333, 5.641666666666667, 5.31, 6.58, 6.81, 6.77, 6.88, 6.88, 6.91, 6.98, 6.95, 7.01, 7.02, 6.82, 6.83, 6.84, 6.75, 7.01, 7.08, 7.04, 7.02, 6.98, 7.12, 6.98, 6.97, 6.99, 6.89, 6.72, 6.82, 7.05, 7.12, 6.98, 7.08, 6.87, 6.84, 5.81, 6.14, 6.56, 7.18, 7.77, 7.59, 7.5, 7.73, 7.74, 7.62, 7.57, 7.53, 7.37, 7.27, 7.32, 7.45, 7.35, 7.35, 7.45, 7.53, 4.54, 4.71, 6.31, 6.28, 6.25, 6.39, 6.62, 5.5858823529411765, 5.661176470588236, 5.736470588235294, 5.811764705882353, 5.887058823529412, 5.962352941176472, 6.037647058823528, 6.1129411764705885, 6.188235294117647, 6.263529411764706, 6.338823529411764, 6.414117647058824, 6.489411764705883, 6.564705882352941, 6.64, 6.35, 6.64, 6.72, 6.78, 5.66, 6.45, 6.96, 7.32, 7.67, 7.44, 7.53, 7.61, 7.47, 7.5, 7.46, 7.43, 7.4, 7.39, 7.58, 7.57, 7.48, 7.44, 7.62, 7.65, 7.44, 7.62, 8.15, 8.21, 8.16, 8.73, 8.55, 8.64, 8.56, 8.5, 8.37, 8.42, 8.43, 8.24, 8.26, 8.3, 8.23, 8.2, 8.22, 8.31, 8.37, 7.511176470588236, 7.416470588235294, 7.321764705882352, 7.227058823529411, 7.132352941176472, 7.037647058823528, 6.942941176470589, 6.848235294117647, 6.753529411764706, 6.72, 5.86, 5.94, 6.69, 7.07, 6.6, 6.67, 6.73, 6.77, 6.72, 6.86, 6.83, 6.8, 6.69, 6.65, 6.59, 6.58, 6.61, 6.62, 6.8, 6.85, 6.71, 6.35, 6.79, 6.83, 7.03, 6.99, 6.86, 6.87, 6.84, 4.49, 3.76, 3.03, 4.71, 4.92, 5.4, 5.3, 5.52, 5.81, 5.95, 5.92, 5.87, 5.89, 5.9, 6.15, 6.24, 5.91, 5.4, 6.72, 7.71, 8.18, 8.21, 8.56, 8.45, 8.46, 8.47, 8.34, 8.3, 8.2, 8.13, 7.99, 8.08, 7.89, 7.9, 7.91, 7.96, 7.91, 8.01, 8.0, 6.33, 6.16, 6.6, 6.74, 7.1, 7.04, 7.19, 7.01, 7.13, 7.05, 7.0, 7.08, 7.12, 7.05, 7.33, 7.34, 7.26, 7.14, 7.15, 4.94], \"xaxis\": \"x\", \"y\": [0.0, 0.0, 124.0, 160.0, 0.0, 96.0, 21.44262295081968, 16.721311475409838, 12.0, 7.278688524590162, 2.5573770491803263, 1972.0, 1988.0, 2140.0, 2204.0, 2774.0, 3132.0, 3162.0, 3289.0, 3121.0, 3058.0, 3108.0, 2946.0, 3059.0, 2884.0, 2943.0, 2912.0, 3248.0, 2987.0, 3231.0, 3073.0, 74.0, 93.0, 130.0, 61.0, 60.0, 74.0, 59.0, 26.64, 9.36, 78.0, 71.0, 63.0, 53.0, 73.0, 67.0, 79.0, 67.0, 58.0, 74.0, 67.0, 1606.0, 1861.0, 2202.0, 2170.0, 2391.0, 2458.0, 2319.0, 2156.0, 2114.0, 1164.0, 2117.0, 2229.0, 2341.0, 2337.0, 2420.0, 2392.0, 2580.0, 2608.0, 2891.0, 3027.0, 1932.0, 2091.0, 1825.0, 1788.0, 1588.0, 1489.0, 1553.0, 1456.0, 1422.0, 1399.0, 1297.0, 1285.0, 1267.0, 1278.0, 1264.0, 1288.0, 1276.0, 1291.0, 1314.0, 1251.0, 1204.0, 244.0, 114.0, 49.0, 62.0, 317.0, 92.0, 129.0, 108.0, 30.0, 55.0, 1.0, 1.0, 2.0, 11.0, 1.0, 3.0, 1.0, 2.0, 4.0, 2.0, 5.0, 4.0, 6.0, 10.0, 4.0, 5.0, 5.0, 11.0, 29.0, 23.0, 25.0, 34.0, 42.0, 42.0, 28.0, 40.0, 43.0, 36.0, 19.0, 18.0, 19.0, 5.0, 9.0, 3.0, 7.0, 16.0, 17.0, 10.0, 2.0, 0.0, 0.0, 3.0, 1.0, 9.0, 0.0, 1.0, 5.0, 3.0, 0.0, 0.0, 0.0, 2302.0, 2085.0, 3203.0, 3483.0, 3303.0, 3291.0, 3456.0, 1136.4324324324325, 864.0, 591.5675675675676, 2659.0, 2658.0, 2743.0, 2459.0, 2172.0, 822.0, 1902.0, 1741.0, 978.0, 2178.0, 2281.0, 1895.0, 2155.0, 2143.0, 2165.0, 2076.0, 2091.0, 1987.0, 2029.0, 1935.0, 1857.0, 1999.0, 2013.0, 2013.0, 2088.0, 2026.0, 1895.0, 1899.0, 1867.0, 2.0, 3.0, 14.0, 18.0, 19.0, 14.0, 12.0, 20.0, 12.0, 11.0, 8.0, 11.0, 15.0, 15.0, 33.0, 18.0, 17.0, 24.0, 26.0, 11.0, 8.0, 18.0, 17.0, 433.0, 462.0, 84.00000000000001, 5.0, 12.0, 313.0, 3864.0, 4228.0, 4803.0, 6536.0, 6763.0, 7710.0, 7697.0, 7839.0, 7995.0, 8529.0, 8618.0, 8855.0, 9184.0, 9346.0, 9429.0, 9822.0, 10295.0, 10513.0, 10631.0, 11163.0, 0.0, 5.0, 4.0, 1.0, 5.0, 3.0, 7.0, 10.0, 10.0, 9.0, 2.0, 5.0, 5.0, 8.0, 4.0, 5.0, 7.0, 1206.0, 1456.0, 1323.0, 1433.0, 1383.0, 1314.0, 1317.0, 1092.0, 1013.0, 982.0, 977.0, 902.0, 939.0, 868.0, 859.0, 763.0, 872.0, 721.0, 724.0, 3355.0, 3258.0, 3378.0, 3968.0, 3606.0, 3694.0, 3650.0, 3765.0, 3613.0, 3743.0, 3512.0, 3611.0, 3705.0, 3890.0, 3951.0, 3728.0, 3926.0, 4054.0, 539.0, 683.0, 743.0, 930.0, 1473.0, 1625.0, 1603.0, 1654.0, 1735.0, 1682.0, 1795.0, 1848.0, 2088.0, 2148.0, 2001.0, 2027.0, 1841.0, 1738.0, 1789.0, 1838.0, 1001.0, 865.0, 1150.0, 2358.0, 2412.0, 2379.0, 2269.0, 2244.0, 2102.0, 2177.0, 2181.0, 2220.0, 2249.0, 2107.0, 2044.0, 2119.0, 2068.0, 2126.0, 2332.0, 122.0, 128.0, 157.0, 209.0, 239.0, 198.0, 275.0, 315.0, 325.0, 272.0, 350.0, 270.0, 261.0, 278.0, 311.0, 316.0, 302.0, 311.0, 268.0, 1050.0, 1139.0, 929.0, 926.0, 881.0, 874.0, 865.0, 871.0, 874.0, 796.0, 775.0, 793.0, 790.0, 776.0, 702.0, 776.0, 692.0, 722.0, 739.0, 683.0, 7.0, 0.0, 0.0, 7.0, 17.0, 19.0, 19.0, 41.0, 32.0, 38.0, 30.0, 36.0, 45.0, 44.0, 40.0, 36.0, 1524.2320441988948, 1019.0386740331493, 513.8453038674033, 924.0, 728.0, 727.0, 688.0, 633.0, 661.0, 631.0, 650.0, 581.0, 603.0, 622.0, 563.0, 589.0, 661.0, 610.0, 629.0, 564.0, 233.0, 393.0, 448.0, 546.0, 534.0, 584.0, 577.0, 675.0, 791.0, 943.0, 900.0, 1005.0, 928.0, 964.0, 912.0, 918.0, 976.0, 676.0, 734.0, 1073.0, 15.0, 48.0, 49.0, 36.0, 42.0, 54.0, 52.0, 43.0, 32.0, 41.0, 52.0, 48.0, 176.0, 211.0, 149.0, 88.0, 48.0, 571.0, 620.0, 461.0, 514.0, 436.0, 527.0, 464.0, 455.0, 411.0, 501.0, 490.0, 506.0, 399.0, 485.0, 512.0, 484.0, 386.0, 470.0, 428.0, 594.0, 377.0, 401.0, 371.0, 342.0, 323.0, 273.0, 247.0, 251.0, 242.0, 269.0, 223.0, 218.0, 237.0, 218.0, 241.0, 195.0, 36.0, 42.0, 10.0, 24.0, 22.0, 24.0, 13.0, 37.0, 26.0, 38.0, 32.0, 78.9278350515464, 257.07216494845363, 1512.0, 1388.0, 1165.0, 1204.0, 1095.0, 1075.0, 1064.0, 994.0, 1062.0, 995.0, 1033.0, 1034.0, 954.0, 912.0, 873.0, 887.0, 789.0, 731.0, 10406.0, 12501.0, 11403.0, 11819.0, 10849.0, 10449.0, 10643.0, 10871.0, 10804.0, 10713.0, 10423.0, 10127.0, 10353.0, 10499.0, 10379.0, 10408.0, 9743.0, 9600.0, 8881.0, 239.0, 196.0, 138.0, 130.0, 100.0, 48.0, 48.0, 175.0, 87.0, 72.0, 104.0, 84.0, 188.0, 112.0, 99.0, 104.0, 157.0, 194.0, 192.0, 13924.0, 12888.0, 11073.0, 11167.0, 11176.0, 11155.0, 10741.0, 10270.0, 9775.0, 9409.0, 9459.0, 9579.0, 10030.0, 10153.0, 9896.0, 10091.0, 10217.0, 10088.0, 314.0, 405.0, 349.0, 370.0, 382.0, 334.0, 323.0, 375.0, 353.0, 400.0, 394.0, 328.0, 373.0, 391.0, 377.0, 477.0, 508.0, 533.0, 565.0, 529.0, 87.0, 158.0, 211.0, 182.0, 202.0, 258.0, 253.0, 250.0, 238.0, 298.0, 327.0, 492.0, 511.0, 352.0, 359.0, 420.0, 455.0, 512.0, 494.0, 89.0, 99.0, 197.0, 176.0, 198.0, 186.0, 169.0, 201.0, 185.0, 168.0, 156.0, 205.0, 192.0, 206.0, 210.0, 0.0, 16.0, 4.0, 1.0, 1.0, 158.0, 37.0, 92.0, 111.0, 112.0, 111.0, 94.0, 4797.0, 4725.0, 4133.0, 3366.0, 3269.0, 2978.0, 2839.0, 2800.0, 2742.0, 2619.0, 2461.0, 2450.0, 2476.0, 2460.0, 2489.0, 2420.0, 2349.0, 2092.0, 1925.0, 1868.0, 1762.0, 676.56, 32.0, 40.0, 27.0, 50.0, 36.0, 30.0, 26.0, 35.0, 33.0, 32.0, 37.0, 38.0, 36.0, 46.0, 27.0, 37.0, 49.0, 44.0, 40.0, 40.0, 3.0, 215.0, 276.0, 334.0, 403.0, 463.0, 488.0, 449.0, 454.0, 464.0, 451.0, 452.0, 458.0, 506.0, 527.0, 486.0, 554.0, 542.0, 487.0, 486.0, 231.0, 234.0, 304.0, 360.0, 394.0, 398.0, 382.0, 417.0, 411.0, 425.0, 367.0, 326.0, 354.0, 404.0, 480.0, 409.0, 430.0, 372.0, 382.0, 342.0, 600.0, 4155.0, 4759.0, 4402.0, 4569.0, 4108.0, 4030.0, 4069.0, 4075.0, 3986.0, 3742.0, 3700.0, 3757.0, 3904.0, 3974.0, 3989.0, 4153.0, 4257.0, 4290.0, 4147.0, 3988.0, 0.0, 8.0, 3.0, 3.0, 5.0, 2.0, 2.0, 1.0, 51.0, 0.0, 36.0, 3.0, 50.0, 20416.0, 23257.0, 20002.0, 21249.0, 29989.0, 29132.0, 29715.0, 31881.0, 30034.0, 30369.0, 29769.0, 30665.0, 30073.0, 30523.0, 29411.0, 28766.0, 26338.0, 25991.0, 24357.0, 23092.0, 5.0, 14.0, 18.0, 19.0, 31.0, 3528.0, 3172.0, 4706.0, 4428.0, 4377.0, 4240.0, 4321.0, 4394.0, 3903.0, 4076.0, 4141.0, 3997.0, 3838.0, 3609.0, 3401.0, 3240.0, 3512.0, 3119.0, 2872.0, 10.0, 17.0, 26.0, 34.0, 30.0, 45.0, 44.0, 45.0, 52.0, 45.0, 51.0, 47.0, 61.0, 39.0, 41.0, 56.0, 41.0, 68.0, 825.0, 757.0, 695.0, 1024.0, 770.0, 708.0, 670.0, 604.0, 563.0, 564.0, 487.0, 453.0, 527.0, 516.0, 438.0, 440.0, 444.0, 383.0, 382.0, 387.0, 1208.0, 967.0, 1694.0, 1631.0, 1533.0, 1551.0, 1455.0, 1380.0, 1319.0, 1049.0, 1025.0, 1111.0, 1138.0, 1018.0, 1018.0, 927.0, 1085.0, 930.0, 896.0, 826.0, 47.0, 55.0, 68.0, 63.0, 62.0, 73.0, 85.0, 48.0, 62.0, 49.0, 65.0, 78.0, 43.0, 48.0, 54.0, 55.0, 51.0, 40.0, 67.0, 64.0, 118.0, 73.0, 46.0, 56.0, 66.0, 39.0, 63.0, 62.0, 59.0, 40.0, 39.0, 34.0, 29.0, 22.0, 21.0, 0.0, 2.0, 8.0, 17.0, 23.0, 30.0, 19.0, 20.0, 24.0, 19.0, 26.0, 26.0, 14.0, 36.0, 31.0, 20.0, 25.0, 22.0, 32.0, 34.0, 66.24000000000001, 104.0, 147.0, 147.0, 137.0, 113.0, 131.0, 88.0, 97.0, 102.0, 118.0, 127.0, 84.0, 115.0, 98.0, 118.0, 115.0, 98.0, 120.0, 104.0, 98.0, 961.0, 1544.0, 1926.0, 2877.0, 3456.0, 3760.0, 3826.0, 4070.0, 4056.0, 4274.0, 4230.0, 4285.0, 4642.0, 5023.0, 4858.0, 5558.0, 5381.0, 5711.0, 6178.0, 6234.0, 450.0, 0.0, 0.0, 0.0, 0.0, 0.0, 118.0, 0.0, 121.0, 126.0, 107.0, 21.0, 11.0, 22.0, 40.0, 20.0, 9.0, 10.0, 23.0, 36.0, 47.0, 149.0, 158.0, 118.0, 1430.0, 1638.0, 1450.0, 1511.0, 1501.0, 1474.0, 1570.0, 1502.0, 1514.0, 1574.0, 1525.0, 1354.0, 1439.0, 1530.0, 1604.0, 1650.0, 1756.0, 1856.0, 1839.0, 1873.0, 1895.0, 337.0, 338.0, 455.0, 545.0, 458.0, 508.0, 467.0, 519.0, 495.0, 514.0, 527.0, 494.0, 520.0, 512.0, 536.0, 493.0, 549.0, 513.0, 91.0, 363.0, 365.0, 362.0, 389.0, 393.0, 391.0, 319.0, 352.0, 384.0, 366.0, 351.0, 369.0, 316.0, 351.0, 311.0, 315.0, 97.05882352941177, 139.41176470588235, 659.0, 548.0, 541.0, 549.0, 494.0, 502.0, 529.0, 533.0, 532.0, 485.0, 505.0, 573.0, 548.0, 598.0, 515.0, 554.0, 548.0, 590.0, 13.0, 13.0, 7.0, 38.0, 56.0, 143.0, 162.0, 160.0, 195.0, 186.0, 172.0, 185.0, 171.0, 186.0, 177.0, 151.0, 144.0, 135.0, 130.0, 147.0, 110.0, 52.0, 63.0, 99.0, 118.0, 154.0, 152.0, 177.0, 174.0, 234.0, 239.0, 251.0, 227.0, 222.0, 283.0, 223.0, 298.0, 275.0, 323.0, 379.0, 86.0, 364.0, 227.0, 224.0, 250.0, 235.0, 219.0, 198.0, 229.0, 407.0, 403.0, 150.0, 261.0, 478.0, 591.0, 344.0, 402.0, 264.0, 189.40540540540542, 558.0, 1403.0, 1204.0, 1301.0, 1544.0, 1788.0, 1698.0, 1820.0, 2074.0, 2116.0, 2449.0, 827.8356164383563, 938.3013698630136, 1159.2328767123288, 4945.0, 4970.0, 5499.0, 5841.0, 5855.0, 5925.0, 5836.0, 6072.0, 6045.0, 5805.0, 5284.0, 5682.0, 6477.0, 6357.0, 6113.0, 6368.0, 6218.0, 5934.0, 5420.0, 729.0, 983.0, 870.0, 809.0, 524.0, 761.0, 1210.0, 1156.0, 1971.891891891892, 1248.0, 524.1081081081081, 1020.0, 1038.0, 1025.0, 1099.0, 1017.0, 1076.0, 1052.0, 1222.0, 0.0, 23.0, 21.0, 17.0, 29.0, 41.0, 33.0, 44.0, 47.0, 50.0, 43.0, 37.0, 55.0, 66.0, 70.0, 137.60330578512398, 583.8842975206612, 2079.0, 2793.0, 2836.0, 2720.0, 3067.0, 2894.0, 2720.0, 2603.0, 2721.0, 2430.0, 2472.0, 2586.0, 2766.0, 2536.0, 2495.0, 2407.0, 2209.0, 2228.0, 1969.0, 59.0, 76.0, 1543.0, 1442.0, 1446.0, 1378.0, 1345.0, 1437.0, 1443.0, 1353.0, 1289.0, 1373.0, 1207.0, 1256.0, 1243.0, 1197.0, 1134.0, 1062.0, 8.0, 6.0, 5.0, 8.0, 6.0, 5.0, 8.0, 6.0, 4.0, 4.0, 6.0, 5.0, 3.0, 9.0, 4.0, 7.0, 269.0, 324.0, 354.0, 364.0, 309.0, 305.0, 321.0, 320.0, 335.0, 359.0, 372.0, 328.0, 319.0, 349.0, 296.0, 308.0, 392.0, 357.0, 355.0, 329.0, 647.0, 553.0, 564.0, 588.0, 581.0, 540.0, 562.0, 512.0, 503.0, 529.0, 434.0, 408.0, 447.0, 414.0, 435.0, 440.0, 446.0, 388.0, 422.0, 267.0, 384.0, 236.0, 256.0, 383.0, 458.0, 514.0, 417.0, 441.0, 372.0, 393.0, 358.0, 487.0, 587.0, 580.0, 482.0, 1652.0, 2514.0, 2939.0, 3157.0, 3394.0, 3189.0, 3372.0, 3478.0, 3508.0, 3399.0, 3247.0, 3264.0, 3457.0, 3429.0, 3158.0, 3180.0, 3539.0, 3873.0, 3911.0, 3604.0, 4269.0, 5668.0, 5252.0, 4590.0, 4382.0, 4467.0, 4015.0, 58.0, 80.0, 26.0, 55.0, 52.0, 72.0, 69.0, 77.0, 67.0, 72.0, 112.0, 119.0, 147.0, 131.0, 136.0, 127.0, 133.0, 131.0, 128.0, 121.79381443298969, 322.2061855670102, 1471.0, 1348.0, 1131.0, 1197.0, 1180.0, 1112.0, 1155.0, 1219.0, 1197.0, 1126.0, 1170.0, 1242.0, 1141.0, 1112.0, 1154.0, 1230.0, 1148.0, 1182.0, 1135.0, 1117.1813471502592, 848.5803108808292, 579.979274611399, 1419.0, 1380.0, 1338.0, 1446.0, 1269.0, 1284.0, 1299.0, 1309.0, 1360.0, 1314.0, 1105.0, 1006.0, 1034.0, 1038.0, 1071.0, 1032.0, 1073.0, 271.0, 232.0, 199.0, 177.0, 163.0, 141.0, 169.0, 172.0, 187.0, 236.0, 3408.0, 2982.0, 3753.0, 4245.0, 5182.0, 4902.0, 4484.0, 4296.0, 3937.0, 3608.0, 3754.0, 3778.0, 3787.0, 3761.0, 3873.0, 3985.0, 3961.0, 3952.0, 4205.0, 4131.0, 22.0, 10.0, 1050.0, 1524.0, 1148.0, 1450.0, 1810.0, 1617.0, 1532.0, 11339.0, 10645.0, 14541.0, 14467.0, 13131.0, 12536.0, 12313.0, 11256.0, 10621.0, 10013.0, 10032.0, 9454.0, 9715.0, 9089.0, 8973.0, 9058.0, 7968.0, 7574.0, 4917.0, 5105.0, 4643.0, 4315.0, 4290.0, 4128.0, 4117.0, 3979.0, 4183.0, 4047.0, 4122.0, 3897.0, 4259.0, 4246.0, 4188.0, 4393.0, 4444.0, 4824.0, 4788.0, 4910.0, 7644.0, 274.0, 287.0, 315.0, 427.0, 555.0, 499.0, 675.0, 535.0, 520.0, 498.0, 528.0, 576.0, 523.0, 511.0, 547.0, 599.0, 546.0, 591.0, 630.0, 764.0], \"yaxis\": \"y\"}],                        {\"coloraxis\": {\"colorbar\": {\"title\": {\"text\": \"quartile\"}}, \"colorscale\": [[0.0, \"#0d0887\"], [0.1111111111111111, \"#46039f\"], [0.2222222222222222, \"#7201a8\"], [0.3333333333333333, \"#9c179e\"], [0.4444444444444444, \"#bd3786\"], [0.5555555555555556, \"#d8576b\"], [0.6666666666666666, \"#ed7953\"], [0.7777777777777778, \"#fb9f3a\"], [0.8888888888888888, \"#fdca26\"], [1.0, \"#f0f921\"]]}, \"legend\": {\"tracegroupgap\": 0}, \"margin\": {\"t\": 60}, \"template\": {\"data\": {\"bar\": [{\"error_x\": {\"color\": \"#2a3f5f\"}, \"error_y\": {\"color\": \"#2a3f5f\"}, \"marker\": {\"line\": {\"color\": \"#E5ECF6\", \"width\": 0.5}}, \"type\": \"bar\"}], \"barpolar\": [{\"marker\": {\"line\": {\"color\": \"#E5ECF6\", \"width\": 0.5}}, \"type\": \"barpolar\"}], \"carpet\": [{\"aaxis\": {\"endlinecolor\": \"#2a3f5f\", \"gridcolor\": \"white\", \"linecolor\": \"white\", \"minorgridcolor\": \"white\", \"startlinecolor\": \"#2a3f5f\"}, \"baxis\": {\"endlinecolor\": \"#2a3f5f\", \"gridcolor\": \"white\", \"linecolor\": \"white\", \"minorgridcolor\": \"white\", \"startlinecolor\": \"#2a3f5f\"}, \"type\": \"carpet\"}], \"choropleth\": [{\"colorbar\": {\"outlinewidth\": 0, \"ticks\": \"\"}, \"type\": \"choropleth\"}], \"contour\": [{\"colorbar\": {\"outlinewidth\": 0, \"ticks\": \"\"}, \"colorscale\": [[0.0, \"#0d0887\"], [0.1111111111111111, \"#46039f\"], [0.2222222222222222, \"#7201a8\"], [0.3333333333333333, \"#9c179e\"], [0.4444444444444444, \"#bd3786\"], [0.5555555555555556, \"#d8576b\"], [0.6666666666666666, \"#ed7953\"], [0.7777777777777778, \"#fb9f3a\"], [0.8888888888888888, \"#fdca26\"], [1.0, \"#f0f921\"]], \"type\": \"contour\"}], \"contourcarpet\": [{\"colorbar\": {\"outlinewidth\": 0, \"ticks\": \"\"}, \"type\": \"contourcarpet\"}], \"heatmap\": [{\"colorbar\": {\"outlinewidth\": 0, \"ticks\": \"\"}, \"colorscale\": [[0.0, \"#0d0887\"], [0.1111111111111111, \"#46039f\"], [0.2222222222222222, \"#7201a8\"], [0.3333333333333333, \"#9c179e\"], [0.4444444444444444, \"#bd3786\"], [0.5555555555555556, \"#d8576b\"], [0.6666666666666666, \"#ed7953\"], [0.7777777777777778, \"#fb9f3a\"], [0.8888888888888888, \"#fdca26\"], [1.0, \"#f0f921\"]], \"type\": \"heatmap\"}], \"heatmapgl\": [{\"colorbar\": {\"outlinewidth\": 0, \"ticks\": \"\"}, \"colorscale\": [[0.0, \"#0d0887\"], [0.1111111111111111, \"#46039f\"], [0.2222222222222222, \"#7201a8\"], [0.3333333333333333, \"#9c179e\"], [0.4444444444444444, \"#bd3786\"], [0.5555555555555556, \"#d8576b\"], [0.6666666666666666, \"#ed7953\"], [0.7777777777777778, \"#fb9f3a\"], [0.8888888888888888, \"#fdca26\"], [1.0, \"#f0f921\"]], \"type\": \"heatmapgl\"}], \"histogram\": [{\"marker\": {\"colorbar\": {\"outlinewidth\": 0, \"ticks\": \"\"}}, \"type\": \"histogram\"}], \"histogram2d\": [{\"colorbar\": {\"outlinewidth\": 0, \"ticks\": \"\"}, \"colorscale\": [[0.0, \"#0d0887\"], [0.1111111111111111, \"#46039f\"], [0.2222222222222222, \"#7201a8\"], [0.3333333333333333, \"#9c179e\"], [0.4444444444444444, \"#bd3786\"], [0.5555555555555556, \"#d8576b\"], [0.6666666666666666, \"#ed7953\"], [0.7777777777777778, \"#fb9f3a\"], [0.8888888888888888, \"#fdca26\"], [1.0, \"#f0f921\"]], \"type\": \"histogram2d\"}], \"histogram2dcontour\": [{\"colorbar\": {\"outlinewidth\": 0, \"ticks\": \"\"}, \"colorscale\": [[0.0, \"#0d0887\"], [0.1111111111111111, \"#46039f\"], [0.2222222222222222, \"#7201a8\"], [0.3333333333333333, \"#9c179e\"], [0.4444444444444444, \"#bd3786\"], [0.5555555555555556, \"#d8576b\"], [0.6666666666666666, \"#ed7953\"], [0.7777777777777778, \"#fb9f3a\"], [0.8888888888888888, \"#fdca26\"], [1.0, \"#f0f921\"]], \"type\": \"histogram2dcontour\"}], \"mesh3d\": [{\"colorbar\": {\"outlinewidth\": 0, \"ticks\": \"\"}, \"type\": \"mesh3d\"}], \"parcoords\": [{\"line\": {\"colorbar\": {\"outlinewidth\": 0, \"ticks\": \"\"}}, \"type\": \"parcoords\"}], \"pie\": [{\"automargin\": true, \"type\": \"pie\"}], \"scatter\": [{\"marker\": {\"colorbar\": {\"outlinewidth\": 0, \"ticks\": \"\"}}, \"type\": \"scatter\"}], \"scatter3d\": [{\"line\": {\"colorbar\": {\"outlinewidth\": 0, \"ticks\": \"\"}}, \"marker\": {\"colorbar\": {\"outlinewidth\": 0, \"ticks\": \"\"}}, \"type\": \"scatter3d\"}], \"scattercarpet\": [{\"marker\": {\"colorbar\": {\"outlinewidth\": 0, \"ticks\": \"\"}}, \"type\": \"scattercarpet\"}], \"scattergeo\": [{\"marker\": {\"colorbar\": {\"outlinewidth\": 0, \"ticks\": \"\"}}, \"type\": \"scattergeo\"}], \"scattergl\": [{\"marker\": {\"colorbar\": {\"outlinewidth\": 0, \"ticks\": \"\"}}, \"type\": \"scattergl\"}], \"scattermapbox\": [{\"marker\": {\"colorbar\": {\"outlinewidth\": 0, \"ticks\": \"\"}}, \"type\": \"scattermapbox\"}], \"scatterpolar\": [{\"marker\": {\"colorbar\": {\"outlinewidth\": 0, \"ticks\": \"\"}}, \"type\": \"scatterpolar\"}], \"scatterpolargl\": [{\"marker\": {\"colorbar\": {\"outlinewidth\": 0, \"ticks\": \"\"}}, \"type\": \"scatterpolargl\"}], \"scatterternary\": [{\"marker\": {\"colorbar\": {\"outlinewidth\": 0, \"ticks\": \"\"}}, \"type\": \"scatterternary\"}], \"surface\": [{\"colorbar\": {\"outlinewidth\": 0, \"ticks\": \"\"}, \"colorscale\": [[0.0, \"#0d0887\"], [0.1111111111111111, \"#46039f\"], [0.2222222222222222, \"#7201a8\"], [0.3333333333333333, \"#9c179e\"], [0.4444444444444444, \"#bd3786\"], [0.5555555555555556, \"#d8576b\"], [0.6666666666666666, \"#ed7953\"], [0.7777777777777778, \"#fb9f3a\"], [0.8888888888888888, \"#fdca26\"], [1.0, \"#f0f921\"]], \"type\": \"surface\"}], \"table\": [{\"cells\": {\"fill\": {\"color\": \"#EBF0F8\"}, \"line\": {\"color\": \"white\"}}, \"header\": {\"fill\": {\"color\": \"#C8D4E3\"}, \"line\": {\"color\": \"white\"}}, \"type\": \"table\"}]}, \"layout\": {\"annotationdefaults\": {\"arrowcolor\": \"#2a3f5f\", \"arrowhead\": 0, \"arrowwidth\": 1}, \"autotypenumbers\": \"strict\", \"coloraxis\": {\"colorbar\": {\"outlinewidth\": 0, \"ticks\": \"\"}}, \"colorscale\": {\"diverging\": [[0, \"#8e0152\"], [0.1, \"#c51b7d\"], [0.2, \"#de77ae\"], [0.3, \"#f1b6da\"], [0.4, \"#fde0ef\"], [0.5, \"#f7f7f7\"], [0.6, \"#e6f5d0\"], [0.7, \"#b8e186\"], [0.8, \"#7fbc41\"], [0.9, \"#4d9221\"], [1, \"#276419\"]], \"sequential\": [[0.0, \"#0d0887\"], [0.1111111111111111, \"#46039f\"], [0.2222222222222222, \"#7201a8\"], [0.3333333333333333, \"#9c179e\"], [0.4444444444444444, \"#bd3786\"], [0.5555555555555556, \"#d8576b\"], [0.6666666666666666, \"#ed7953\"], [0.7777777777777778, \"#fb9f3a\"], [0.8888888888888888, \"#fdca26\"], [1.0, \"#f0f921\"]], \"sequentialminus\": [[0.0, \"#0d0887\"], [0.1111111111111111, \"#46039f\"], [0.2222222222222222, \"#7201a8\"], [0.3333333333333333, \"#9c179e\"], [0.4444444444444444, \"#bd3786\"], [0.5555555555555556, \"#d8576b\"], [0.6666666666666666, \"#ed7953\"], [0.7777777777777778, \"#fb9f3a\"], [0.8888888888888888, \"#fdca26\"], [1.0, \"#f0f921\"]]}, \"colorway\": [\"#636efa\", \"#EF553B\", \"#00cc96\", \"#ab63fa\", \"#FFA15A\", \"#19d3f3\", \"#FF6692\", \"#B6E880\", \"#FF97FF\", \"#FECB52\"], \"font\": {\"color\": \"#2a3f5f\"}, \"geo\": {\"bgcolor\": \"white\", \"lakecolor\": \"white\", \"landcolor\": \"#E5ECF6\", \"showlakes\": true, \"showland\": true, \"subunitcolor\": \"white\"}, \"hoverlabel\": {\"align\": \"left\"}, \"hovermode\": \"closest\", \"mapbox\": {\"style\": \"light\"}, \"paper_bgcolor\": \"white\", \"plot_bgcolor\": \"#E5ECF6\", \"polar\": {\"angularaxis\": {\"gridcolor\": \"white\", \"linecolor\": \"white\", \"ticks\": \"\"}, \"bgcolor\": \"#E5ECF6\", \"radialaxis\": {\"gridcolor\": \"white\", \"linecolor\": \"white\", \"ticks\": \"\"}}, \"scene\": {\"xaxis\": {\"backgroundcolor\": \"#E5ECF6\", \"gridcolor\": \"white\", \"gridwidth\": 2, \"linecolor\": \"white\", \"showbackground\": true, \"ticks\": \"\", \"zerolinecolor\": \"white\"}, \"yaxis\": {\"backgroundcolor\": \"#E5ECF6\", \"gridcolor\": \"white\", \"gridwidth\": 2, \"linecolor\": \"white\", \"showbackground\": true, \"ticks\": \"\", \"zerolinecolor\": \"white\"}, \"zaxis\": {\"backgroundcolor\": \"#E5ECF6\", \"gridcolor\": \"white\", \"gridwidth\": 2, \"linecolor\": \"white\", \"showbackground\": true, \"ticks\": \"\", \"zerolinecolor\": \"white\"}}, \"shapedefaults\": {\"line\": {\"color\": \"#2a3f5f\"}}, \"ternary\": {\"aaxis\": {\"gridcolor\": \"white\", \"linecolor\": \"white\", \"ticks\": \"\"}, \"baxis\": {\"gridcolor\": \"white\", \"linecolor\": \"white\", \"ticks\": \"\"}, \"bgcolor\": \"#E5ECF6\", \"caxis\": {\"gridcolor\": \"white\", \"linecolor\": \"white\", \"ticks\": \"\"}}, \"title\": {\"x\": 0.05}, \"xaxis\": {\"automargin\": true, \"gridcolor\": \"white\", \"linecolor\": \"white\", \"ticks\": \"\", \"title\": {\"standoff\": 15}, \"zerolinecolor\": \"white\", \"zerolinewidth\": 2}, \"yaxis\": {\"automargin\": true, \"gridcolor\": \"white\", \"linecolor\": \"white\", \"ticks\": \"\", \"title\": {\"standoff\": 15}, \"zerolinecolor\": \"white\", \"zerolinewidth\": 2}}}, \"xaxis\": {\"anchor\": \"y\", \"domain\": [0.0, 1.0], \"title\": {\"text\": \"economic_freedom\"}}, \"yaxis\": {\"anchor\": \"x\", \"domain\": [0.0, 1.0], \"title\": {\"text\": \"suicides_no\"}}},                        {\"responsive\": true}                    ).then(function(){\n",
       "                            \n",
       "var gd = document.getElementById('87ca1ccb-d26b-426c-b2e9-87143d0963ef');\n",
       "var x = new MutationObserver(function (mutations, observer) {{\n",
       "        var display = window.getComputedStyle(gd).display;\n",
       "        if (!display || display === 'none') {{\n",
       "            console.log([gd, 'removed!']);\n",
       "            Plotly.purge(gd);\n",
       "            observer.disconnect();\n",
       "        }}\n",
       "}});\n",
       "\n",
       "// Listen for the removal of the full notebook cells\n",
       "var notebookContainer = gd.closest('#notebook-container');\n",
       "if (notebookContainer) {{\n",
       "    x.observe(notebookContainer, {childList: true});\n",
       "}}\n",
       "\n",
       "// Listen for the clearing of the current output cell\n",
       "var outputEl = gd.closest('.output');\n",
       "if (outputEl) {{\n",
       "    x.observe(outputEl, {childList: true});\n",
       "}}\n",
       "\n",
       "                        })                };                });            </script>        </div>"
      ]
     },
     "metadata": {},
     "output_type": "display_data"
    }
   ],
   "source": [
    "fig = px.scatter(data, x='economic_freedom', y=\"suicides_no\", color=\"quartile\", hover_data=['country','year'])\n",
    "fig.show()\n"
   ]
  },
  {
   "cell_type": "markdown",
   "metadata": {},
   "source": [
    "## Column 2"
   ]
  },
  {
   "cell_type": "markdown",
   "metadata": {},
   "source": [
    "### Suicidios por el paso del tiempo "
   ]
  },
  {
   "cell_type": "code",
   "execution_count": 11,
   "metadata": {
    "tags": [
     "body"
    ]
   },
   "outputs": [
    {
     "data": {
      "application/vnd.plotly.v1+json": {
       "config": {
        "plotlyServerURL": "https://plot.ly"
       },
       "data": [
        {
         "hovertemplate": "country=Brazil<br>year=%{x}<br>suicides_no=%{y}<extra></extra>",
         "legendgroup": "Brazil",
         "line": {
          "color": "#636efa",
          "dash": "solid"
         },
         "mode": "lines",
         "name": "Brazil",
         "orientation": "v",
         "showlegend": true,
         "type": "scatter",
         "x": [
          1980,
          1985,
          1990,
          1995,
          2000,
          2001,
          2002,
          2003,
          2004,
          2005,
          2006,
          2007,
          2008,
          2009,
          2010,
          2011,
          2012,
          2013,
          2014,
          2015
         ],
         "xaxis": "x",
         "y": [
          3864,
          4228,
          4803,
          6536,
          6763,
          7710,
          7697,
          7839,
          7995,
          8529,
          8618,
          8855,
          9184,
          9346,
          9429,
          9822,
          10295,
          10513,
          10631,
          11163
         ],
         "yaxis": "y"
        },
        {
         "hovertemplate": "country=Germany<br>year=%{x}<br>suicides_no=%{y}<extra></extra>",
         "legendgroup": "Germany",
         "line": {
          "color": "#EF553B",
          "dash": "solid"
         },
         "mode": "lines",
         "name": "Germany",
         "orientation": "v",
         "showlegend": true,
         "type": "scatter",
         "x": [
          1990,
          1995,
          2000,
          2001,
          2002,
          2003,
          2004,
          2005,
          2006,
          2007,
          2008,
          2009,
          2010,
          2011,
          2012,
          2013,
          2014,
          2015
         ],
         "xaxis": "x",
         "y": [
          13924,
          12888,
          11073,
          11167,
          11176,
          11155,
          10741,
          10270,
          9775,
          9409,
          9459,
          9579,
          10030,
          10153,
          9896,
          10091,
          10217,
          10088
         ],
         "yaxis": "y"
        },
        {
         "hovertemplate": "country=Italy<br>year=%{x}<br>suicides_no=%{y}<extra></extra>",
         "legendgroup": "Italy",
         "line": {
          "color": "#00cc96",
          "dash": "solid"
         },
         "mode": "lines",
         "name": "Italy",
         "orientation": "v",
         "showlegend": true,
         "type": "scatter",
         "x": [
          1980,
          1985,
          1990,
          1995,
          2000,
          2001,
          2002,
          2003,
          2004,
          2005,
          2006,
          2007,
          2008,
          2009,
          2010,
          2011,
          2012,
          2013,
          2014,
          2015
         ],
         "xaxis": "x",
         "y": [
          4155,
          4759,
          4402,
          4569,
          4108,
          4030,
          4069,
          4075,
          3986,
          3742,
          3700,
          3757,
          3904,
          3974,
          3989,
          4153,
          4257,
          4290,
          4147,
          3988
         ],
         "yaxis": "y"
        },
        {
         "hovertemplate": "country=Japan<br>year=%{x}<br>suicides_no=%{y}<extra></extra>",
         "legendgroup": "Japan",
         "line": {
          "color": "#ab63fa",
          "dash": "solid"
         },
         "mode": "lines",
         "name": "Japan",
         "orientation": "v",
         "showlegend": true,
         "type": "scatter",
         "x": [
          1980,
          1985,
          1990,
          1995,
          2000,
          2001,
          2002,
          2003,
          2004,
          2005,
          2006,
          2007,
          2008,
          2009,
          2010,
          2011,
          2012,
          2013,
          2014,
          2015
         ],
         "xaxis": "x",
         "y": [
          20416,
          23257,
          20002,
          21249,
          29989,
          29132,
          29715,
          31881,
          30034,
          30369,
          29769,
          30665,
          30073,
          30523,
          29411,
          28766,
          26338,
          25991,
          24357,
          23092
         ],
         "yaxis": "y"
        },
        {
         "hovertemplate": "country=Mexico<br>year=%{x}<br>suicides_no=%{y}<extra></extra>",
         "legendgroup": "Mexico",
         "line": {
          "color": "#FFA15A",
          "dash": "solid"
         },
         "mode": "lines",
         "name": "Mexico",
         "orientation": "v",
         "showlegend": true,
         "type": "scatter",
         "x": [
          1980,
          1985,
          1990,
          1995,
          2000,
          2001,
          2002,
          2003,
          2004,
          2005,
          2006,
          2007,
          2008,
          2009,
          2010,
          2011,
          2012,
          2013,
          2014,
          2015
         ],
         "xaxis": "x",
         "y": [
          961,
          1544,
          1926,
          2877,
          3456,
          3760,
          3826,
          4070,
          4056,
          4274,
          4230,
          4285,
          4642,
          5023,
          4858,
          5558,
          5381,
          5711,
          6178,
          6234
         ],
         "yaxis": "y"
        },
        {
         "hovertemplate": "country=Poland<br>year=%{x}<br>suicides_no=%{y}<extra></extra>",
         "legendgroup": "Poland",
         "line": {
          "color": "#19d3f3",
          "dash": "solid"
         },
         "mode": "lines",
         "name": "Poland",
         "orientation": "v",
         "showlegend": true,
         "type": "scatter",
         "x": [
          1980,
          1985,
          1990,
          1995,
          2000,
          2001,
          2002,
          2003,
          2004,
          2005,
          2006,
          2007,
          2008,
          2009,
          2010,
          2011,
          2012,
          2013,
          2014,
          2015
         ],
         "xaxis": "x",
         "y": [
          1159.2328767123288,
          4945,
          4970,
          5499,
          5841,
          5855,
          5925,
          5836,
          6072,
          6045,
          5805,
          5284,
          5682,
          6477,
          6357,
          6113,
          6368,
          6218,
          5934,
          5420
         ],
         "yaxis": "y"
        },
        {
         "hovertemplate": "country=Spain<br>year=%{x}<br>suicides_no=%{y}<extra></extra>",
         "legendgroup": "Spain",
         "line": {
          "color": "#FF6692",
          "dash": "solid"
         },
         "mode": "lines",
         "name": "Spain",
         "orientation": "v",
         "showlegend": true,
         "type": "scatter",
         "x": [
          1980,
          1985,
          1990,
          1995,
          2000,
          2001,
          2002,
          2003,
          2004,
          2005,
          2006,
          2007,
          2008,
          2009,
          2010,
          2011,
          2012,
          2013,
          2014,
          2015
         ],
         "xaxis": "x",
         "y": [
          1652,
          2514,
          2939,
          3157,
          3394,
          3189,
          3372,
          3478,
          3508,
          3399,
          3247,
          3264,
          3457,
          3429,
          3158,
          3180,
          3539,
          3873,
          3911,
          3604
         ],
         "yaxis": "y"
        },
        {
         "hovertemplate": "country=Thailand<br>year=%{x}<br>suicides_no=%{y}<extra></extra>",
         "legendgroup": "Thailand",
         "line": {
          "color": "#B6E880",
          "dash": "solid"
         },
         "mode": "lines",
         "name": "Thailand",
         "orientation": "v",
         "showlegend": true,
         "type": "scatter",
         "x": [
          1980,
          1985,
          1990,
          1995,
          2000,
          2002,
          2003,
          2004,
          2005,
          2006,
          2007,
          2008,
          2009,
          2010,
          2011,
          2012,
          2013,
          2014,
          2015,
          2016
         ],
         "xaxis": "x",
         "y": [
          3408,
          2982,
          3753,
          4245,
          5182,
          4902,
          4484,
          4296,
          3937,
          3608,
          3754,
          3778,
          3787,
          3761,
          3873,
          3985,
          3961,
          3952,
          4205,
          4131
         ],
         "yaxis": "y"
        },
        {
         "hovertemplate": "country=Ukraine<br>year=%{x}<br>suicides_no=%{y}<extra></extra>",
         "legendgroup": "Ukraine",
         "line": {
          "color": "#FF97FF",
          "dash": "solid"
         },
         "mode": "lines",
         "name": "Ukraine",
         "orientation": "v",
         "showlegend": true,
         "type": "scatter",
         "x": [
          1985,
          1990,
          1995,
          2000,
          2001,
          2002,
          2003,
          2004,
          2005,
          2006,
          2007,
          2008,
          2009,
          2010,
          2011,
          2012,
          2014,
          2015
         ],
         "xaxis": "x",
         "y": [
          11339,
          10645,
          14541,
          14467,
          13131,
          12536,
          12313,
          11256,
          10621,
          10013,
          10032,
          9454,
          9715,
          9089,
          8973,
          9058,
          7968,
          7574
         ],
         "yaxis": "y"
        },
        {
         "hovertemplate": "country=United Kingdom<br>year=%{x}<br>suicides_no=%{y}<extra></extra>",
         "legendgroup": "United Kingdom",
         "line": {
          "color": "#FECB52",
          "dash": "solid"
         },
         "mode": "lines",
         "name": "United Kingdom",
         "orientation": "v",
         "showlegend": true,
         "type": "scatter",
         "x": [
          1980,
          1985,
          1990,
          1995,
          2000,
          2001,
          2002,
          2003,
          2004,
          2005,
          2006,
          2007,
          2008,
          2009,
          2010,
          2011,
          2012,
          2013,
          2014,
          2015,
          2016
         ],
         "xaxis": "x",
         "y": [
          4917,
          5105,
          4643,
          4315,
          4290,
          4128,
          4117,
          3979,
          4183,
          4047,
          4122,
          3897,
          4259,
          4246,
          4188,
          4393,
          4444,
          4824,
          4788,
          4910,
          7644
         ],
         "yaxis": "y"
        }
       ],
       "layout": {
        "legend": {
         "title": {
          "text": "country"
         },
         "tracegroupgap": 0
        },
        "margin": {
         "t": 60
        },
        "template": {
         "data": {
          "bar": [
           {
            "error_x": {
             "color": "#2a3f5f"
            },
            "error_y": {
             "color": "#2a3f5f"
            },
            "marker": {
             "line": {
              "color": "#E5ECF6",
              "width": 0.5
             }
            },
            "type": "bar"
           }
          ],
          "barpolar": [
           {
            "marker": {
             "line": {
              "color": "#E5ECF6",
              "width": 0.5
             }
            },
            "type": "barpolar"
           }
          ],
          "carpet": [
           {
            "aaxis": {
             "endlinecolor": "#2a3f5f",
             "gridcolor": "white",
             "linecolor": "white",
             "minorgridcolor": "white",
             "startlinecolor": "#2a3f5f"
            },
            "baxis": {
             "endlinecolor": "#2a3f5f",
             "gridcolor": "white",
             "linecolor": "white",
             "minorgridcolor": "white",
             "startlinecolor": "#2a3f5f"
            },
            "type": "carpet"
           }
          ],
          "choropleth": [
           {
            "colorbar": {
             "outlinewidth": 0,
             "ticks": ""
            },
            "type": "choropleth"
           }
          ],
          "contour": [
           {
            "colorbar": {
             "outlinewidth": 0,
             "ticks": ""
            },
            "colorscale": [
             [
              0,
              "#0d0887"
             ],
             [
              0.1111111111111111,
              "#46039f"
             ],
             [
              0.2222222222222222,
              "#7201a8"
             ],
             [
              0.3333333333333333,
              "#9c179e"
             ],
             [
              0.4444444444444444,
              "#bd3786"
             ],
             [
              0.5555555555555556,
              "#d8576b"
             ],
             [
              0.6666666666666666,
              "#ed7953"
             ],
             [
              0.7777777777777778,
              "#fb9f3a"
             ],
             [
              0.8888888888888888,
              "#fdca26"
             ],
             [
              1,
              "#f0f921"
             ]
            ],
            "type": "contour"
           }
          ],
          "contourcarpet": [
           {
            "colorbar": {
             "outlinewidth": 0,
             "ticks": ""
            },
            "type": "contourcarpet"
           }
          ],
          "heatmap": [
           {
            "colorbar": {
             "outlinewidth": 0,
             "ticks": ""
            },
            "colorscale": [
             [
              0,
              "#0d0887"
             ],
             [
              0.1111111111111111,
              "#46039f"
             ],
             [
              0.2222222222222222,
              "#7201a8"
             ],
             [
              0.3333333333333333,
              "#9c179e"
             ],
             [
              0.4444444444444444,
              "#bd3786"
             ],
             [
              0.5555555555555556,
              "#d8576b"
             ],
             [
              0.6666666666666666,
              "#ed7953"
             ],
             [
              0.7777777777777778,
              "#fb9f3a"
             ],
             [
              0.8888888888888888,
              "#fdca26"
             ],
             [
              1,
              "#f0f921"
             ]
            ],
            "type": "heatmap"
           }
          ],
          "heatmapgl": [
           {
            "colorbar": {
             "outlinewidth": 0,
             "ticks": ""
            },
            "colorscale": [
             [
              0,
              "#0d0887"
             ],
             [
              0.1111111111111111,
              "#46039f"
             ],
             [
              0.2222222222222222,
              "#7201a8"
             ],
             [
              0.3333333333333333,
              "#9c179e"
             ],
             [
              0.4444444444444444,
              "#bd3786"
             ],
             [
              0.5555555555555556,
              "#d8576b"
             ],
             [
              0.6666666666666666,
              "#ed7953"
             ],
             [
              0.7777777777777778,
              "#fb9f3a"
             ],
             [
              0.8888888888888888,
              "#fdca26"
             ],
             [
              1,
              "#f0f921"
             ]
            ],
            "type": "heatmapgl"
           }
          ],
          "histogram": [
           {
            "marker": {
             "colorbar": {
              "outlinewidth": 0,
              "ticks": ""
             }
            },
            "type": "histogram"
           }
          ],
          "histogram2d": [
           {
            "colorbar": {
             "outlinewidth": 0,
             "ticks": ""
            },
            "colorscale": [
             [
              0,
              "#0d0887"
             ],
             [
              0.1111111111111111,
              "#46039f"
             ],
             [
              0.2222222222222222,
              "#7201a8"
             ],
             [
              0.3333333333333333,
              "#9c179e"
             ],
             [
              0.4444444444444444,
              "#bd3786"
             ],
             [
              0.5555555555555556,
              "#d8576b"
             ],
             [
              0.6666666666666666,
              "#ed7953"
             ],
             [
              0.7777777777777778,
              "#fb9f3a"
             ],
             [
              0.8888888888888888,
              "#fdca26"
             ],
             [
              1,
              "#f0f921"
             ]
            ],
            "type": "histogram2d"
           }
          ],
          "histogram2dcontour": [
           {
            "colorbar": {
             "outlinewidth": 0,
             "ticks": ""
            },
            "colorscale": [
             [
              0,
              "#0d0887"
             ],
             [
              0.1111111111111111,
              "#46039f"
             ],
             [
              0.2222222222222222,
              "#7201a8"
             ],
             [
              0.3333333333333333,
              "#9c179e"
             ],
             [
              0.4444444444444444,
              "#bd3786"
             ],
             [
              0.5555555555555556,
              "#d8576b"
             ],
             [
              0.6666666666666666,
              "#ed7953"
             ],
             [
              0.7777777777777778,
              "#fb9f3a"
             ],
             [
              0.8888888888888888,
              "#fdca26"
             ],
             [
              1,
              "#f0f921"
             ]
            ],
            "type": "histogram2dcontour"
           }
          ],
          "mesh3d": [
           {
            "colorbar": {
             "outlinewidth": 0,
             "ticks": ""
            },
            "type": "mesh3d"
           }
          ],
          "parcoords": [
           {
            "line": {
             "colorbar": {
              "outlinewidth": 0,
              "ticks": ""
             }
            },
            "type": "parcoords"
           }
          ],
          "pie": [
           {
            "automargin": true,
            "type": "pie"
           }
          ],
          "scatter": [
           {
            "marker": {
             "colorbar": {
              "outlinewidth": 0,
              "ticks": ""
             }
            },
            "type": "scatter"
           }
          ],
          "scatter3d": [
           {
            "line": {
             "colorbar": {
              "outlinewidth": 0,
              "ticks": ""
             }
            },
            "marker": {
             "colorbar": {
              "outlinewidth": 0,
              "ticks": ""
             }
            },
            "type": "scatter3d"
           }
          ],
          "scattercarpet": [
           {
            "marker": {
             "colorbar": {
              "outlinewidth": 0,
              "ticks": ""
             }
            },
            "type": "scattercarpet"
           }
          ],
          "scattergeo": [
           {
            "marker": {
             "colorbar": {
              "outlinewidth": 0,
              "ticks": ""
             }
            },
            "type": "scattergeo"
           }
          ],
          "scattergl": [
           {
            "marker": {
             "colorbar": {
              "outlinewidth": 0,
              "ticks": ""
             }
            },
            "type": "scattergl"
           }
          ],
          "scattermapbox": [
           {
            "marker": {
             "colorbar": {
              "outlinewidth": 0,
              "ticks": ""
             }
            },
            "type": "scattermapbox"
           }
          ],
          "scatterpolar": [
           {
            "marker": {
             "colorbar": {
              "outlinewidth": 0,
              "ticks": ""
             }
            },
            "type": "scatterpolar"
           }
          ],
          "scatterpolargl": [
           {
            "marker": {
             "colorbar": {
              "outlinewidth": 0,
              "ticks": ""
             }
            },
            "type": "scatterpolargl"
           }
          ],
          "scatterternary": [
           {
            "marker": {
             "colorbar": {
              "outlinewidth": 0,
              "ticks": ""
             }
            },
            "type": "scatterternary"
           }
          ],
          "surface": [
           {
            "colorbar": {
             "outlinewidth": 0,
             "ticks": ""
            },
            "colorscale": [
             [
              0,
              "#0d0887"
             ],
             [
              0.1111111111111111,
              "#46039f"
             ],
             [
              0.2222222222222222,
              "#7201a8"
             ],
             [
              0.3333333333333333,
              "#9c179e"
             ],
             [
              0.4444444444444444,
              "#bd3786"
             ],
             [
              0.5555555555555556,
              "#d8576b"
             ],
             [
              0.6666666666666666,
              "#ed7953"
             ],
             [
              0.7777777777777778,
              "#fb9f3a"
             ],
             [
              0.8888888888888888,
              "#fdca26"
             ],
             [
              1,
              "#f0f921"
             ]
            ],
            "type": "surface"
           }
          ],
          "table": [
           {
            "cells": {
             "fill": {
              "color": "#EBF0F8"
             },
             "line": {
              "color": "white"
             }
            },
            "header": {
             "fill": {
              "color": "#C8D4E3"
             },
             "line": {
              "color": "white"
             }
            },
            "type": "table"
           }
          ]
         },
         "layout": {
          "annotationdefaults": {
           "arrowcolor": "#2a3f5f",
           "arrowhead": 0,
           "arrowwidth": 1
          },
          "autotypenumbers": "strict",
          "coloraxis": {
           "colorbar": {
            "outlinewidth": 0,
            "ticks": ""
           }
          },
          "colorscale": {
           "diverging": [
            [
             0,
             "#8e0152"
            ],
            [
             0.1,
             "#c51b7d"
            ],
            [
             0.2,
             "#de77ae"
            ],
            [
             0.3,
             "#f1b6da"
            ],
            [
             0.4,
             "#fde0ef"
            ],
            [
             0.5,
             "#f7f7f7"
            ],
            [
             0.6,
             "#e6f5d0"
            ],
            [
             0.7,
             "#b8e186"
            ],
            [
             0.8,
             "#7fbc41"
            ],
            [
             0.9,
             "#4d9221"
            ],
            [
             1,
             "#276419"
            ]
           ],
           "sequential": [
            [
             0,
             "#0d0887"
            ],
            [
             0.1111111111111111,
             "#46039f"
            ],
            [
             0.2222222222222222,
             "#7201a8"
            ],
            [
             0.3333333333333333,
             "#9c179e"
            ],
            [
             0.4444444444444444,
             "#bd3786"
            ],
            [
             0.5555555555555556,
             "#d8576b"
            ],
            [
             0.6666666666666666,
             "#ed7953"
            ],
            [
             0.7777777777777778,
             "#fb9f3a"
            ],
            [
             0.8888888888888888,
             "#fdca26"
            ],
            [
             1,
             "#f0f921"
            ]
           ],
           "sequentialminus": [
            [
             0,
             "#0d0887"
            ],
            [
             0.1111111111111111,
             "#46039f"
            ],
            [
             0.2222222222222222,
             "#7201a8"
            ],
            [
             0.3333333333333333,
             "#9c179e"
            ],
            [
             0.4444444444444444,
             "#bd3786"
            ],
            [
             0.5555555555555556,
             "#d8576b"
            ],
            [
             0.6666666666666666,
             "#ed7953"
            ],
            [
             0.7777777777777778,
             "#fb9f3a"
            ],
            [
             0.8888888888888888,
             "#fdca26"
            ],
            [
             1,
             "#f0f921"
            ]
           ]
          },
          "colorway": [
           "#636efa",
           "#EF553B",
           "#00cc96",
           "#ab63fa",
           "#FFA15A",
           "#19d3f3",
           "#FF6692",
           "#B6E880",
           "#FF97FF",
           "#FECB52"
          ],
          "font": {
           "color": "#2a3f5f"
          },
          "geo": {
           "bgcolor": "white",
           "lakecolor": "white",
           "landcolor": "#E5ECF6",
           "showlakes": true,
           "showland": true,
           "subunitcolor": "white"
          },
          "hoverlabel": {
           "align": "left"
          },
          "hovermode": "closest",
          "mapbox": {
           "style": "light"
          },
          "paper_bgcolor": "white",
          "plot_bgcolor": "#E5ECF6",
          "polar": {
           "angularaxis": {
            "gridcolor": "white",
            "linecolor": "white",
            "ticks": ""
           },
           "bgcolor": "#E5ECF6",
           "radialaxis": {
            "gridcolor": "white",
            "linecolor": "white",
            "ticks": ""
           }
          },
          "scene": {
           "xaxis": {
            "backgroundcolor": "#E5ECF6",
            "gridcolor": "white",
            "gridwidth": 2,
            "linecolor": "white",
            "showbackground": true,
            "ticks": "",
            "zerolinecolor": "white"
           },
           "yaxis": {
            "backgroundcolor": "#E5ECF6",
            "gridcolor": "white",
            "gridwidth": 2,
            "linecolor": "white",
            "showbackground": true,
            "ticks": "",
            "zerolinecolor": "white"
           },
           "zaxis": {
            "backgroundcolor": "#E5ECF6",
            "gridcolor": "white",
            "gridwidth": 2,
            "linecolor": "white",
            "showbackground": true,
            "ticks": "",
            "zerolinecolor": "white"
           }
          },
          "shapedefaults": {
           "line": {
            "color": "#2a3f5f"
           }
          },
          "ternary": {
           "aaxis": {
            "gridcolor": "white",
            "linecolor": "white",
            "ticks": ""
           },
           "baxis": {
            "gridcolor": "white",
            "linecolor": "white",
            "ticks": ""
           },
           "bgcolor": "#E5ECF6",
           "caxis": {
            "gridcolor": "white",
            "linecolor": "white",
            "ticks": ""
           }
          },
          "title": {
           "x": 0.05
          },
          "xaxis": {
           "automargin": true,
           "gridcolor": "white",
           "linecolor": "white",
           "ticks": "",
           "title": {
            "standoff": 15
           },
           "zerolinecolor": "white",
           "zerolinewidth": 2
          },
          "yaxis": {
           "automargin": true,
           "gridcolor": "white",
           "linecolor": "white",
           "ticks": "",
           "title": {
            "standoff": 15
           },
           "zerolinecolor": "white",
           "zerolinewidth": 2
          }
         }
        },
        "xaxis": {
         "anchor": "y",
         "domain": [
          0,
          1
         ],
         "range": [
          1990,
          2015
         ],
         "title": {
          "text": "year"
         }
        },
        "yaxis": {
         "anchor": "x",
         "domain": [
          0,
          1
         ],
         "title": {
          "text": "suicides_no"
         }
        }
       }
      },
      "text/html": [
       "<div>                            <div id=\"2a818165-c835-4e5c-af9d-15d77348532d\" class=\"plotly-graph-div\" style=\"height:525px; width:100%;\"></div>            <script type=\"text/javascript\">                require([\"plotly\"], function(Plotly) {                    window.PLOTLYENV=window.PLOTLYENV || {};                                    if (document.getElementById(\"2a818165-c835-4e5c-af9d-15d77348532d\")) {                    Plotly.newPlot(                        \"2a818165-c835-4e5c-af9d-15d77348532d\",                        [{\"hovertemplate\": \"country=Brazil<br>year=%{x}<br>suicides_no=%{y}<extra></extra>\", \"legendgroup\": \"Brazil\", \"line\": {\"color\": \"#636efa\", \"dash\": \"solid\"}, \"mode\": \"lines\", \"name\": \"Brazil\", \"orientation\": \"v\", \"showlegend\": true, \"type\": \"scatter\", \"x\": [1980, 1985, 1990, 1995, 2000, 2001, 2002, 2003, 2004, 2005, 2006, 2007, 2008, 2009, 2010, 2011, 2012, 2013, 2014, 2015], \"xaxis\": \"x\", \"y\": [3864.0, 4228.0, 4803.0, 6536.0, 6763.0, 7710.0, 7697.0, 7839.0, 7995.0, 8529.0, 8618.0, 8855.0, 9184.0, 9346.0, 9429.0, 9822.0, 10295.0, 10513.0, 10631.0, 11163.0], \"yaxis\": \"y\"}, {\"hovertemplate\": \"country=Germany<br>year=%{x}<br>suicides_no=%{y}<extra></extra>\", \"legendgroup\": \"Germany\", \"line\": {\"color\": \"#EF553B\", \"dash\": \"solid\"}, \"mode\": \"lines\", \"name\": \"Germany\", \"orientation\": \"v\", \"showlegend\": true, \"type\": \"scatter\", \"x\": [1990, 1995, 2000, 2001, 2002, 2003, 2004, 2005, 2006, 2007, 2008, 2009, 2010, 2011, 2012, 2013, 2014, 2015], \"xaxis\": \"x\", \"y\": [13924.0, 12888.0, 11073.0, 11167.0, 11176.0, 11155.0, 10741.0, 10270.0, 9775.0, 9409.0, 9459.0, 9579.0, 10030.0, 10153.0, 9896.0, 10091.0, 10217.0, 10088.0], \"yaxis\": \"y\"}, {\"hovertemplate\": \"country=Italy<br>year=%{x}<br>suicides_no=%{y}<extra></extra>\", \"legendgroup\": \"Italy\", \"line\": {\"color\": \"#00cc96\", \"dash\": \"solid\"}, \"mode\": \"lines\", \"name\": \"Italy\", \"orientation\": \"v\", \"showlegend\": true, \"type\": \"scatter\", \"x\": [1980, 1985, 1990, 1995, 2000, 2001, 2002, 2003, 2004, 2005, 2006, 2007, 2008, 2009, 2010, 2011, 2012, 2013, 2014, 2015], \"xaxis\": \"x\", \"y\": [4155.0, 4759.0, 4402.0, 4569.0, 4108.0, 4030.0, 4069.0, 4075.0, 3986.0, 3742.0, 3700.0, 3757.0, 3904.0, 3974.0, 3989.0, 4153.0, 4257.0, 4290.0, 4147.0, 3988.0], \"yaxis\": \"y\"}, {\"hovertemplate\": \"country=Japan<br>year=%{x}<br>suicides_no=%{y}<extra></extra>\", \"legendgroup\": \"Japan\", \"line\": {\"color\": \"#ab63fa\", \"dash\": \"solid\"}, \"mode\": \"lines\", \"name\": \"Japan\", \"orientation\": \"v\", \"showlegend\": true, \"type\": \"scatter\", \"x\": [1980, 1985, 1990, 1995, 2000, 2001, 2002, 2003, 2004, 2005, 2006, 2007, 2008, 2009, 2010, 2011, 2012, 2013, 2014, 2015], \"xaxis\": \"x\", \"y\": [20416.0, 23257.0, 20002.0, 21249.0, 29989.0, 29132.0, 29715.0, 31881.0, 30034.0, 30369.0, 29769.0, 30665.0, 30073.0, 30523.0, 29411.0, 28766.0, 26338.0, 25991.0, 24357.0, 23092.0], \"yaxis\": \"y\"}, {\"hovertemplate\": \"country=Mexico<br>year=%{x}<br>suicides_no=%{y}<extra></extra>\", \"legendgroup\": \"Mexico\", \"line\": {\"color\": \"#FFA15A\", \"dash\": \"solid\"}, \"mode\": \"lines\", \"name\": \"Mexico\", \"orientation\": \"v\", \"showlegend\": true, \"type\": \"scatter\", \"x\": [1980, 1985, 1990, 1995, 2000, 2001, 2002, 2003, 2004, 2005, 2006, 2007, 2008, 2009, 2010, 2011, 2012, 2013, 2014, 2015], \"xaxis\": \"x\", \"y\": [961.0, 1544.0, 1926.0, 2877.0, 3456.0, 3760.0, 3826.0, 4070.0, 4056.0, 4274.0, 4230.0, 4285.0, 4642.0, 5023.0, 4858.0, 5558.0, 5381.0, 5711.0, 6178.0, 6234.0], \"yaxis\": \"y\"}, {\"hovertemplate\": \"country=Poland<br>year=%{x}<br>suicides_no=%{y}<extra></extra>\", \"legendgroup\": \"Poland\", \"line\": {\"color\": \"#19d3f3\", \"dash\": \"solid\"}, \"mode\": \"lines\", \"name\": \"Poland\", \"orientation\": \"v\", \"showlegend\": true, \"type\": \"scatter\", \"x\": [1980, 1985, 1990, 1995, 2000, 2001, 2002, 2003, 2004, 2005, 2006, 2007, 2008, 2009, 2010, 2011, 2012, 2013, 2014, 2015], \"xaxis\": \"x\", \"y\": [1159.2328767123288, 4945.0, 4970.0, 5499.0, 5841.0, 5855.0, 5925.0, 5836.0, 6072.0, 6045.0, 5805.0, 5284.0, 5682.0, 6477.0, 6357.0, 6113.0, 6368.0, 6218.0, 5934.0, 5420.0], \"yaxis\": \"y\"}, {\"hovertemplate\": \"country=Spain<br>year=%{x}<br>suicides_no=%{y}<extra></extra>\", \"legendgroup\": \"Spain\", \"line\": {\"color\": \"#FF6692\", \"dash\": \"solid\"}, \"mode\": \"lines\", \"name\": \"Spain\", \"orientation\": \"v\", \"showlegend\": true, \"type\": \"scatter\", \"x\": [1980, 1985, 1990, 1995, 2000, 2001, 2002, 2003, 2004, 2005, 2006, 2007, 2008, 2009, 2010, 2011, 2012, 2013, 2014, 2015], \"xaxis\": \"x\", \"y\": [1652.0, 2514.0, 2939.0, 3157.0, 3394.0, 3189.0, 3372.0, 3478.0, 3508.0, 3399.0, 3247.0, 3264.0, 3457.0, 3429.0, 3158.0, 3180.0, 3539.0, 3873.0, 3911.0, 3604.0], \"yaxis\": \"y\"}, {\"hovertemplate\": \"country=Thailand<br>year=%{x}<br>suicides_no=%{y}<extra></extra>\", \"legendgroup\": \"Thailand\", \"line\": {\"color\": \"#B6E880\", \"dash\": \"solid\"}, \"mode\": \"lines\", \"name\": \"Thailand\", \"orientation\": \"v\", \"showlegend\": true, \"type\": \"scatter\", \"x\": [1980, 1985, 1990, 1995, 2000, 2002, 2003, 2004, 2005, 2006, 2007, 2008, 2009, 2010, 2011, 2012, 2013, 2014, 2015, 2016], \"xaxis\": \"x\", \"y\": [3408.0, 2982.0, 3753.0, 4245.0, 5182.0, 4902.0, 4484.0, 4296.0, 3937.0, 3608.0, 3754.0, 3778.0, 3787.0, 3761.0, 3873.0, 3985.0, 3961.0, 3952.0, 4205.0, 4131.0], \"yaxis\": \"y\"}, {\"hovertemplate\": \"country=Ukraine<br>year=%{x}<br>suicides_no=%{y}<extra></extra>\", \"legendgroup\": \"Ukraine\", \"line\": {\"color\": \"#FF97FF\", \"dash\": \"solid\"}, \"mode\": \"lines\", \"name\": \"Ukraine\", \"orientation\": \"v\", \"showlegend\": true, \"type\": \"scatter\", \"x\": [1985, 1990, 1995, 2000, 2001, 2002, 2003, 2004, 2005, 2006, 2007, 2008, 2009, 2010, 2011, 2012, 2014, 2015], \"xaxis\": \"x\", \"y\": [11339.0, 10645.0, 14541.0, 14467.0, 13131.0, 12536.0, 12313.0, 11256.0, 10621.0, 10013.0, 10032.0, 9454.0, 9715.0, 9089.0, 8973.0, 9058.0, 7968.0, 7574.0], \"yaxis\": \"y\"}, {\"hovertemplate\": \"country=United Kingdom<br>year=%{x}<br>suicides_no=%{y}<extra></extra>\", \"legendgroup\": \"United Kingdom\", \"line\": {\"color\": \"#FECB52\", \"dash\": \"solid\"}, \"mode\": \"lines\", \"name\": \"United Kingdom\", \"orientation\": \"v\", \"showlegend\": true, \"type\": \"scatter\", \"x\": [1980, 1985, 1990, 1995, 2000, 2001, 2002, 2003, 2004, 2005, 2006, 2007, 2008, 2009, 2010, 2011, 2012, 2013, 2014, 2015, 2016], \"xaxis\": \"x\", \"y\": [4917.0, 5105.0, 4643.0, 4315.0, 4290.0, 4128.0, 4117.0, 3979.0, 4183.0, 4047.0, 4122.0, 3897.0, 4259.0, 4246.0, 4188.0, 4393.0, 4444.0, 4824.0, 4788.0, 4910.0, 7644.0], \"yaxis\": \"y\"}],                        {\"legend\": {\"title\": {\"text\": \"country\"}, \"tracegroupgap\": 0}, \"margin\": {\"t\": 60}, \"template\": {\"data\": {\"bar\": [{\"error_x\": {\"color\": \"#2a3f5f\"}, \"error_y\": {\"color\": \"#2a3f5f\"}, \"marker\": {\"line\": {\"color\": \"#E5ECF6\", \"width\": 0.5}}, \"type\": \"bar\"}], \"barpolar\": [{\"marker\": {\"line\": {\"color\": \"#E5ECF6\", \"width\": 0.5}}, \"type\": \"barpolar\"}], \"carpet\": [{\"aaxis\": {\"endlinecolor\": \"#2a3f5f\", \"gridcolor\": \"white\", \"linecolor\": \"white\", \"minorgridcolor\": \"white\", \"startlinecolor\": \"#2a3f5f\"}, \"baxis\": {\"endlinecolor\": \"#2a3f5f\", \"gridcolor\": \"white\", \"linecolor\": \"white\", \"minorgridcolor\": \"white\", \"startlinecolor\": \"#2a3f5f\"}, \"type\": \"carpet\"}], \"choropleth\": [{\"colorbar\": {\"outlinewidth\": 0, \"ticks\": \"\"}, \"type\": \"choropleth\"}], \"contour\": [{\"colorbar\": {\"outlinewidth\": 0, \"ticks\": \"\"}, \"colorscale\": [[0.0, \"#0d0887\"], [0.1111111111111111, \"#46039f\"], [0.2222222222222222, \"#7201a8\"], [0.3333333333333333, \"#9c179e\"], [0.4444444444444444, \"#bd3786\"], [0.5555555555555556, \"#d8576b\"], [0.6666666666666666, \"#ed7953\"], [0.7777777777777778, \"#fb9f3a\"], [0.8888888888888888, \"#fdca26\"], [1.0, \"#f0f921\"]], \"type\": \"contour\"}], \"contourcarpet\": [{\"colorbar\": {\"outlinewidth\": 0, \"ticks\": \"\"}, \"type\": \"contourcarpet\"}], \"heatmap\": [{\"colorbar\": {\"outlinewidth\": 0, \"ticks\": \"\"}, \"colorscale\": [[0.0, \"#0d0887\"], [0.1111111111111111, \"#46039f\"], [0.2222222222222222, \"#7201a8\"], [0.3333333333333333, \"#9c179e\"], [0.4444444444444444, \"#bd3786\"], [0.5555555555555556, \"#d8576b\"], [0.6666666666666666, \"#ed7953\"], [0.7777777777777778, \"#fb9f3a\"], [0.8888888888888888, \"#fdca26\"], [1.0, \"#f0f921\"]], \"type\": \"heatmap\"}], \"heatmapgl\": [{\"colorbar\": {\"outlinewidth\": 0, \"ticks\": \"\"}, \"colorscale\": [[0.0, \"#0d0887\"], [0.1111111111111111, \"#46039f\"], [0.2222222222222222, \"#7201a8\"], [0.3333333333333333, \"#9c179e\"], [0.4444444444444444, \"#bd3786\"], [0.5555555555555556, \"#d8576b\"], [0.6666666666666666, \"#ed7953\"], [0.7777777777777778, \"#fb9f3a\"], [0.8888888888888888, \"#fdca26\"], [1.0, \"#f0f921\"]], \"type\": \"heatmapgl\"}], \"histogram\": [{\"marker\": {\"colorbar\": {\"outlinewidth\": 0, \"ticks\": \"\"}}, \"type\": \"histogram\"}], \"histogram2d\": [{\"colorbar\": {\"outlinewidth\": 0, \"ticks\": \"\"}, \"colorscale\": [[0.0, \"#0d0887\"], [0.1111111111111111, \"#46039f\"], [0.2222222222222222, \"#7201a8\"], [0.3333333333333333, \"#9c179e\"], [0.4444444444444444, \"#bd3786\"], [0.5555555555555556, \"#d8576b\"], [0.6666666666666666, \"#ed7953\"], [0.7777777777777778, \"#fb9f3a\"], [0.8888888888888888, \"#fdca26\"], [1.0, \"#f0f921\"]], \"type\": \"histogram2d\"}], \"histogram2dcontour\": [{\"colorbar\": {\"outlinewidth\": 0, \"ticks\": \"\"}, \"colorscale\": [[0.0, \"#0d0887\"], [0.1111111111111111, \"#46039f\"], [0.2222222222222222, \"#7201a8\"], [0.3333333333333333, \"#9c179e\"], [0.4444444444444444, \"#bd3786\"], [0.5555555555555556, \"#d8576b\"], [0.6666666666666666, \"#ed7953\"], [0.7777777777777778, \"#fb9f3a\"], [0.8888888888888888, \"#fdca26\"], [1.0, \"#f0f921\"]], \"type\": \"histogram2dcontour\"}], \"mesh3d\": [{\"colorbar\": {\"outlinewidth\": 0, \"ticks\": \"\"}, \"type\": \"mesh3d\"}], \"parcoords\": [{\"line\": {\"colorbar\": {\"outlinewidth\": 0, \"ticks\": \"\"}}, \"type\": \"parcoords\"}], \"pie\": [{\"automargin\": true, \"type\": \"pie\"}], \"scatter\": [{\"marker\": {\"colorbar\": {\"outlinewidth\": 0, \"ticks\": \"\"}}, \"type\": \"scatter\"}], \"scatter3d\": [{\"line\": {\"colorbar\": {\"outlinewidth\": 0, \"ticks\": \"\"}}, \"marker\": {\"colorbar\": {\"outlinewidth\": 0, \"ticks\": \"\"}}, \"type\": \"scatter3d\"}], \"scattercarpet\": [{\"marker\": {\"colorbar\": {\"outlinewidth\": 0, \"ticks\": \"\"}}, \"type\": \"scattercarpet\"}], \"scattergeo\": [{\"marker\": {\"colorbar\": {\"outlinewidth\": 0, \"ticks\": \"\"}}, \"type\": \"scattergeo\"}], \"scattergl\": [{\"marker\": {\"colorbar\": {\"outlinewidth\": 0, \"ticks\": \"\"}}, \"type\": \"scattergl\"}], \"scattermapbox\": [{\"marker\": {\"colorbar\": {\"outlinewidth\": 0, \"ticks\": \"\"}}, \"type\": \"scattermapbox\"}], \"scatterpolar\": [{\"marker\": {\"colorbar\": {\"outlinewidth\": 0, \"ticks\": \"\"}}, \"type\": \"scatterpolar\"}], \"scatterpolargl\": [{\"marker\": {\"colorbar\": {\"outlinewidth\": 0, \"ticks\": \"\"}}, \"type\": \"scatterpolargl\"}], \"scatterternary\": [{\"marker\": {\"colorbar\": {\"outlinewidth\": 0, \"ticks\": \"\"}}, \"type\": \"scatterternary\"}], \"surface\": [{\"colorbar\": {\"outlinewidth\": 0, \"ticks\": \"\"}, \"colorscale\": [[0.0, \"#0d0887\"], [0.1111111111111111, \"#46039f\"], [0.2222222222222222, \"#7201a8\"], [0.3333333333333333, \"#9c179e\"], [0.4444444444444444, \"#bd3786\"], [0.5555555555555556, \"#d8576b\"], [0.6666666666666666, \"#ed7953\"], [0.7777777777777778, \"#fb9f3a\"], [0.8888888888888888, \"#fdca26\"], [1.0, \"#f0f921\"]], \"type\": \"surface\"}], \"table\": [{\"cells\": {\"fill\": {\"color\": \"#EBF0F8\"}, \"line\": {\"color\": \"white\"}}, \"header\": {\"fill\": {\"color\": \"#C8D4E3\"}, \"line\": {\"color\": \"white\"}}, \"type\": \"table\"}]}, \"layout\": {\"annotationdefaults\": {\"arrowcolor\": \"#2a3f5f\", \"arrowhead\": 0, \"arrowwidth\": 1}, \"autotypenumbers\": \"strict\", \"coloraxis\": {\"colorbar\": {\"outlinewidth\": 0, \"ticks\": \"\"}}, \"colorscale\": {\"diverging\": [[0, \"#8e0152\"], [0.1, \"#c51b7d\"], [0.2, \"#de77ae\"], [0.3, \"#f1b6da\"], [0.4, \"#fde0ef\"], [0.5, \"#f7f7f7\"], [0.6, \"#e6f5d0\"], [0.7, \"#b8e186\"], [0.8, \"#7fbc41\"], [0.9, \"#4d9221\"], [1, \"#276419\"]], \"sequential\": [[0.0, \"#0d0887\"], [0.1111111111111111, \"#46039f\"], [0.2222222222222222, \"#7201a8\"], [0.3333333333333333, \"#9c179e\"], [0.4444444444444444, \"#bd3786\"], [0.5555555555555556, \"#d8576b\"], [0.6666666666666666, \"#ed7953\"], [0.7777777777777778, \"#fb9f3a\"], [0.8888888888888888, \"#fdca26\"], [1.0, \"#f0f921\"]], \"sequentialminus\": [[0.0, \"#0d0887\"], [0.1111111111111111, \"#46039f\"], [0.2222222222222222, \"#7201a8\"], [0.3333333333333333, \"#9c179e\"], [0.4444444444444444, \"#bd3786\"], [0.5555555555555556, \"#d8576b\"], [0.6666666666666666, \"#ed7953\"], [0.7777777777777778, \"#fb9f3a\"], [0.8888888888888888, \"#fdca26\"], [1.0, \"#f0f921\"]]}, \"colorway\": [\"#636efa\", \"#EF553B\", \"#00cc96\", \"#ab63fa\", \"#FFA15A\", \"#19d3f3\", \"#FF6692\", \"#B6E880\", \"#FF97FF\", \"#FECB52\"], \"font\": {\"color\": \"#2a3f5f\"}, \"geo\": {\"bgcolor\": \"white\", \"lakecolor\": \"white\", \"landcolor\": \"#E5ECF6\", \"showlakes\": true, \"showland\": true, \"subunitcolor\": \"white\"}, \"hoverlabel\": {\"align\": \"left\"}, \"hovermode\": \"closest\", \"mapbox\": {\"style\": \"light\"}, \"paper_bgcolor\": \"white\", \"plot_bgcolor\": \"#E5ECF6\", \"polar\": {\"angularaxis\": {\"gridcolor\": \"white\", \"linecolor\": \"white\", \"ticks\": \"\"}, \"bgcolor\": \"#E5ECF6\", \"radialaxis\": {\"gridcolor\": \"white\", \"linecolor\": \"white\", \"ticks\": \"\"}}, \"scene\": {\"xaxis\": {\"backgroundcolor\": \"#E5ECF6\", \"gridcolor\": \"white\", \"gridwidth\": 2, \"linecolor\": \"white\", \"showbackground\": true, \"ticks\": \"\", \"zerolinecolor\": \"white\"}, \"yaxis\": {\"backgroundcolor\": \"#E5ECF6\", \"gridcolor\": \"white\", \"gridwidth\": 2, \"linecolor\": \"white\", \"showbackground\": true, \"ticks\": \"\", \"zerolinecolor\": \"white\"}, \"zaxis\": {\"backgroundcolor\": \"#E5ECF6\", \"gridcolor\": \"white\", \"gridwidth\": 2, \"linecolor\": \"white\", \"showbackground\": true, \"ticks\": \"\", \"zerolinecolor\": \"white\"}}, \"shapedefaults\": {\"line\": {\"color\": \"#2a3f5f\"}}, \"ternary\": {\"aaxis\": {\"gridcolor\": \"white\", \"linecolor\": \"white\", \"ticks\": \"\"}, \"baxis\": {\"gridcolor\": \"white\", \"linecolor\": \"white\", \"ticks\": \"\"}, \"bgcolor\": \"#E5ECF6\", \"caxis\": {\"gridcolor\": \"white\", \"linecolor\": \"white\", \"ticks\": \"\"}}, \"title\": {\"x\": 0.05}, \"xaxis\": {\"automargin\": true, \"gridcolor\": \"white\", \"linecolor\": \"white\", \"ticks\": \"\", \"title\": {\"standoff\": 15}, \"zerolinecolor\": \"white\", \"zerolinewidth\": 2}, \"yaxis\": {\"automargin\": true, \"gridcolor\": \"white\", \"linecolor\": \"white\", \"ticks\": \"\", \"title\": {\"standoff\": 15}, \"zerolinecolor\": \"white\", \"zerolinewidth\": 2}}}, \"xaxis\": {\"anchor\": \"y\", \"domain\": [0.0, 1.0], \"range\": [1990, 2015], \"title\": {\"text\": \"year\"}}, \"yaxis\": {\"anchor\": \"x\", \"domain\": [0.0, 1.0], \"title\": {\"text\": \"suicides_no\"}}},                        {\"responsive\": true}                    ).then(function(){\n",
       "                            \n",
       "var gd = document.getElementById('2a818165-c835-4e5c-af9d-15d77348532d');\n",
       "var x = new MutationObserver(function (mutations, observer) {{\n",
       "        var display = window.getComputedStyle(gd).display;\n",
       "        if (!display || display === 'none') {{\n",
       "            console.log([gd, 'removed!']);\n",
       "            Plotly.purge(gd);\n",
       "            observer.disconnect();\n",
       "        }}\n",
       "}});\n",
       "\n",
       "// Listen for the removal of the full notebook cells\n",
       "var notebookContainer = gd.closest('#notebook-container');\n",
       "if (notebookContainer) {{\n",
       "    x.observe(notebookContainer, {childList: true});\n",
       "}}\n",
       "\n",
       "// Listen for the clearing of the current output cell\n",
       "var outputEl = gd.closest('.output');\n",
       "if (outputEl) {{\n",
       "    x.observe(outputEl, {childList: true});\n",
       "}}\n",
       "\n",
       "                        })                };                });            </script>        </div>"
      ]
     },
     "metadata": {},
     "output_type": "display_data"
    }
   ],
   "source": [
    "top_suicides_2015 = data[data.year==2015].sort_values(by='suicides_no', ascending=False).head(10)\n",
    "\n",
    "countries = top_suicides_2015.country.tolist()\n",
    "timeLine = data[data['country'].isin(countries)]\n",
    "\n",
    "\n",
    "fig = px.line(timeLine, x='year', y=\"suicides_no\", color=\"country\", line_group=\"country\")\n",
    "fig.update_xaxes(range=[1990, 2015], row=1, col=1)\n",
    "fig.show()"
   ]
  },
  {
   "cell_type": "markdown",
   "metadata": {},
   "source": [
    "### Libertad economica de un pais 1990 - 2015"
   ]
  },
  {
   "cell_type": "code",
   "execution_count": 12,
   "metadata": {
    "tags": [
     "body"
    ]
   },
   "outputs": [
    {
     "data": {
      "application/vnd.plotly.v1+json": {
       "config": {
        "plotlyServerURL": "https://plot.ly"
       },
       "data": [
        {
         "hovertemplate": "country=Australia<br>year=%{x}<br>economic_freedom=%{y}<extra></extra>",
         "legendgroup": "Australia",
         "line": {
          "color": "#636efa",
          "dash": "solid"
         },
         "mode": "lines",
         "name": "Australia",
         "orientation": "v",
         "showlegend": true,
         "type": "scatter",
         "x": [
          1980,
          1985,
          1990,
          1995,
          2000,
          2001,
          2002,
          2003,
          2004,
          2005,
          2006,
          2007,
          2008,
          2009,
          2010,
          2011,
          2012,
          2013,
          2014,
          2015
         ],
         "xaxis": "x",
         "y": [
          6.85,
          7.16,
          7.73,
          7.95,
          8.19,
          8.07,
          8.05,
          8.06,
          8.01,
          8.07,
          8.14,
          8.18,
          8.08,
          7.97,
          8.02,
          8.01,
          7.96,
          7.92,
          8.02,
          8
         ],
         "yaxis": "y"
        },
        {
         "hovertemplate": "country=Chile<br>year=%{x}<br>economic_freedom=%{y}<extra></extra>",
         "legendgroup": "Chile",
         "line": {
          "color": "#EF553B",
          "dash": "solid"
         },
         "mode": "lines",
         "name": "Chile",
         "orientation": "v",
         "showlegend": true,
         "type": "scatter",
         "x": [
          1980,
          1985,
          1990,
          1995,
          2000,
          2001,
          2002,
          2003,
          2004,
          2005,
          2006,
          2007,
          2008,
          2009,
          2010,
          2011,
          2012,
          2013,
          2014,
          2015
         ],
         "xaxis": "x",
         "y": [
          5.05,
          5.55,
          6.61,
          7.37,
          7.36,
          7.37,
          7.6,
          7.76,
          7.71,
          7.74,
          7.76,
          7.87,
          7.8,
          7.87,
          7.89,
          7.91,
          7.81,
          7.88,
          7.84,
          7.79
         ],
         "yaxis": "y"
        },
        {
         "hovertemplate": "country=Denmark<br>year=%{x}<br>economic_freedom=%{y}<extra></extra>",
         "legendgroup": "Denmark",
         "line": {
          "color": "#00cc96",
          "dash": "solid"
         },
         "mode": "lines",
         "name": "Denmark",
         "orientation": "v",
         "showlegend": true,
         "type": "scatter",
         "x": [
          1980,
          1985,
          1990,
          1995,
          2000,
          2001,
          2002,
          2003,
          2004,
          2005,
          2006,
          2007,
          2008,
          2009,
          2010,
          2011,
          2012,
          2013,
          2014,
          2015
         ],
         "xaxis": "x",
         "y": [
          6.24,
          6.37,
          7.16,
          7.73,
          8.06,
          7.88,
          7.88,
          8.01,
          8,
          7.89,
          7.97,
          7.97,
          7.88,
          7.66,
          7.77,
          7.71,
          7.56,
          7.68,
          7.81,
          7.75
         ],
         "yaxis": "y"
        },
        {
         "hovertemplate": "country=Estonia<br>year=%{x}<br>economic_freedom=%{y}<extra></extra>",
         "legendgroup": "Estonia",
         "line": {
          "color": "#ab63fa",
          "dash": "solid"
         },
         "mode": "lines",
         "name": "Estonia",
         "orientation": "v",
         "showlegend": true,
         "type": "scatter",
         "x": [
          1985,
          1990,
          1995,
          2000,
          2001,
          2002,
          2003,
          2004,
          2005,
          2006,
          2007,
          2008,
          2009,
          2010,
          2011,
          2012,
          2013,
          2014,
          2015
         ],
         "xaxis": "x",
         "y": [
          6.536666666666667,
          6.383333333333334,
          6.23,
          7.6,
          7.67,
          7.72,
          7.84,
          7.98,
          7.96,
          7.97,
          7.85,
          7.77,
          7.7,
          7.82,
          7.74,
          7.68,
          7.7,
          7.79,
          7.93
         ],
         "yaxis": "y"
        },
        {
         "hovertemplate": "country=Georgia<br>year=%{x}<br>economic_freedom=%{y}<extra></extra>",
         "legendgroup": "Georgia",
         "line": {
          "color": "#FFA15A",
          "dash": "solid"
         },
         "mode": "lines",
         "name": "Georgia",
         "orientation": "v",
         "showlegend": true,
         "type": "scatter",
         "x": [
          1985,
          1990,
          1995,
          2000,
          2001,
          2002,
          2003,
          2004,
          2005,
          2006,
          2007,
          2008,
          2009,
          2010,
          2011,
          2012,
          2013,
          2014,
          2015
         ],
         "xaxis": "x",
         "y": [
          7.247999999999999,
          7.225,
          7.202000000000001,
          7.178999999999999,
          7.1560000000000015,
          7.132999999999999,
          7.11,
          6.96,
          7.42,
          7.6,
          7.46,
          7.57,
          7.41,
          7.5,
          7.64,
          7.75,
          7.87,
          8.02,
          7.98
         ],
         "yaxis": "y"
        },
        {
         "hovertemplate": "country=Lithuania<br>year=%{x}<br>economic_freedom=%{y}<extra></extra>",
         "legendgroup": "Lithuania",
         "line": {
          "color": "#19d3f3",
          "dash": "solid"
         },
         "mode": "lines",
         "name": "Lithuania",
         "orientation": "v",
         "showlegend": true,
         "type": "scatter",
         "x": [
          1985,
          1990,
          1995,
          2000,
          2001,
          2002,
          2003,
          2004,
          2005,
          2006,
          2007,
          2008,
          2009,
          2010,
          2011,
          2012,
          2013,
          2014,
          2015,
          2016
         ],
         "xaxis": "x",
         "y": [
          5.226666666666667,
          5.348333333333333,
          5.47,
          6.92,
          6.87,
          7.18,
          7.2,
          7.41,
          7.37,
          7.46,
          7.54,
          7.44,
          7.55,
          7.47,
          7.5,
          7.52,
          7.72,
          7.91,
          7.86,
          7.86
         ],
         "yaxis": "y"
        },
        {
         "hovertemplate": "country=Mauritius<br>year=%{x}<br>economic_freedom=%{y}<extra></extra>",
         "legendgroup": "Mauritius",
         "line": {
          "color": "#FF6692",
          "dash": "solid"
         },
         "mode": "lines",
         "name": "Mauritius",
         "orientation": "v",
         "showlegend": true,
         "type": "scatter",
         "x": [
          1980,
          1985,
          1990,
          1995,
          2000,
          2001,
          2002,
          2003,
          2004,
          2005,
          2006,
          2007,
          2008,
          2009,
          2010,
          2011,
          2012,
          2013,
          2014,
          2015,
          2016
         ],
         "xaxis": "x",
         "y": [
          4.9,
          6.38,
          6.12,
          7.81,
          7.54,
          7.45,
          7.29,
          7.21,
          7.05,
          7.53,
          7.37,
          7.89,
          7.96,
          7.85,
          7.98,
          8.05,
          8.15,
          8.12,
          8.02,
          8.02,
          8.01
         ],
         "yaxis": "y"
        },
        {
         "hovertemplate": "country=Singapore<br>year=%{x}<br>economic_freedom=%{y}<extra></extra>",
         "legendgroup": "Singapore",
         "line": {
          "color": "#B6E880",
          "dash": "solid"
         },
         "mode": "lines",
         "name": "Singapore",
         "orientation": "v",
         "showlegend": true,
         "type": "scatter",
         "x": [
          1980,
          1985,
          1990,
          1995,
          2000,
          2001,
          2002,
          2003,
          2004,
          2005,
          2006,
          2007,
          2008,
          2009,
          2010,
          2011,
          2012,
          2013,
          2014,
          2015
         ],
         "xaxis": "x",
         "y": [
          7.42,
          7.65,
          8.49,
          8.88,
          8.7,
          8.67,
          8.79,
          8.73,
          8.8,
          8.91,
          8.98,
          8.96,
          8.92,
          8.77,
          8.76,
          8.76,
          8.64,
          8.64,
          8.84,
          8.84
         ],
         "yaxis": "y"
        },
        {
         "hovertemplate": "country=Switzerland<br>year=%{x}<br>economic_freedom=%{y}<extra></extra>",
         "legendgroup": "Switzerland",
         "line": {
          "color": "#FF97FF",
          "dash": "solid"
         },
         "mode": "lines",
         "name": "Switzerland",
         "orientation": "v",
         "showlegend": true,
         "type": "scatter",
         "x": [
          1980,
          1985,
          1990,
          1995,
          2000,
          2001,
          2002,
          2003,
          2004,
          2005,
          2006,
          2007,
          2008,
          2009,
          2010,
          2011,
          2012,
          2013,
          2014,
          2015
         ],
         "xaxis": "x",
         "y": [
          7.62,
          8.15,
          8.21,
          8.16,
          8.73,
          8.55,
          8.64,
          8.56,
          8.5,
          8.37,
          8.42,
          8.43,
          8.24,
          8.26,
          8.3,
          8.23,
          8.2,
          8.22,
          8.31,
          8.37
         ],
         "yaxis": "y"
        },
        {
         "hovertemplate": "country=United Kingdom<br>year=%{x}<br>economic_freedom=%{y}<extra></extra>",
         "legendgroup": "United Kingdom",
         "line": {
          "color": "#FECB52",
          "dash": "solid"
         },
         "mode": "lines",
         "name": "United Kingdom",
         "orientation": "v",
         "showlegend": true,
         "type": "scatter",
         "x": [
          1980,
          1985,
          1990,
          1995,
          2000,
          2001,
          2002,
          2003,
          2004,
          2005,
          2006,
          2007,
          2008,
          2009,
          2010,
          2011,
          2012,
          2013,
          2014,
          2015,
          2016
         ],
         "xaxis": "x",
         "y": [
          6.72,
          7.71,
          8.18,
          8.21,
          8.56,
          8.45,
          8.46,
          8.47,
          8.34,
          8.3,
          8.2,
          8.13,
          7.99,
          8.08,
          7.89,
          7.9,
          7.91,
          7.96,
          7.91,
          8.01,
          8
         ],
         "yaxis": "y"
        }
       ],
       "layout": {
        "legend": {
         "title": {
          "text": "country"
         },
         "tracegroupgap": 0
        },
        "margin": {
         "t": 60
        },
        "template": {
         "data": {
          "bar": [
           {
            "error_x": {
             "color": "#2a3f5f"
            },
            "error_y": {
             "color": "#2a3f5f"
            },
            "marker": {
             "line": {
              "color": "#E5ECF6",
              "width": 0.5
             }
            },
            "type": "bar"
           }
          ],
          "barpolar": [
           {
            "marker": {
             "line": {
              "color": "#E5ECF6",
              "width": 0.5
             }
            },
            "type": "barpolar"
           }
          ],
          "carpet": [
           {
            "aaxis": {
             "endlinecolor": "#2a3f5f",
             "gridcolor": "white",
             "linecolor": "white",
             "minorgridcolor": "white",
             "startlinecolor": "#2a3f5f"
            },
            "baxis": {
             "endlinecolor": "#2a3f5f",
             "gridcolor": "white",
             "linecolor": "white",
             "minorgridcolor": "white",
             "startlinecolor": "#2a3f5f"
            },
            "type": "carpet"
           }
          ],
          "choropleth": [
           {
            "colorbar": {
             "outlinewidth": 0,
             "ticks": ""
            },
            "type": "choropleth"
           }
          ],
          "contour": [
           {
            "colorbar": {
             "outlinewidth": 0,
             "ticks": ""
            },
            "colorscale": [
             [
              0,
              "#0d0887"
             ],
             [
              0.1111111111111111,
              "#46039f"
             ],
             [
              0.2222222222222222,
              "#7201a8"
             ],
             [
              0.3333333333333333,
              "#9c179e"
             ],
             [
              0.4444444444444444,
              "#bd3786"
             ],
             [
              0.5555555555555556,
              "#d8576b"
             ],
             [
              0.6666666666666666,
              "#ed7953"
             ],
             [
              0.7777777777777778,
              "#fb9f3a"
             ],
             [
              0.8888888888888888,
              "#fdca26"
             ],
             [
              1,
              "#f0f921"
             ]
            ],
            "type": "contour"
           }
          ],
          "contourcarpet": [
           {
            "colorbar": {
             "outlinewidth": 0,
             "ticks": ""
            },
            "type": "contourcarpet"
           }
          ],
          "heatmap": [
           {
            "colorbar": {
             "outlinewidth": 0,
             "ticks": ""
            },
            "colorscale": [
             [
              0,
              "#0d0887"
             ],
             [
              0.1111111111111111,
              "#46039f"
             ],
             [
              0.2222222222222222,
              "#7201a8"
             ],
             [
              0.3333333333333333,
              "#9c179e"
             ],
             [
              0.4444444444444444,
              "#bd3786"
             ],
             [
              0.5555555555555556,
              "#d8576b"
             ],
             [
              0.6666666666666666,
              "#ed7953"
             ],
             [
              0.7777777777777778,
              "#fb9f3a"
             ],
             [
              0.8888888888888888,
              "#fdca26"
             ],
             [
              1,
              "#f0f921"
             ]
            ],
            "type": "heatmap"
           }
          ],
          "heatmapgl": [
           {
            "colorbar": {
             "outlinewidth": 0,
             "ticks": ""
            },
            "colorscale": [
             [
              0,
              "#0d0887"
             ],
             [
              0.1111111111111111,
              "#46039f"
             ],
             [
              0.2222222222222222,
              "#7201a8"
             ],
             [
              0.3333333333333333,
              "#9c179e"
             ],
             [
              0.4444444444444444,
              "#bd3786"
             ],
             [
              0.5555555555555556,
              "#d8576b"
             ],
             [
              0.6666666666666666,
              "#ed7953"
             ],
             [
              0.7777777777777778,
              "#fb9f3a"
             ],
             [
              0.8888888888888888,
              "#fdca26"
             ],
             [
              1,
              "#f0f921"
             ]
            ],
            "type": "heatmapgl"
           }
          ],
          "histogram": [
           {
            "marker": {
             "colorbar": {
              "outlinewidth": 0,
              "ticks": ""
             }
            },
            "type": "histogram"
           }
          ],
          "histogram2d": [
           {
            "colorbar": {
             "outlinewidth": 0,
             "ticks": ""
            },
            "colorscale": [
             [
              0,
              "#0d0887"
             ],
             [
              0.1111111111111111,
              "#46039f"
             ],
             [
              0.2222222222222222,
              "#7201a8"
             ],
             [
              0.3333333333333333,
              "#9c179e"
             ],
             [
              0.4444444444444444,
              "#bd3786"
             ],
             [
              0.5555555555555556,
              "#d8576b"
             ],
             [
              0.6666666666666666,
              "#ed7953"
             ],
             [
              0.7777777777777778,
              "#fb9f3a"
             ],
             [
              0.8888888888888888,
              "#fdca26"
             ],
             [
              1,
              "#f0f921"
             ]
            ],
            "type": "histogram2d"
           }
          ],
          "histogram2dcontour": [
           {
            "colorbar": {
             "outlinewidth": 0,
             "ticks": ""
            },
            "colorscale": [
             [
              0,
              "#0d0887"
             ],
             [
              0.1111111111111111,
              "#46039f"
             ],
             [
              0.2222222222222222,
              "#7201a8"
             ],
             [
              0.3333333333333333,
              "#9c179e"
             ],
             [
              0.4444444444444444,
              "#bd3786"
             ],
             [
              0.5555555555555556,
              "#d8576b"
             ],
             [
              0.6666666666666666,
              "#ed7953"
             ],
             [
              0.7777777777777778,
              "#fb9f3a"
             ],
             [
              0.8888888888888888,
              "#fdca26"
             ],
             [
              1,
              "#f0f921"
             ]
            ],
            "type": "histogram2dcontour"
           }
          ],
          "mesh3d": [
           {
            "colorbar": {
             "outlinewidth": 0,
             "ticks": ""
            },
            "type": "mesh3d"
           }
          ],
          "parcoords": [
           {
            "line": {
             "colorbar": {
              "outlinewidth": 0,
              "ticks": ""
             }
            },
            "type": "parcoords"
           }
          ],
          "pie": [
           {
            "automargin": true,
            "type": "pie"
           }
          ],
          "scatter": [
           {
            "marker": {
             "colorbar": {
              "outlinewidth": 0,
              "ticks": ""
             }
            },
            "type": "scatter"
           }
          ],
          "scatter3d": [
           {
            "line": {
             "colorbar": {
              "outlinewidth": 0,
              "ticks": ""
             }
            },
            "marker": {
             "colorbar": {
              "outlinewidth": 0,
              "ticks": ""
             }
            },
            "type": "scatter3d"
           }
          ],
          "scattercarpet": [
           {
            "marker": {
             "colorbar": {
              "outlinewidth": 0,
              "ticks": ""
             }
            },
            "type": "scattercarpet"
           }
          ],
          "scattergeo": [
           {
            "marker": {
             "colorbar": {
              "outlinewidth": 0,
              "ticks": ""
             }
            },
            "type": "scattergeo"
           }
          ],
          "scattergl": [
           {
            "marker": {
             "colorbar": {
              "outlinewidth": 0,
              "ticks": ""
             }
            },
            "type": "scattergl"
           }
          ],
          "scattermapbox": [
           {
            "marker": {
             "colorbar": {
              "outlinewidth": 0,
              "ticks": ""
             }
            },
            "type": "scattermapbox"
           }
          ],
          "scatterpolar": [
           {
            "marker": {
             "colorbar": {
              "outlinewidth": 0,
              "ticks": ""
             }
            },
            "type": "scatterpolar"
           }
          ],
          "scatterpolargl": [
           {
            "marker": {
             "colorbar": {
              "outlinewidth": 0,
              "ticks": ""
             }
            },
            "type": "scatterpolargl"
           }
          ],
          "scatterternary": [
           {
            "marker": {
             "colorbar": {
              "outlinewidth": 0,
              "ticks": ""
             }
            },
            "type": "scatterternary"
           }
          ],
          "surface": [
           {
            "colorbar": {
             "outlinewidth": 0,
             "ticks": ""
            },
            "colorscale": [
             [
              0,
              "#0d0887"
             ],
             [
              0.1111111111111111,
              "#46039f"
             ],
             [
              0.2222222222222222,
              "#7201a8"
             ],
             [
              0.3333333333333333,
              "#9c179e"
             ],
             [
              0.4444444444444444,
              "#bd3786"
             ],
             [
              0.5555555555555556,
              "#d8576b"
             ],
             [
              0.6666666666666666,
              "#ed7953"
             ],
             [
              0.7777777777777778,
              "#fb9f3a"
             ],
             [
              0.8888888888888888,
              "#fdca26"
             ],
             [
              1,
              "#f0f921"
             ]
            ],
            "type": "surface"
           }
          ],
          "table": [
           {
            "cells": {
             "fill": {
              "color": "#EBF0F8"
             },
             "line": {
              "color": "white"
             }
            },
            "header": {
             "fill": {
              "color": "#C8D4E3"
             },
             "line": {
              "color": "white"
             }
            },
            "type": "table"
           }
          ]
         },
         "layout": {
          "annotationdefaults": {
           "arrowcolor": "#2a3f5f",
           "arrowhead": 0,
           "arrowwidth": 1
          },
          "autotypenumbers": "strict",
          "coloraxis": {
           "colorbar": {
            "outlinewidth": 0,
            "ticks": ""
           }
          },
          "colorscale": {
           "diverging": [
            [
             0,
             "#8e0152"
            ],
            [
             0.1,
             "#c51b7d"
            ],
            [
             0.2,
             "#de77ae"
            ],
            [
             0.3,
             "#f1b6da"
            ],
            [
             0.4,
             "#fde0ef"
            ],
            [
             0.5,
             "#f7f7f7"
            ],
            [
             0.6,
             "#e6f5d0"
            ],
            [
             0.7,
             "#b8e186"
            ],
            [
             0.8,
             "#7fbc41"
            ],
            [
             0.9,
             "#4d9221"
            ],
            [
             1,
             "#276419"
            ]
           ],
           "sequential": [
            [
             0,
             "#0d0887"
            ],
            [
             0.1111111111111111,
             "#46039f"
            ],
            [
             0.2222222222222222,
             "#7201a8"
            ],
            [
             0.3333333333333333,
             "#9c179e"
            ],
            [
             0.4444444444444444,
             "#bd3786"
            ],
            [
             0.5555555555555556,
             "#d8576b"
            ],
            [
             0.6666666666666666,
             "#ed7953"
            ],
            [
             0.7777777777777778,
             "#fb9f3a"
            ],
            [
             0.8888888888888888,
             "#fdca26"
            ],
            [
             1,
             "#f0f921"
            ]
           ],
           "sequentialminus": [
            [
             0,
             "#0d0887"
            ],
            [
             0.1111111111111111,
             "#46039f"
            ],
            [
             0.2222222222222222,
             "#7201a8"
            ],
            [
             0.3333333333333333,
             "#9c179e"
            ],
            [
             0.4444444444444444,
             "#bd3786"
            ],
            [
             0.5555555555555556,
             "#d8576b"
            ],
            [
             0.6666666666666666,
             "#ed7953"
            ],
            [
             0.7777777777777778,
             "#fb9f3a"
            ],
            [
             0.8888888888888888,
             "#fdca26"
            ],
            [
             1,
             "#f0f921"
            ]
           ]
          },
          "colorway": [
           "#636efa",
           "#EF553B",
           "#00cc96",
           "#ab63fa",
           "#FFA15A",
           "#19d3f3",
           "#FF6692",
           "#B6E880",
           "#FF97FF",
           "#FECB52"
          ],
          "font": {
           "color": "#2a3f5f"
          },
          "geo": {
           "bgcolor": "white",
           "lakecolor": "white",
           "landcolor": "#E5ECF6",
           "showlakes": true,
           "showland": true,
           "subunitcolor": "white"
          },
          "hoverlabel": {
           "align": "left"
          },
          "hovermode": "closest",
          "mapbox": {
           "style": "light"
          },
          "paper_bgcolor": "white",
          "plot_bgcolor": "#E5ECF6",
          "polar": {
           "angularaxis": {
            "gridcolor": "white",
            "linecolor": "white",
            "ticks": ""
           },
           "bgcolor": "#E5ECF6",
           "radialaxis": {
            "gridcolor": "white",
            "linecolor": "white",
            "ticks": ""
           }
          },
          "scene": {
           "xaxis": {
            "backgroundcolor": "#E5ECF6",
            "gridcolor": "white",
            "gridwidth": 2,
            "linecolor": "white",
            "showbackground": true,
            "ticks": "",
            "zerolinecolor": "white"
           },
           "yaxis": {
            "backgroundcolor": "#E5ECF6",
            "gridcolor": "white",
            "gridwidth": 2,
            "linecolor": "white",
            "showbackground": true,
            "ticks": "",
            "zerolinecolor": "white"
           },
           "zaxis": {
            "backgroundcolor": "#E5ECF6",
            "gridcolor": "white",
            "gridwidth": 2,
            "linecolor": "white",
            "showbackground": true,
            "ticks": "",
            "zerolinecolor": "white"
           }
          },
          "shapedefaults": {
           "line": {
            "color": "#2a3f5f"
           }
          },
          "ternary": {
           "aaxis": {
            "gridcolor": "white",
            "linecolor": "white",
            "ticks": ""
           },
           "baxis": {
            "gridcolor": "white",
            "linecolor": "white",
            "ticks": ""
           },
           "bgcolor": "#E5ECF6",
           "caxis": {
            "gridcolor": "white",
            "linecolor": "white",
            "ticks": ""
           }
          },
          "title": {
           "x": 0.05
          },
          "xaxis": {
           "automargin": true,
           "gridcolor": "white",
           "linecolor": "white",
           "ticks": "",
           "title": {
            "standoff": 15
           },
           "zerolinecolor": "white",
           "zerolinewidth": 2
          },
          "yaxis": {
           "automargin": true,
           "gridcolor": "white",
           "linecolor": "white",
           "ticks": "",
           "title": {
            "standoff": 15
           },
           "zerolinecolor": "white",
           "zerolinewidth": 2
          }
         }
        },
        "xaxis": {
         "anchor": "y",
         "domain": [
          0,
          1
         ],
         "range": [
          1990,
          2015
         ],
         "title": {
          "text": "year"
         }
        },
        "yaxis": {
         "anchor": "x",
         "domain": [
          0,
          1
         ],
         "title": {
          "text": "economic_freedom"
         }
        }
       }
      },
      "text/html": [
       "<div>                            <div id=\"5353cf8d-435d-497d-a4eb-63a479ec3aec\" class=\"plotly-graph-div\" style=\"height:525px; width:100%;\"></div>            <script type=\"text/javascript\">                require([\"plotly\"], function(Plotly) {                    window.PLOTLYENV=window.PLOTLYENV || {};                                    if (document.getElementById(\"5353cf8d-435d-497d-a4eb-63a479ec3aec\")) {                    Plotly.newPlot(                        \"5353cf8d-435d-497d-a4eb-63a479ec3aec\",                        [{\"hovertemplate\": \"country=Australia<br>year=%{x}<br>economic_freedom=%{y}<extra></extra>\", \"legendgroup\": \"Australia\", \"line\": {\"color\": \"#636efa\", \"dash\": \"solid\"}, \"mode\": \"lines\", \"name\": \"Australia\", \"orientation\": \"v\", \"showlegend\": true, \"type\": \"scatter\", \"x\": [1980, 1985, 1990, 1995, 2000, 2001, 2002, 2003, 2004, 2005, 2006, 2007, 2008, 2009, 2010, 2011, 2012, 2013, 2014, 2015], \"xaxis\": \"x\", \"y\": [6.85, 7.16, 7.73, 7.95, 8.19, 8.07, 8.05, 8.06, 8.01, 8.07, 8.14, 8.18, 8.08, 7.97, 8.02, 8.01, 7.96, 7.92, 8.02, 8.0], \"yaxis\": \"y\"}, {\"hovertemplate\": \"country=Chile<br>year=%{x}<br>economic_freedom=%{y}<extra></extra>\", \"legendgroup\": \"Chile\", \"line\": {\"color\": \"#EF553B\", \"dash\": \"solid\"}, \"mode\": \"lines\", \"name\": \"Chile\", \"orientation\": \"v\", \"showlegend\": true, \"type\": \"scatter\", \"x\": [1980, 1985, 1990, 1995, 2000, 2001, 2002, 2003, 2004, 2005, 2006, 2007, 2008, 2009, 2010, 2011, 2012, 2013, 2014, 2015], \"xaxis\": \"x\", \"y\": [5.05, 5.55, 6.61, 7.37, 7.36, 7.37, 7.6, 7.76, 7.71, 7.74, 7.76, 7.87, 7.8, 7.87, 7.89, 7.91, 7.81, 7.88, 7.84, 7.79], \"yaxis\": \"y\"}, {\"hovertemplate\": \"country=Denmark<br>year=%{x}<br>economic_freedom=%{y}<extra></extra>\", \"legendgroup\": \"Denmark\", \"line\": {\"color\": \"#00cc96\", \"dash\": \"solid\"}, \"mode\": \"lines\", \"name\": \"Denmark\", \"orientation\": \"v\", \"showlegend\": true, \"type\": \"scatter\", \"x\": [1980, 1985, 1990, 1995, 2000, 2001, 2002, 2003, 2004, 2005, 2006, 2007, 2008, 2009, 2010, 2011, 2012, 2013, 2014, 2015], \"xaxis\": \"x\", \"y\": [6.24, 6.37, 7.16, 7.73, 8.06, 7.88, 7.88, 8.01, 8.0, 7.89, 7.97, 7.97, 7.88, 7.66, 7.77, 7.71, 7.56, 7.68, 7.81, 7.75], \"yaxis\": \"y\"}, {\"hovertemplate\": \"country=Estonia<br>year=%{x}<br>economic_freedom=%{y}<extra></extra>\", \"legendgroup\": \"Estonia\", \"line\": {\"color\": \"#ab63fa\", \"dash\": \"solid\"}, \"mode\": \"lines\", \"name\": \"Estonia\", \"orientation\": \"v\", \"showlegend\": true, \"type\": \"scatter\", \"x\": [1985, 1990, 1995, 2000, 2001, 2002, 2003, 2004, 2005, 2006, 2007, 2008, 2009, 2010, 2011, 2012, 2013, 2014, 2015], \"xaxis\": \"x\", \"y\": [6.536666666666667, 6.383333333333334, 6.23, 7.6, 7.67, 7.72, 7.84, 7.98, 7.96, 7.97, 7.85, 7.77, 7.7, 7.82, 7.74, 7.68, 7.7, 7.79, 7.93], \"yaxis\": \"y\"}, {\"hovertemplate\": \"country=Georgia<br>year=%{x}<br>economic_freedom=%{y}<extra></extra>\", \"legendgroup\": \"Georgia\", \"line\": {\"color\": \"#FFA15A\", \"dash\": \"solid\"}, \"mode\": \"lines\", \"name\": \"Georgia\", \"orientation\": \"v\", \"showlegend\": true, \"type\": \"scatter\", \"x\": [1985, 1990, 1995, 2000, 2001, 2002, 2003, 2004, 2005, 2006, 2007, 2008, 2009, 2010, 2011, 2012, 2013, 2014, 2015], \"xaxis\": \"x\", \"y\": [7.247999999999999, 7.225, 7.202000000000001, 7.178999999999999, 7.1560000000000015, 7.132999999999999, 7.11, 6.96, 7.42, 7.6, 7.46, 7.57, 7.41, 7.5, 7.64, 7.75, 7.87, 8.02, 7.98], \"yaxis\": \"y\"}, {\"hovertemplate\": \"country=Lithuania<br>year=%{x}<br>economic_freedom=%{y}<extra></extra>\", \"legendgroup\": \"Lithuania\", \"line\": {\"color\": \"#19d3f3\", \"dash\": \"solid\"}, \"mode\": \"lines\", \"name\": \"Lithuania\", \"orientation\": \"v\", \"showlegend\": true, \"type\": \"scatter\", \"x\": [1985, 1990, 1995, 2000, 2001, 2002, 2003, 2004, 2005, 2006, 2007, 2008, 2009, 2010, 2011, 2012, 2013, 2014, 2015, 2016], \"xaxis\": \"x\", \"y\": [5.226666666666667, 5.348333333333333, 5.47, 6.92, 6.87, 7.18, 7.2, 7.41, 7.37, 7.46, 7.54, 7.44, 7.55, 7.47, 7.5, 7.52, 7.72, 7.91, 7.86, 7.86], \"yaxis\": \"y\"}, {\"hovertemplate\": \"country=Mauritius<br>year=%{x}<br>economic_freedom=%{y}<extra></extra>\", \"legendgroup\": \"Mauritius\", \"line\": {\"color\": \"#FF6692\", \"dash\": \"solid\"}, \"mode\": \"lines\", \"name\": \"Mauritius\", \"orientation\": \"v\", \"showlegend\": true, \"type\": \"scatter\", \"x\": [1980, 1985, 1990, 1995, 2000, 2001, 2002, 2003, 2004, 2005, 2006, 2007, 2008, 2009, 2010, 2011, 2012, 2013, 2014, 2015, 2016], \"xaxis\": \"x\", \"y\": [4.9, 6.38, 6.12, 7.81, 7.54, 7.45, 7.29, 7.21, 7.05, 7.53, 7.37, 7.89, 7.96, 7.85, 7.98, 8.05, 8.15, 8.12, 8.02, 8.02, 8.01], \"yaxis\": \"y\"}, {\"hovertemplate\": \"country=Singapore<br>year=%{x}<br>economic_freedom=%{y}<extra></extra>\", \"legendgroup\": \"Singapore\", \"line\": {\"color\": \"#B6E880\", \"dash\": \"solid\"}, \"mode\": \"lines\", \"name\": \"Singapore\", \"orientation\": \"v\", \"showlegend\": true, \"type\": \"scatter\", \"x\": [1980, 1985, 1990, 1995, 2000, 2001, 2002, 2003, 2004, 2005, 2006, 2007, 2008, 2009, 2010, 2011, 2012, 2013, 2014, 2015], \"xaxis\": \"x\", \"y\": [7.42, 7.65, 8.49, 8.88, 8.7, 8.67, 8.79, 8.73, 8.8, 8.91, 8.98, 8.96, 8.92, 8.77, 8.76, 8.76, 8.64, 8.64, 8.84, 8.84], \"yaxis\": \"y\"}, {\"hovertemplate\": \"country=Switzerland<br>year=%{x}<br>economic_freedom=%{y}<extra></extra>\", \"legendgroup\": \"Switzerland\", \"line\": {\"color\": \"#FF97FF\", \"dash\": \"solid\"}, \"mode\": \"lines\", \"name\": \"Switzerland\", \"orientation\": \"v\", \"showlegend\": true, \"type\": \"scatter\", \"x\": [1980, 1985, 1990, 1995, 2000, 2001, 2002, 2003, 2004, 2005, 2006, 2007, 2008, 2009, 2010, 2011, 2012, 2013, 2014, 2015], \"xaxis\": \"x\", \"y\": [7.62, 8.15, 8.21, 8.16, 8.73, 8.55, 8.64, 8.56, 8.5, 8.37, 8.42, 8.43, 8.24, 8.26, 8.3, 8.23, 8.2, 8.22, 8.31, 8.37], \"yaxis\": \"y\"}, {\"hovertemplate\": \"country=United Kingdom<br>year=%{x}<br>economic_freedom=%{y}<extra></extra>\", \"legendgroup\": \"United Kingdom\", \"line\": {\"color\": \"#FECB52\", \"dash\": \"solid\"}, \"mode\": \"lines\", \"name\": \"United Kingdom\", \"orientation\": \"v\", \"showlegend\": true, \"type\": \"scatter\", \"x\": [1980, 1985, 1990, 1995, 2000, 2001, 2002, 2003, 2004, 2005, 2006, 2007, 2008, 2009, 2010, 2011, 2012, 2013, 2014, 2015, 2016], \"xaxis\": \"x\", \"y\": [6.72, 7.71, 8.18, 8.21, 8.56, 8.45, 8.46, 8.47, 8.34, 8.3, 8.2, 8.13, 7.99, 8.08, 7.89, 7.9, 7.91, 7.96, 7.91, 8.01, 8.0], \"yaxis\": \"y\"}],                        {\"legend\": {\"title\": {\"text\": \"country\"}, \"tracegroupgap\": 0}, \"margin\": {\"t\": 60}, \"template\": {\"data\": {\"bar\": [{\"error_x\": {\"color\": \"#2a3f5f\"}, \"error_y\": {\"color\": \"#2a3f5f\"}, \"marker\": {\"line\": {\"color\": \"#E5ECF6\", \"width\": 0.5}}, \"type\": \"bar\"}], \"barpolar\": [{\"marker\": {\"line\": {\"color\": \"#E5ECF6\", \"width\": 0.5}}, \"type\": \"barpolar\"}], \"carpet\": [{\"aaxis\": {\"endlinecolor\": \"#2a3f5f\", \"gridcolor\": \"white\", \"linecolor\": \"white\", \"minorgridcolor\": \"white\", \"startlinecolor\": \"#2a3f5f\"}, \"baxis\": {\"endlinecolor\": \"#2a3f5f\", \"gridcolor\": \"white\", \"linecolor\": \"white\", \"minorgridcolor\": \"white\", \"startlinecolor\": \"#2a3f5f\"}, \"type\": \"carpet\"}], \"choropleth\": [{\"colorbar\": {\"outlinewidth\": 0, \"ticks\": \"\"}, \"type\": \"choropleth\"}], \"contour\": [{\"colorbar\": {\"outlinewidth\": 0, \"ticks\": \"\"}, \"colorscale\": [[0.0, \"#0d0887\"], [0.1111111111111111, \"#46039f\"], [0.2222222222222222, \"#7201a8\"], [0.3333333333333333, \"#9c179e\"], [0.4444444444444444, \"#bd3786\"], [0.5555555555555556, \"#d8576b\"], [0.6666666666666666, \"#ed7953\"], [0.7777777777777778, \"#fb9f3a\"], [0.8888888888888888, \"#fdca26\"], [1.0, \"#f0f921\"]], \"type\": \"contour\"}], \"contourcarpet\": [{\"colorbar\": {\"outlinewidth\": 0, \"ticks\": \"\"}, \"type\": \"contourcarpet\"}], \"heatmap\": [{\"colorbar\": {\"outlinewidth\": 0, \"ticks\": \"\"}, \"colorscale\": [[0.0, \"#0d0887\"], [0.1111111111111111, \"#46039f\"], [0.2222222222222222, \"#7201a8\"], [0.3333333333333333, \"#9c179e\"], [0.4444444444444444, \"#bd3786\"], [0.5555555555555556, \"#d8576b\"], [0.6666666666666666, \"#ed7953\"], [0.7777777777777778, \"#fb9f3a\"], [0.8888888888888888, \"#fdca26\"], [1.0, \"#f0f921\"]], \"type\": \"heatmap\"}], \"heatmapgl\": [{\"colorbar\": {\"outlinewidth\": 0, \"ticks\": \"\"}, \"colorscale\": [[0.0, \"#0d0887\"], [0.1111111111111111, \"#46039f\"], [0.2222222222222222, \"#7201a8\"], [0.3333333333333333, \"#9c179e\"], [0.4444444444444444, \"#bd3786\"], [0.5555555555555556, \"#d8576b\"], [0.6666666666666666, \"#ed7953\"], [0.7777777777777778, \"#fb9f3a\"], [0.8888888888888888, \"#fdca26\"], [1.0, \"#f0f921\"]], \"type\": \"heatmapgl\"}], \"histogram\": [{\"marker\": {\"colorbar\": {\"outlinewidth\": 0, \"ticks\": \"\"}}, \"type\": \"histogram\"}], \"histogram2d\": [{\"colorbar\": {\"outlinewidth\": 0, \"ticks\": \"\"}, \"colorscale\": [[0.0, \"#0d0887\"], [0.1111111111111111, \"#46039f\"], [0.2222222222222222, \"#7201a8\"], [0.3333333333333333, \"#9c179e\"], [0.4444444444444444, \"#bd3786\"], [0.5555555555555556, \"#d8576b\"], [0.6666666666666666, \"#ed7953\"], [0.7777777777777778, \"#fb9f3a\"], [0.8888888888888888, \"#fdca26\"], [1.0, \"#f0f921\"]], \"type\": \"histogram2d\"}], \"histogram2dcontour\": [{\"colorbar\": {\"outlinewidth\": 0, \"ticks\": \"\"}, \"colorscale\": [[0.0, \"#0d0887\"], [0.1111111111111111, \"#46039f\"], [0.2222222222222222, \"#7201a8\"], [0.3333333333333333, \"#9c179e\"], [0.4444444444444444, \"#bd3786\"], [0.5555555555555556, \"#d8576b\"], [0.6666666666666666, \"#ed7953\"], [0.7777777777777778, \"#fb9f3a\"], [0.8888888888888888, \"#fdca26\"], [1.0, \"#f0f921\"]], \"type\": \"histogram2dcontour\"}], \"mesh3d\": [{\"colorbar\": {\"outlinewidth\": 0, \"ticks\": \"\"}, \"type\": \"mesh3d\"}], \"parcoords\": [{\"line\": {\"colorbar\": {\"outlinewidth\": 0, \"ticks\": \"\"}}, \"type\": \"parcoords\"}], \"pie\": [{\"automargin\": true, \"type\": \"pie\"}], \"scatter\": [{\"marker\": {\"colorbar\": {\"outlinewidth\": 0, \"ticks\": \"\"}}, \"type\": \"scatter\"}], \"scatter3d\": [{\"line\": {\"colorbar\": {\"outlinewidth\": 0, \"ticks\": \"\"}}, \"marker\": {\"colorbar\": {\"outlinewidth\": 0, \"ticks\": \"\"}}, \"type\": \"scatter3d\"}], \"scattercarpet\": [{\"marker\": {\"colorbar\": {\"outlinewidth\": 0, \"ticks\": \"\"}}, \"type\": \"scattercarpet\"}], \"scattergeo\": [{\"marker\": {\"colorbar\": {\"outlinewidth\": 0, \"ticks\": \"\"}}, \"type\": \"scattergeo\"}], \"scattergl\": [{\"marker\": {\"colorbar\": {\"outlinewidth\": 0, \"ticks\": \"\"}}, \"type\": \"scattergl\"}], \"scattermapbox\": [{\"marker\": {\"colorbar\": {\"outlinewidth\": 0, \"ticks\": \"\"}}, \"type\": \"scattermapbox\"}], \"scatterpolar\": [{\"marker\": {\"colorbar\": {\"outlinewidth\": 0, \"ticks\": \"\"}}, \"type\": \"scatterpolar\"}], \"scatterpolargl\": [{\"marker\": {\"colorbar\": {\"outlinewidth\": 0, \"ticks\": \"\"}}, \"type\": \"scatterpolargl\"}], \"scatterternary\": [{\"marker\": {\"colorbar\": {\"outlinewidth\": 0, \"ticks\": \"\"}}, \"type\": \"scatterternary\"}], \"surface\": [{\"colorbar\": {\"outlinewidth\": 0, \"ticks\": \"\"}, \"colorscale\": [[0.0, \"#0d0887\"], [0.1111111111111111, \"#46039f\"], [0.2222222222222222, \"#7201a8\"], [0.3333333333333333, \"#9c179e\"], [0.4444444444444444, \"#bd3786\"], [0.5555555555555556, \"#d8576b\"], [0.6666666666666666, \"#ed7953\"], [0.7777777777777778, \"#fb9f3a\"], [0.8888888888888888, \"#fdca26\"], [1.0, \"#f0f921\"]], \"type\": \"surface\"}], \"table\": [{\"cells\": {\"fill\": {\"color\": \"#EBF0F8\"}, \"line\": {\"color\": \"white\"}}, \"header\": {\"fill\": {\"color\": \"#C8D4E3\"}, \"line\": {\"color\": \"white\"}}, \"type\": \"table\"}]}, \"layout\": {\"annotationdefaults\": {\"arrowcolor\": \"#2a3f5f\", \"arrowhead\": 0, \"arrowwidth\": 1}, \"autotypenumbers\": \"strict\", \"coloraxis\": {\"colorbar\": {\"outlinewidth\": 0, \"ticks\": \"\"}}, \"colorscale\": {\"diverging\": [[0, \"#8e0152\"], [0.1, \"#c51b7d\"], [0.2, \"#de77ae\"], [0.3, \"#f1b6da\"], [0.4, \"#fde0ef\"], [0.5, \"#f7f7f7\"], [0.6, \"#e6f5d0\"], [0.7, \"#b8e186\"], [0.8, \"#7fbc41\"], [0.9, \"#4d9221\"], [1, \"#276419\"]], \"sequential\": [[0.0, \"#0d0887\"], [0.1111111111111111, \"#46039f\"], [0.2222222222222222, \"#7201a8\"], [0.3333333333333333, \"#9c179e\"], [0.4444444444444444, \"#bd3786\"], [0.5555555555555556, \"#d8576b\"], [0.6666666666666666, \"#ed7953\"], [0.7777777777777778, \"#fb9f3a\"], [0.8888888888888888, \"#fdca26\"], [1.0, \"#f0f921\"]], \"sequentialminus\": [[0.0, \"#0d0887\"], [0.1111111111111111, \"#46039f\"], [0.2222222222222222, \"#7201a8\"], [0.3333333333333333, \"#9c179e\"], [0.4444444444444444, \"#bd3786\"], [0.5555555555555556, \"#d8576b\"], [0.6666666666666666, \"#ed7953\"], [0.7777777777777778, \"#fb9f3a\"], [0.8888888888888888, \"#fdca26\"], [1.0, \"#f0f921\"]]}, \"colorway\": [\"#636efa\", \"#EF553B\", \"#00cc96\", \"#ab63fa\", \"#FFA15A\", \"#19d3f3\", \"#FF6692\", \"#B6E880\", \"#FF97FF\", \"#FECB52\"], \"font\": {\"color\": \"#2a3f5f\"}, \"geo\": {\"bgcolor\": \"white\", \"lakecolor\": \"white\", \"landcolor\": \"#E5ECF6\", \"showlakes\": true, \"showland\": true, \"subunitcolor\": \"white\"}, \"hoverlabel\": {\"align\": \"left\"}, \"hovermode\": \"closest\", \"mapbox\": {\"style\": \"light\"}, \"paper_bgcolor\": \"white\", \"plot_bgcolor\": \"#E5ECF6\", \"polar\": {\"angularaxis\": {\"gridcolor\": \"white\", \"linecolor\": \"white\", \"ticks\": \"\"}, \"bgcolor\": \"#E5ECF6\", \"radialaxis\": {\"gridcolor\": \"white\", \"linecolor\": \"white\", \"ticks\": \"\"}}, \"scene\": {\"xaxis\": {\"backgroundcolor\": \"#E5ECF6\", \"gridcolor\": \"white\", \"gridwidth\": 2, \"linecolor\": \"white\", \"showbackground\": true, \"ticks\": \"\", \"zerolinecolor\": \"white\"}, \"yaxis\": {\"backgroundcolor\": \"#E5ECF6\", \"gridcolor\": \"white\", \"gridwidth\": 2, \"linecolor\": \"white\", \"showbackground\": true, \"ticks\": \"\", \"zerolinecolor\": \"white\"}, \"zaxis\": {\"backgroundcolor\": \"#E5ECF6\", \"gridcolor\": \"white\", \"gridwidth\": 2, \"linecolor\": \"white\", \"showbackground\": true, \"ticks\": \"\", \"zerolinecolor\": \"white\"}}, \"shapedefaults\": {\"line\": {\"color\": \"#2a3f5f\"}}, \"ternary\": {\"aaxis\": {\"gridcolor\": \"white\", \"linecolor\": \"white\", \"ticks\": \"\"}, \"baxis\": {\"gridcolor\": \"white\", \"linecolor\": \"white\", \"ticks\": \"\"}, \"bgcolor\": \"#E5ECF6\", \"caxis\": {\"gridcolor\": \"white\", \"linecolor\": \"white\", \"ticks\": \"\"}}, \"title\": {\"x\": 0.05}, \"xaxis\": {\"automargin\": true, \"gridcolor\": \"white\", \"linecolor\": \"white\", \"ticks\": \"\", \"title\": {\"standoff\": 15}, \"zerolinecolor\": \"white\", \"zerolinewidth\": 2}, \"yaxis\": {\"automargin\": true, \"gridcolor\": \"white\", \"linecolor\": \"white\", \"ticks\": \"\", \"title\": {\"standoff\": 15}, \"zerolinecolor\": \"white\", \"zerolinewidth\": 2}}}, \"xaxis\": {\"anchor\": \"y\", \"domain\": [0.0, 1.0], \"range\": [1990, 2015], \"title\": {\"text\": \"year\"}}, \"yaxis\": {\"anchor\": \"x\", \"domain\": [0.0, 1.0], \"title\": {\"text\": \"economic_freedom\"}}},                        {\"responsive\": true}                    ).then(function(){\n",
       "                            \n",
       "var gd = document.getElementById('5353cf8d-435d-497d-a4eb-63a479ec3aec');\n",
       "var x = new MutationObserver(function (mutations, observer) {{\n",
       "        var display = window.getComputedStyle(gd).display;\n",
       "        if (!display || display === 'none') {{\n",
       "            console.log([gd, 'removed!']);\n",
       "            Plotly.purge(gd);\n",
       "            observer.disconnect();\n",
       "        }}\n",
       "}});\n",
       "\n",
       "// Listen for the removal of the full notebook cells\n",
       "var notebookContainer = gd.closest('#notebook-container');\n",
       "if (notebookContainer) {{\n",
       "    x.observe(notebookContainer, {childList: true});\n",
       "}}\n",
       "\n",
       "// Listen for the clearing of the current output cell\n",
       "var outputEl = gd.closest('.output');\n",
       "if (outputEl) {{\n",
       "    x.observe(outputEl, {childList: true});\n",
       "}}\n",
       "\n",
       "                        })                };                });            </script>        </div>"
      ]
     },
     "metadata": {},
     "output_type": "display_data"
    }
   ],
   "source": [
    "top_efw_2015 = data[data.year==2015].sort_values(by='economic_freedom', ascending=False).head(10)\n",
    "\n",
    "countries = top_efw_2015.country.tolist()\n",
    "timeLine = data[data['country'].isin(countries)]\n",
    "\n",
    "\n",
    "fig = px.line(timeLine, x='year', y=\"economic_freedom\", color=\"country\", line_group=\"country\")\n",
    "fig.update_xaxes(range=[1990, 2015], row=1, col=1)\n",
    "fig.show()"
   ]
  }
 ],
 "metadata": {
  "celltoolbar": "Tags",
  "kernelspec": {
   "display_name": "Python 3",
   "language": "python",
   "name": "python3"
  },
  "language_info": {
   "codemirror_mode": {
    "name": "ipython",
    "version": 3
   },
   "file_extension": ".py",
   "mimetype": "text/x-python",
   "name": "python",
   "nbconvert_exporter": "python",
   "pygments_lexer": "ipython3",
   "version": "3.8.5"
  }
 },
 "nbformat": 4,
 "nbformat_minor": 2
}
